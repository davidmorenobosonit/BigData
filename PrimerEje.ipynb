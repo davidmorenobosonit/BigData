{
 "cells": [
  {
   "cell_type": "code",
   "execution_count": 11,
   "id": "4fce1fb6-126b-4964-b051-ef9da3224cc4",
   "metadata": {},
   "outputs": [],
   "source": [
    "import findspark\n",
    "findspark.init()"
   ]
  },
  {
   "cell_type": "code",
   "execution_count": 12,
   "id": "942d4d63-698c-4a38-a852-79ff7cbf1ffc",
   "metadata": {},
   "outputs": [],
   "source": [
    "from pyspark.sql import SparkSession"
   ]
  },
  {
   "cell_type": "code",
   "execution_count": 13,
   "id": "0aab53ab-00f7-418d-b0d7-a62753959e2a",
   "metadata": {},
   "outputs": [],
   "source": [
    "spark = SparkSession.builder.getOrCreate()"
   ]
  },
  {
   "cell_type": "code",
   "execution_count": 14,
   "id": "24b17182-b878-43ce-ad8e-a345c887cff9",
   "metadata": {},
   "outputs": [
    {
     "data": {
      "text/html": [
       "\n",
       "            <div>\n",
       "                <p><b>SparkSession - in-memory</b></p>\n",
       "                \n",
       "        <div>\n",
       "            <p><b>SparkContext</b></p>\n",
       "\n",
       "            <p><a href=\"http://5fcc63a3e7cf:4040\">Spark UI</a></p>\n",
       "\n",
       "            <dl>\n",
       "              <dt>Version</dt>\n",
       "                <dd><code>v3.2.1</code></dd>\n",
       "              <dt>Master</dt>\n",
       "                <dd><code>local[*]</code></dd>\n",
       "              <dt>AppName</dt>\n",
       "                <dd><code>pyspark-shell</code></dd>\n",
       "            </dl>\n",
       "        </div>\n",
       "        \n",
       "            </div>\n",
       "        "
      ],
      "text/plain": [
       "<pyspark.sql.session.SparkSession at 0x7f4f98440160>"
      ]
     },
     "execution_count": 14,
     "metadata": {},
     "output_type": "execute_result"
    }
   ],
   "source": [
    "spark"
   ]
  },
  {
   "cell_type": "code",
   "execution_count": 20,
   "id": "bd8a0eb2-6398-473c-aebd-27745a629a6f",
   "metadata": {},
   "outputs": [],
   "source": [
    "strings = spark.read.text(\"README.md\")"
   ]
  },
  {
   "cell_type": "code",
   "execution_count": 21,
   "id": "ababdaa1-abd5-4679-8bce-599a62698d7c",
   "metadata": {},
   "outputs": [
    {
     "name": "stdout",
     "output_type": "stream",
     "text": [
      "+--------------------------------------------------------------------------------+\n",
      "|value                                                                           |\n",
      "+--------------------------------------------------------------------------------+\n",
      "|# Apache Spark                                                                  |\n",
      "|                                                                                |\n",
      "|Spark is a unified analytics engine for large-scale data processing. It provides|\n",
      "|high-level APIs in Scala, Java, Python, and R, and an optimized engine that     |\n",
      "|supports general computation graphs for data analysis. It also supports a       |\n",
      "|rich set of higher-level tools including Spark SQL for SQL and DataFrames,      |\n",
      "|MLlib for machine learning, GraphX for graph processing,                        |\n",
      "|and Structured Streaming for stream processing.                                 |\n",
      "|                                                                                |\n",
      "|<https://spark.apache.org/>                                                     |\n",
      "+--------------------------------------------------------------------------------+\n",
      "only showing top 10 rows\n",
      "\n"
     ]
    }
   ],
   "source": [
    "strings.show(10,truncate=False)"
   ]
  },
  {
   "cell_type": "code",
   "execution_count": 17,
   "id": "02d5ce17-02df-4950-a924-5052f2eeaf5d",
   "metadata": {},
   "outputs": [
    {
     "data": {
      "text/plain": [
       "109"
      ]
     },
     "execution_count": 17,
     "metadata": {},
     "output_type": "execute_result"
    }
   ],
   "source": [
    "strings.count()"
   ]
  },
  {
   "cell_type": "code",
   "execution_count": 10,
   "id": "413f1f00-48c7-4c7b-ba4a-f68da97db872",
   "metadata": {},
   "outputs": [],
   "source": [
    "spark.stop()"
   ]
  },
  {
   "cell_type": "code",
   "execution_count": 23,
   "id": "730902cd-6254-4b51-8d49-b6a61a77a194",
   "metadata": {},
   "outputs": [],
   "source": [
    "filtered = strings.filter(strings.value.contains(\"Spark\"))"
   ]
  },
  {
   "cell_type": "code",
   "execution_count": 25,
   "id": "2ca2aac7-bf58-4e1e-92f4-4ea3aa8c748f",
   "metadata": {},
   "outputs": [
    {
     "name": "stdout",
     "output_type": "stream",
     "text": [
      "+-------------------------------------------------------------------------------------------------------------------------------------------------------------+\n",
      "|value                                                                                                                                                        |\n",
      "+-------------------------------------------------------------------------------------------------------------------------------------------------------------+\n",
      "|# Apache Spark                                                                                                                                               |\n",
      "|Spark is a unified analytics engine for large-scale data processing. It provides                                                                             |\n",
      "|rich set of higher-level tools including Spark SQL for SQL and DataFrames,                                                                                   |\n",
      "|[![PySpark Coverage](https://codecov.io/gh/apache/spark/branch/master/graph/badge.svg)](https://codecov.io/gh/apache/spark)                                  |\n",
      "|You can find the latest Spark documentation, including a programming                                                                                         |\n",
      "|## Building Spark                                                                                                                                            |\n",
      "|Spark is built using [Apache Maven](https://maven.apache.org/).                                                                                              |\n",
      "|To build Spark and its example programs, run:                                                                                                                |\n",
      "|[\"Building Spark\"](https://spark.apache.org/docs/latest/building-spark.html).                                                                                |\n",
      "|For general development tips, including info on developing Spark using an IDE, see [\"Useful Developer Tools\"](https://spark.apache.org/developer-tools.html).|\n",
      "|The easiest way to start using Spark is through the Scala shell:                                                                                             |\n",
      "|Spark also comes with several sample programs in the `examples` directory.                                                                                   |\n",
      "|    ./bin/run-example SparkPi                                                                                                                                |\n",
      "|    MASTER=spark://host:7077 ./bin/run-example SparkPi                                                                                                       |\n",
      "|Testing first requires [building Spark](#building-spark). Once Spark is built, tests                                                                         |\n",
      "|Spark uses the Hadoop core library to talk to HDFS and other Hadoop-supported                                                                                |\n",
      "|Hadoop, you must build Spark against the same version that your cluster runs.                                                                                |\n",
      "|in the online documentation for an overview on how to configure Spark.                                                                                       |\n",
      "|Please review the [Contribution to Spark guide](https://spark.apache.org/contributing.html)                                                                  |\n",
      "+-------------------------------------------------------------------------------------------------------------------------------------------------------------+\n",
      "\n"
     ]
    }
   ],
   "source": [
    "filtered.show(truncate=False)"
   ]
  },
  {
   "cell_type": "code",
   "execution_count": 26,
   "id": "556655a6-ff1b-4719-a6db-5410ca8ca67a",
   "metadata": {},
   "outputs": [
    {
     "data": {
      "text/plain": [
       "19"
      ]
     },
     "execution_count": 26,
     "metadata": {},
     "output_type": "execute_result"
    }
   ],
   "source": [
    "filtered.count()"
   ]
  },
  {
   "cell_type": "code",
   "execution_count": 27,
   "id": "30eec69b-2033-4cdc-b996-30b2201495fa",
   "metadata": {},
   "outputs": [],
   "source": [
    "spark.stop()"
   ]
  },
  {
   "cell_type": "code",
   "execution_count": null,
   "id": "1f62026a-c8ee-4bf4-a05b-509c83b9834e",
   "metadata": {},
   "outputs": [],
   "source": []
  }
 ],
 "metadata": {
  "kernelspec": {
   "display_name": "Python 3 (ipykernel)",
   "language": "python",
   "name": "python3"
  },
  "language_info": {
   "codemirror_mode": {
    "name": "ipython",
    "version": 3
   },
   "file_extension": ".py",
   "mimetype": "text/x-python",
   "name": "python",
   "nbconvert_exporter": "python",
   "pygments_lexer": "ipython3",
   "version": "3.9.12"
  }
 },
 "nbformat": 4,
 "nbformat_minor": 5
}
