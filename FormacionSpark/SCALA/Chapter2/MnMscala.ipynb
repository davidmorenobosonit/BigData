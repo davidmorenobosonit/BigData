{
 "cells": [
  {
   "cell_type": "code",
   "execution_count": 1,
   "id": "5a731289-a82c-4f97-a924-35d98dfdb823",
   "metadata": {},
   "outputs": [
    {
     "data": {
      "text/plain": [
       "Intitializing Scala interpreter ..."
      ]
     },
     "metadata": {},
     "output_type": "display_data"
    },
    {
     "data": {
      "text/plain": [
       "Spark Web UI available at http://5fcc63a3e7cf:4041\n",
       "SparkContext available as 'sc' (version = 3.2.1, master = local[*], app id = local-1654093362707)\n",
       "SparkSession available as 'spark'\n"
      ]
     },
     "metadata": {},
     "output_type": "display_data"
    },
    {
     "data": {
      "text/plain": [
       "res0: org.apache.spark.sql.SparkSession = org.apache.spark.sql.SparkSession@4805428d\n"
      ]
     },
     "execution_count": 1,
     "metadata": {},
     "output_type": "execute_result"
    }
   ],
   "source": [
    "spark"
   ]
  },
  {
   "cell_type": "code",
   "execution_count": 3,
   "id": "2d1aa147-0728-499e-8e13-314027b00f8f",
   "metadata": {},
   "outputs": [
    {
     "data": {
      "text/plain": [
       "res1: org.apache.spark.SparkContext = org.apache.spark.SparkContext@54ffd99b\n"
      ]
     },
     "execution_count": 3,
     "metadata": {},
     "output_type": "execute_result"
    }
   ],
   "source": [
    "sc"
   ]
  },
  {
   "cell_type": "code",
   "execution_count": 4,
   "id": "3c0a55c5-f9f5-472f-a801-0b1f28ed49cc",
   "metadata": {},
   "outputs": [
    {
     "data": {
      "text/plain": [
       "import org.apache.spark.sql.SparkSession\n"
      ]
     },
     "execution_count": 4,
     "metadata": {},
     "output_type": "execute_result"
    }
   ],
   "source": [
    "import org.apache.spark.sql.SparkSession"
   ]
  },
  {
   "cell_type": "code",
   "execution_count": 5,
   "id": "983fd141-bc4f-42a8-b675-0e42d8c66116",
   "metadata": {},
   "outputs": [
    {
     "data": {
      "text/plain": [
       "import org.apache.spark.sql.functions._\n"
      ]
     },
     "execution_count": 5,
     "metadata": {},
     "output_type": "execute_result"
    }
   ],
   "source": [
    "import org.apache.spark.sql.functions._"
   ]
  },
  {
   "cell_type": "code",
   "execution_count": 6,
   "id": "d467d6b6-8cb3-49f2-b156-bef72c71e76d",
   "metadata": {},
   "outputs": [
    {
     "data": {
      "text/plain": [
       "Spark: org.apache.spark.sql.SparkSession = org.apache.spark.sql.SparkSession@4805428d\n"
      ]
     },
     "execution_count": 6,
     "metadata": {},
     "output_type": "execute_result"
    }
   ],
   "source": [
    "val Spark = SparkSession.builder.appName(\"MnMCount\").getOrCreate()"
   ]
  },
  {
   "cell_type": "code",
   "execution_count": 7,
   "id": "1ef297cb-5f48-4053-a381-d7b51f0a6dd6",
   "metadata": {},
   "outputs": [
    {
     "data": {
      "text/plain": [
       "mnm: org.apache.spark.sql.DataFrame = [State: string, Color: string ... 1 more field]\n"
      ]
     },
     "execution_count": 7,
     "metadata": {},
     "output_type": "execute_result"
    }
   ],
   "source": [
    "val mnm = Spark.read.format(\"csv\")\n",
    "    .option(\"header\",\"true\")\n",
    "    .option(\"inferSchema\",\"true\")\n",
    "    .load(\"mnm_dataset.csv\")"
   ]
  },
  {
   "cell_type": "code",
   "execution_count": 8,
   "id": "70162f59-2c74-4984-896b-fffcf362ebd4",
   "metadata": {},
   "outputs": [
    {
     "name": "stdout",
     "output_type": "stream",
     "text": [
      "root\n",
      " |-- State: string (nullable = true)\n",
      " |-- Color: string (nullable = true)\n",
      " |-- Count: integer (nullable = true)\n",
      "\n"
     ]
    }
   ],
   "source": [
    "mnm.printSchema()"
   ]
  },
  {
   "cell_type": "code",
   "execution_count": 9,
   "id": "2f86696f-484c-4fff-9998-e1b648c24397",
   "metadata": {},
   "outputs": [
    {
     "data": {
      "text/plain": [
       "cuenta: org.apache.spark.sql.Dataset[org.apache.spark.sql.Row] = [State: string, Color: string ... 2 more fields]\n"
      ]
     },
     "execution_count": 9,
     "metadata": {},
     "output_type": "execute_result"
    }
   ],
   "source": [
    "val cuenta = mnm.select(\"State\",\"Color\",\"Count\")\n",
    "    .groupBy(\"State\",\"Color\")\n",
    "    .agg(count(\"Count\").alias(\"Total\"),sum(\"Count\").alias(\"Suma\"))\n",
    "    .orderBy(desc(\"Total\"))"
   ]
  },
  {
   "cell_type": "code",
   "execution_count": 10,
   "id": "63f7dbb1-16d2-4ea9-8656-97d06209ea99",
   "metadata": {},
   "outputs": [
    {
     "name": "stdout",
     "output_type": "stream",
     "text": [
      "+-----+------+-----+------+\n",
      "|State| Color|Total|  Suma|\n",
      "+-----+------+-----+------+\n",
      "|   CA|Yellow| 1807|100956|\n",
      "|   WA| Green| 1779| 96486|\n",
      "|   OR|Orange| 1743| 94514|\n",
      "|   TX| Green| 1737| 95753|\n",
      "|   TX|   Red| 1725| 95404|\n",
      "+-----+------+-----+------+\n",
      "only showing top 5 rows\n",
      "\n"
     ]
    }
   ],
   "source": [
    "cuenta.show(5)"
   ]
  },
  {
   "cell_type": "markdown",
   "id": "3f849568-6b44-4fcf-95b4-ffa5a655aa15",
   "metadata": {},
   "source": [
    "## Cuantas filas tiene la agregacion?"
   ]
  },
  {
   "cell_type": "code",
   "execution_count": 11,
   "id": "ace33d73-6f3d-4c14-aace-f08686a305e2",
   "metadata": {},
   "outputs": [
    {
     "data": {
      "text/plain": [
       "a: Long = 60\n"
      ]
     },
     "execution_count": 11,
     "metadata": {},
     "output_type": "execute_result"
    }
   ],
   "source": [
    "val a = cuenta.count()"
   ]
  },
  {
   "cell_type": "code",
   "execution_count": 17,
   "id": "184a697c-71f2-414d-800a-b23ed0717e9f",
   "metadata": {},
   "outputs": [
    {
     "name": "stdout",
     "output_type": "stream",
     "text": [
      "En total hay 60 registros"
     ]
    }
   ],
   "source": [
    "print(\"En total hay \" + a + \" registros\")"
   ]
  },
  {
   "cell_type": "code",
   "execution_count": 12,
   "id": "c1f27618-929c-4199-a8d5-9d611090acb0",
   "metadata": {},
   "outputs": [
    {
     "data": {
      "text/plain": [
       "cali: org.apache.spark.sql.Dataset[org.apache.spark.sql.Row] = [State: string, Color: string ... 2 more fields]\n"
      ]
     },
     "execution_count": 12,
     "metadata": {},
     "output_type": "execute_result"
    }
   ],
   "source": [
    "val cali = mnm.select(\"State\",\"Color\",\"Count\")\n",
    "    .where(col(\"State\")===\"CA\")\n",
    "    .groupBy(\"State\",\"Color\")\n",
    "    .agg(count(\"Count\").alias(\"Total\"),sum(\"Count\").alias(\"Suma\"))\n",
    "    .orderBy(desc(\"Total\"))"
   ]
  },
  {
   "cell_type": "code",
   "execution_count": 20,
   "id": "52bb3146-3dfd-465e-bf33-d52aac66724d",
   "metadata": {},
   "outputs": [
    {
     "name": "stdout",
     "output_type": "stream",
     "text": [
      "+-----+------+-----+------+\n",
      "|State| Color|Total|  Suma|\n",
      "+-----+------+-----+------+\n",
      "|   CA|Yellow| 1807|100956|\n",
      "|   CA| Green| 1723| 93505|\n",
      "|   CA| Brown| 1718| 95762|\n",
      "|   CA|Orange| 1657| 90311|\n",
      "|   CA|   Red| 1656| 91527|\n",
      "|   CA|  Blue| 1603| 89123|\n",
      "+-----+------+-----+------+\n",
      "\n"
     ]
    }
   ],
   "source": [
    "cali.show(10)"
   ]
  },
  {
   "cell_type": "code",
   "execution_count": 21,
   "id": "2f2fa21d-a369-4136-a4b4-064c81682c54",
   "metadata": {},
   "outputs": [],
   "source": [
    "Spark.stop()"
   ]
  },
  {
   "cell_type": "code",
   "execution_count": 22,
   "id": "aded206d-4722-47a4-98a2-6abe8b55dc48",
   "metadata": {},
   "outputs": [],
   "source": [
    "spark.stop()"
   ]
  },
  {
   "cell_type": "code",
   "execution_count": null,
   "id": "72aa6a39-cdca-46a8-89eb-f215479b9cf1",
   "metadata": {},
   "outputs": [],
   "source": []
  }
 ],
 "metadata": {
  "kernelspec": {
   "display_name": "spylon-kernel",
   "language": "scala",
   "name": "spylon-kernel"
  },
  "language_info": {
   "codemirror_mode": "text/x-scala",
   "file_extension": ".scala",
   "help_links": [
    {
     "text": "MetaKernel Magics",
     "url": "https://metakernel.readthedocs.io/en/latest/source/README.html"
    }
   ],
   "mimetype": "text/x-scala",
   "name": "scala",
   "pygments_lexer": "scala",
   "version": "0.4.1"
  }
 },
 "nbformat": 4,
 "nbformat_minor": 5
}
