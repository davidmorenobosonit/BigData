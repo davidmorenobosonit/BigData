{
 "cells": [
  {
   "cell_type": "code",
   "execution_count": 1,
   "id": "3f14b2af-5803-4d1f-942f-54d485f57400",
   "metadata": {},
   "outputs": [
    {
     "data": {
      "text/plain": [
       "Intitializing Scala interpreter ..."
      ]
     },
     "metadata": {},
     "output_type": "display_data"
    },
    {
     "data": {
      "text/plain": [
       "Spark Web UI available at http://5fcc63a3e7cf:4040\n",
       "SparkContext available as 'sc' (version = 3.2.1, master = local[*], app id = local-1654016178763)\n",
       "SparkSession available as 'spark'\n"
      ]
     },
     "metadata": {},
     "output_type": "display_data"
    },
    {
     "data": {
      "text/plain": [
       "res0: org.apache.spark.sql.SparkSession = org.apache.spark.sql.SparkSession@56462ff\n"
      ]
     },
     "execution_count": 1,
     "metadata": {},
     "output_type": "execute_result"
    }
   ],
   "source": [
    "spark"
   ]
  },
  {
   "cell_type": "code",
   "execution_count": 2,
   "id": "ee5b294a-90b3-46ec-a1ce-fd63f501fcb3",
   "metadata": {},
   "outputs": [
    {
     "data": {
      "text/plain": [
       "res1: org.apache.spark.SparkContext = org.apache.spark.SparkContext@4a41bc0e\n"
      ]
     },
     "execution_count": 2,
     "metadata": {},
     "output_type": "execute_result"
    }
   ],
   "source": [
    "sc"
   ]
  },
  {
   "cell_type": "code",
   "execution_count": 3,
   "id": "82d0167d-0b6d-4f72-92f3-f0c05624b2cf",
   "metadata": {},
   "outputs": [
    {
     "data": {
      "text/plain": [
       "res2: org.apache.spark.sql.SparkSession = org.apache.spark.sql.SparkSession@56462ff\n"
      ]
     },
     "execution_count": 3,
     "metadata": {},
     "output_type": "execute_result"
    }
   ],
   "source": [
    "spark"
   ]
  },
  {
   "cell_type": "code",
   "execution_count": 4,
   "id": "de20b92d-9523-4fee-b3a3-d886f4fdef60",
   "metadata": {},
   "outputs": [
    {
     "data": {
      "text/plain": [
       "strings: org.apache.spark.sql.DataFrame = [value: string]\n"
      ]
     },
     "execution_count": 4,
     "metadata": {},
     "output_type": "execute_result"
    }
   ],
   "source": [
    "val strings = spark.read.text(\"README.md\")"
   ]
  },
  {
   "cell_type": "code",
   "execution_count": 5,
   "id": "ab9e44db-e562-4949-99da-4a4828e53ea8",
   "metadata": {},
   "outputs": [
    {
     "name": "stdout",
     "output_type": "stream",
     "text": [
      "+--------------------------------------------------------------------------------+\n",
      "|value                                                                           |\n",
      "+--------------------------------------------------------------------------------+\n",
      "|# Apache Spark                                                                  |\n",
      "|                                                                                |\n",
      "|Spark is a unified analytics engine for large-scale data processing. It provides|\n",
      "|high-level APIs in Scala, Java, Python, and R, and an optimized engine that     |\n",
      "|supports general computation graphs for data analysis. It also supports a       |\n",
      "|rich set of higher-level tools including Spark SQL for SQL and DataFrames,      |\n",
      "|MLlib for machine learning, GraphX for graph processing,                        |\n",
      "|and Structured Streaming for stream processing.                                 |\n",
      "|                                                                                |\n",
      "|<https://spark.apache.org/>                                                     |\n",
      "+--------------------------------------------------------------------------------+\n",
      "only showing top 10 rows\n",
      "\n"
     ]
    }
   ],
   "source": [
    "strings.show(10,false)"
   ]
  },
  {
   "cell_type": "code",
   "execution_count": 6,
   "id": "44157e0c-ea71-4caf-b508-c7a4d829b60b",
   "metadata": {},
   "outputs": [
    {
     "data": {
      "text/plain": [
       "res4: Long = 109\n"
      ]
     },
     "execution_count": 6,
     "metadata": {},
     "output_type": "execute_result"
    }
   ],
   "source": [
    "strings.count()"
   ]
  },
  {
   "cell_type": "code",
   "execution_count": 4,
   "id": "188cbcb3-81cb-4e68-a237-4b16c2791fa0",
   "metadata": {},
   "outputs": [
    {
     "data": {
      "text/plain": [
       "import org.apache.spark.sql.functions._\n"
      ]
     },
     "execution_count": 4,
     "metadata": {},
     "output_type": "execute_result"
    }
   ],
   "source": [
    "import org.apache.spark.sql.functions._"
   ]
  },
  {
   "cell_type": "code",
   "execution_count": 5,
   "id": "ae4e5dbd-8663-4cba-85a1-a8bd475039ed",
   "metadata": {},
   "outputs": [
    {
     "data": {
      "text/plain": [
       "frases: org.apache.spark.sql.DataFrame = [value: string]\n"
      ]
     },
     "execution_count": 5,
     "metadata": {},
     "output_type": "execute_result"
    }
   ],
   "source": [
    "val frases = spark.read.text(\"README.md\")"
   ]
  },
  {
   "cell_type": "code",
   "execution_count": 7,
   "id": "87d0e1f1-93f8-4a26-be0d-28cffc5e61ea",
   "metadata": {},
   "outputs": [
    {
     "data": {
      "text/plain": [
       "filtro: org.apache.spark.sql.Dataset[org.apache.spark.sql.Row] = [value: string]\n"
      ]
     },
     "execution_count": 7,
     "metadata": {},
     "output_type": "execute_result"
    }
   ],
   "source": [
    "val filtro = frases.filter(col(\"value\").contains(\"Spark\"))"
   ]
  },
  {
   "cell_type": "code",
   "execution_count": 11,
   "id": "46303320-6a33-468a-a7b3-afa728201fb6",
   "metadata": {},
   "outputs": [
    {
     "name": "stdout",
     "output_type": "stream",
     "text": [
      "+--------------------+\n",
      "|               value|\n",
      "+--------------------+\n",
      "|      # Apache Spark|\n",
      "|Spark is a unifie...|\n",
      "+--------------------+\n",
      "only showing top 2 rows\n",
      "\n"
     ]
    }
   ],
   "source": [
    "filtro.show(2)"
   ]
  },
  {
   "cell_type": "code",
   "execution_count": 12,
   "id": "4ce42552-7715-4175-b197-4b3d868099b0",
   "metadata": {},
   "outputs": [
    {
     "data": {
      "text/plain": [
       "res7: Long = 19\n"
      ]
     },
     "execution_count": 12,
     "metadata": {},
     "output_type": "execute_result"
    }
   ],
   "source": [
    "filtro.count()"
   ]
  },
  {
   "cell_type": "code",
   "execution_count": null,
   "id": "a900601f-35cf-44d2-9f55-a19c7f7e4046",
   "metadata": {},
   "outputs": [],
   "source": []
  }
 ],
 "metadata": {
  "kernelspec": {
   "display_name": "spylon-kernel",
   "language": "scala",
   "name": "spylon-kernel"
  },
  "language_info": {
   "codemirror_mode": "text/x-scala",
   "file_extension": ".scala",
   "help_links": [
    {
     "text": "MetaKernel Magics",
     "url": "https://metakernel.readthedocs.io/en/latest/source/README.html"
    }
   ],
   "mimetype": "text/x-scala",
   "name": "scala",
   "pygments_lexer": "scala",
   "version": "0.4.1"
  }
 },
 "nbformat": 4,
 "nbformat_minor": 5
}
