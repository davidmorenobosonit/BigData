{
 "cells": [
  {
   "cell_type": "markdown",
   "id": "92fb52bf-56eb-4a77-aca5-ef93017f123b",
   "metadata": {},
   "source": [
    "# El quijote"
   ]
  },
  {
   "cell_type": "code",
   "execution_count": 1,
   "id": "af01c7e2-4710-4b3c-8f1b-dc194d6bb1f2",
   "metadata": {},
   "outputs": [
    {
     "data": {
      "text/plain": [
       "Intitializing Scala interpreter ..."
      ]
     },
     "metadata": {},
     "output_type": "display_data"
    },
    {
     "data": {
      "text/plain": [
       "Spark Web UI available at http://5fcc63a3e7cf:4040\n",
       "SparkContext available as 'sc' (version = 3.2.1, master = local[*], app id = local-1654074485333)\n",
       "SparkSession available as 'spark'\n"
      ]
     },
     "metadata": {},
     "output_type": "display_data"
    },
    {
     "data": {
      "text/plain": [
       "res0: org.apache.spark.sql.SparkSession = org.apache.spark.sql.SparkSession@59d3a730\n"
      ]
     },
     "execution_count": 1,
     "metadata": {},
     "output_type": "execute_result"
    }
   ],
   "source": [
    "spark"
   ]
  },
  {
   "cell_type": "code",
   "execution_count": 2,
   "id": "cded52eb-e20a-4159-a6de-8dee42979db9",
   "metadata": {},
   "outputs": [
    {
     "data": {
      "text/plain": [
       "res1: org.apache.spark.SparkContext = org.apache.spark.SparkContext@6534ed84\n"
      ]
     },
     "execution_count": 2,
     "metadata": {},
     "output_type": "execute_result"
    }
   ],
   "source": [
    "sc"
   ]
  },
  {
   "cell_type": "markdown",
   "id": "25f994f0-67b0-46a2-b119-7c5f1f4fbb10",
   "metadata": {},
   "source": [
    "# Lectura de archivos"
   ]
  },
  {
   "cell_type": "code",
   "execution_count": 4,
   "id": "ab7ac228-c9d7-45ac-a01f-d8e79f0b437c",
   "metadata": {},
   "outputs": [
    {
     "data": {
      "text/plain": [
       "texto: org.apache.spark.sql.DataFrame = [value: string]\n"
      ]
     },
     "execution_count": 4,
     "metadata": {},
     "output_type": "execute_result"
    }
   ],
   "source": [
    "val texto = spark.read.text(\"el_quijote.txt\")"
   ]
  },
  {
   "cell_type": "markdown",
   "id": "2492bce0-8365-4c36-b199-5e8be0f5f2a1",
   "metadata": {},
   "source": [
    "# Carga de funciones"
   ]
  },
  {
   "cell_type": "code",
   "execution_count": 12,
   "id": "cbc258a6-703a-4d89-a2a6-63dabf1d9179",
   "metadata": {},
   "outputs": [
    {
     "data": {
      "text/plain": [
       "import org.apache.spark.sql.functions._\n"
      ]
     },
     "execution_count": 12,
     "metadata": {},
     "output_type": "execute_result"
    }
   ],
   "source": [
    "import org.apache.spark.sql.functions._"
   ]
  },
  {
   "cell_type": "code",
   "execution_count": 13,
   "id": "bd3b33ba-50ac-47c3-bd1e-10c458218925",
   "metadata": {},
   "outputs": [
    {
     "name": "stdout",
     "output_type": "stream",
     "text": [
      "+----------------------------------------------------------------------------------------------+\n",
      "|value                                                                                         |\n",
      "+----------------------------------------------------------------------------------------------+\n",
      "|DON QUIJOTE DE LA MANCHA                                                                      |\n",
      "|Miguel de Cervantes Saavedra                                                                  |\n",
      "|                                                                                              |\n",
      "|PRIMERA PARTE                                                                                 |\n",
      "|CAPÍTULO 1: Que trata de la condición y ejercicio del famoso hidalgo D. Quijote de la Mancha|\n",
      "+----------------------------------------------------------------------------------------------+\n",
      "only showing top 5 rows\n",
      "\n"
     ]
    }
   ],
   "source": [
    "texto.show(5,truncate=false) // el truncate es para no tener la linea cortada"
   ]
  },
  {
   "cell_type": "markdown",
   "id": "3cb49f39-21c0-4c44-a49f-503df8f59488",
   "metadata": {},
   "source": [
    "# Head, tail y take"
   ]
  },
  {
   "cell_type": "code",
   "execution_count": 14,
   "id": "9abdc283-582c-4265-a5d8-ca7a040a6126",
   "metadata": {},
   "outputs": [
    {
     "data": {
      "text/plain": [
       "res7: Array[org.apache.spark.sql.Row] = Array([DON QUIJOTE DE LA MANCHA], [Miguel de Cervantes Saavedra])\n"
      ]
     },
     "execution_count": 14,
     "metadata": {},
     "output_type": "execute_result"
    }
   ],
   "source": [
    "texto.head(2)"
   ]
  },
  {
   "cell_type": "code",
   "execution_count": 17,
   "id": "ab1b7ee3-f855-4986-95a6-26a7599acca4",
   "metadata": {},
   "outputs": [
    {
     "data": {
      "text/plain": [
       "res13: Array[org.apache.spark.sql.Row] = Array([y tuvo asomos de dama; del gran Quijote fue llama, y fue gloria de su aldea.], [Estos fueron los versos que se pudieron leer; los demás, por estar carcomida la letra, se entregaron a un académico para que por conjeturas los declarase. Tiénese noticia que lo ha hecho, a costa de muchas vigilias y mucho trabajo, y que tiene intención de sacallos a luz, con esperanza de la tercera salida de don Quijote.], [Forse altri canterà con miglior plettro. FINIS])\n"
      ]
     },
     "execution_count": 17,
     "metadata": {},
     "output_type": "execute_result"
    }
   ],
   "source": [
    "texto.tail(3)"
   ]
  },
  {
   "cell_type": "code",
   "execution_count": 22,
   "id": "7a93adfc-53be-4b90-bd1d-4f66f4a199d9",
   "metadata": {},
   "outputs": [
    {
     "data": {
      "text/plain": [
       "res17: Array[org.apache.spark.sql.Row] = Array([DON QUIJOTE DE LA MANCHA], [Miguel de Cervantes Saavedra], [], [PRIMERA PARTE], [CAPÍTULO 1: Que trata de la condición y ejercicio del famoso hidalgo D. Quijote de la Mancha])\n"
      ]
     },
     "execution_count": 22,
     "metadata": {},
     "output_type": "execute_result"
    }
   ],
   "source": [
    "texto.take(5)"
   ]
  },
  {
   "cell_type": "code",
   "execution_count": 23,
   "id": "30e438ea-2766-46a9-8c69-65274f5e3a20",
   "metadata": {},
   "outputs": [
    {
     "data": {
      "text/plain": [
       "res18: org.apache.spark.sql.Row = [DON QUIJOTE DE LA MANCHA]\n"
      ]
     },
     "execution_count": 23,
     "metadata": {},
     "output_type": "execute_result"
    }
   ],
   "source": [
    "texto.first()"
   ]
  },
  {
   "cell_type": "code",
   "execution_count": 6,
   "id": "0de67475-033e-46f6-8591-41882651f403",
   "metadata": {},
   "outputs": [
    {
     "data": {
      "text/plain": [
       "res3: Long = 2186\n"
      ]
     },
     "execution_count": 6,
     "metadata": {},
     "output_type": "execute_result"
    }
   ],
   "source": [
    "texto.count()"
   ]
  },
  {
   "cell_type": "code",
   "execution_count": 15,
   "id": "7857a6be-c4eb-48ef-a41a-f34d3cc691b9",
   "metadata": {},
   "outputs": [
    {
     "data": {
      "text/plain": [
       "lineas: Array[org.apache.spark.sql.Row] = Array([DON QUIJOTE DE LA MANCHA], [Miguel de Cervantes Saavedra], [], [PRIMERA PARTE], [CAPÍTULO 1: Que trata de la condición y ejercicio del famoso hidalgo D. Quijote de la Mancha], [En un lugar de la Mancha, de cuyo nombre no quiero acordarme, no ha mucho tiempo que vivía un hidalgo de los de lanza en astillero, adarga antigua, rocín flaco y galgo corredor. Una olla de algo más vaca que carnero, salpicón las más noches, duelos y quebrantos los sábados, lentejas los viernes, algún palomino de añadidura los domingos, consumían las tres partes de su hacienda. El resto della concluían sayo de velarte, calzas de velludo para las fiestas con sus pantuflos de lo mismo, los días de entre semana se honraba con su vellori de lo más fino. T...\n"
      ]
     },
     "execution_count": 15,
     "metadata": {},
     "output_type": "execute_result"
    }
   ],
   "source": [
    "val lineas = texto.collect()"
   ]
  },
  {
   "cell_type": "code",
   "execution_count": 16,
   "id": "dad635ed-5911-4cb0-bed5-6674582fffc4",
   "metadata": {},
   "outputs": [
    {
     "name": "stdout",
     "output_type": "stream",
     "text": [
      "root\n",
      " |-- value: string (nullable = true)\n",
      "\n"
     ]
    }
   ],
   "source": [
    "texto.printSchema()"
   ]
  },
  {
   "cell_type": "code",
   "execution_count": 23,
   "id": "d260cbd2-6029-4e81-b068-8608fc594c0a",
   "metadata": {},
   "outputs": [
    {
     "ename": "<console>",
     "evalue": "30: error: missing parameter type",
     "output_type": "error",
     "traceback": [
      "<console>:30: error: missing parameter type",
      "       val palabras = texto.select(textos => textos.split(\" \"))",
      "                                   ^",
      ""
     ]
    }
   ],
   "source": [
    "val palabras = texto.textos => textos.split(\" \"))"
   ]
  },
  {
   "cell_type": "code",
   "execution_count": null,
   "id": "c2813b5e-17fc-4415-968e-b0a7bde46899",
   "metadata": {},
   "outputs": [],
   "source": []
  }
 ],
 "metadata": {
  "kernelspec": {
   "display_name": "spylon-kernel",
   "language": "scala",
   "name": "spylon-kernel"
  },
  "language_info": {
   "codemirror_mode": "text/x-scala",
   "file_extension": ".scala",
   "help_links": [
    {
     "text": "MetaKernel Magics",
     "url": "https://metakernel.readthedocs.io/en/latest/source/README.html"
    }
   ],
   "mimetype": "text/x-scala",
   "name": "scala",
   "pygments_lexer": "scala",
   "version": "0.4.1"
  }
 },
 "nbformat": 4,
 "nbformat_minor": 5
}
