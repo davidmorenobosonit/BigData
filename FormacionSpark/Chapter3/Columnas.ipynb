{
 "cells": [
  {
   "cell_type": "markdown",
   "id": "d3a4e072-cd04-4bb7-878b-432239536011",
   "metadata": {},
   "source": [
    "# Columns & Expressions*"
   ]
  },
  {
   "cell_type": "code",
   "execution_count": 1,
   "id": "4c9a29dc-f63f-4fc3-adbf-a2cb5d312bb9",
   "metadata": {},
   "outputs": [
    {
     "data": {
      "text/plain": [
       "Intitializing Scala interpreter ..."
      ]
     },
     "metadata": {},
     "output_type": "display_data"
    },
    {
     "data": {
      "text/plain": [
       "Spark Web UI available at http://5fcc63a3e7cf:4041\n",
       "SparkContext available as 'sc' (version = 3.2.1, master = local[*], app id = local-1654181211879)\n",
       "SparkSession available as 'spark'\n"
      ]
     },
     "metadata": {},
     "output_type": "display_data"
    },
    {
     "data": {
      "text/plain": [
       "res0: org.apache.spark.sql.SparkSession = org.apache.spark.sql.SparkSession@1d71bf29\n"
      ]
     },
     "execution_count": 1,
     "metadata": {},
     "output_type": "execute_result"
    }
   ],
   "source": [
    "spark"
   ]
  },
  {
   "cell_type": "code",
   "execution_count": 2,
   "id": "ace80100-4404-494d-8a66-71b6bc637ffa",
   "metadata": {},
   "outputs": [
    {
     "data": {
      "text/plain": [
       "res1: org.apache.spark.SparkContext = org.apache.spark.SparkContext@27429817\n"
      ]
     },
     "execution_count": 2,
     "metadata": {},
     "output_type": "execute_result"
    }
   ],
   "source": [
    "sc"
   ]
  },
  {
   "cell_type": "code",
   "execution_count": 4,
   "id": "6e381658-9b0c-4f1d-8ebc-ee8d475ac9aa",
   "metadata": {},
   "outputs": [
    {
     "data": {
      "text/plain": [
       "import org.apache.spark.sql.functions._\n"
      ]
     },
     "execution_count": 4,
     "metadata": {},
     "output_type": "execute_result"
    }
   ],
   "source": [
    "import org.apache.spark.sql.functions._"
   ]
  },
  {
   "cell_type": "markdown",
   "id": "f69c6ec3-63e1-4d55-b741-2a418c2a8d9b",
   "metadata": {},
   "source": [
    "## Cosas del Notebook anterior"
   ]
  },
  {
   "cell_type": "code",
   "execution_count": 6,
   "id": "01c3c2f4-3377-4210-b91e-71c47d6213be",
   "metadata": {},
   "outputs": [
    {
     "data": {
      "text/plain": [
       "import org.apache.spark.sql.types._\n"
      ]
     },
     "execution_count": 6,
     "metadata": {},
     "output_type": "execute_result"
    }
   ],
   "source": [
    "import org.apache.spark.sql.types._"
   ]
  },
  {
   "cell_type": "code",
   "execution_count": 31,
   "id": "1d6a1e95-7d0b-49c0-9be3-1d118155553d",
   "metadata": {},
   "outputs": [
    {
     "data": {
      "text/plain": [
       "schema: org.apache.spark.sql.types.StructType = StructType(StructField(Id,IntegerType,false), StructField(First,StringType,false), StructField(Last,StringType,false), StructField(Url,StringType,false), StructField(Published,StringType,false), StructField(Hits,IntegerType,false), StructField(Campaigns,ArrayType(StringType,true),false))\n"
      ]
     },
     "execution_count": 31,
     "metadata": {},
     "output_type": "execute_result"
    }
   ],
   "source": [
    "// CREO MI SCHEMA\n",
    "val schema = StructType(\n",
    "    Array(\n",
    "    StructField(\"Id\",IntegerType,false), //Creo que el falso indica si puede o no ser nulo\n",
    "    StructField(\"First\",StringType,false),\n",
    "    StructField(\"Last\",StringType,false),\n",
    "    StructField(\"Url\",StringType,false),\n",
    "    StructField(\"Published\",StringType,false),\n",
    "    StructField(\"Hits\",IntegerType,false),\n",
    "    StructField(\"Campaigns\",ArrayType(StringType),false)\n",
    "    )\n",
    "    )"
   ]
  },
  {
   "cell_type": "code",
   "execution_count": 32,
   "id": "8f572438-fac8-4351-9ada-465a48434045",
   "metadata": {},
   "outputs": [
    {
     "data": {
      "text/plain": [
       "dfBlog: org.apache.spark.sql.DataFrame = [Id: int, First: string ... 5 more fields]\n"
      ]
     },
     "execution_count": 32,
     "metadata": {},
     "output_type": "execute_result"
    }
   ],
   "source": [
    "val dfBlog = spark.read.schema(schema).json(\"blogs.json\")"
   ]
  },
  {
   "cell_type": "code",
   "execution_count": 33,
   "id": "54f58bc5-1045-4554-a06b-187562000d46",
   "metadata": {},
   "outputs": [
    {
     "name": "stdout",
     "output_type": "stream",
     "text": [
      "+---+---------+-------+-----------------+---------+-----+----------------------------+\n",
      "|Id |First    |Last   |Url              |Published|Hits |Campaigns                   |\n",
      "+---+---------+-------+-----------------+---------+-----+----------------------------+\n",
      "|1  |Jules    |Damji  |https://tinyurl.1|1/4/2016 |4535 |[twitter, LinkedIn]         |\n",
      "|2  |Brooke   |Wenig  |https://tinyurl.2|5/5/2018 |8908 |[twitter, LinkedIn]         |\n",
      "|3  |Denny    |Lee    |https://tinyurl.3|6/7/2019 |7659 |[web, twitter, FB, LinkedIn]|\n",
      "|4  |Tathagata|Das    |https://tinyurl.4|5/12/2018|10568|[twitter, FB]               |\n",
      "|5  |Matei    |Zaharia|https://tinyurl.5|5/14/2014|40578|[web, twitter, FB, LinkedIn]|\n",
      "|6  |Reynold  |Xin    |https://tinyurl.6|3/2/2015 |25568|[twitter, LinkedIn]         |\n",
      "+---+---------+-------+-----------------+---------+-----+----------------------------+\n",
      "\n"
     ]
    }
   ],
   "source": [
    "dfBlog.show(truncate = false)"
   ]
  },
  {
   "cell_type": "markdown",
   "id": "b3a81fb6-c0cb-417b-ae13-13904a3ba0d4",
   "metadata": {},
   "source": [
    "# ¿Qué podemos hacer con las columnas de un DataFrame en spark?"
   ]
  },
  {
   "cell_type": "code",
   "execution_count": 11,
   "id": "6c2279c9-4774-4f79-95d3-ad052acf6151",
   "metadata": {},
   "outputs": [
    {
     "data": {
      "text/plain": [
       "res4: Array[String] = Array(Id, First, Last, Url, Published, Hits, Campaigns)\n"
      ]
     },
     "execution_count": 11,
     "metadata": {},
     "output_type": "execute_result"
    }
   ],
   "source": [
    "// VEamos sus columnas\n",
    "dfBlog.columns"
   ]
  },
  {
   "cell_type": "code",
   "execution_count": 12,
   "id": "525f1711-c1bd-4b06-b5c5-5111847ecd56",
   "metadata": {},
   "outputs": [
    {
     "name": "stdout",
     "output_type": "stream",
     "text": [
      "root\n",
      " |-- Id: integer (nullable = true)\n",
      " |-- First: string (nullable = true)\n",
      " |-- Last: string (nullable = true)\n",
      " |-- Url: string (nullable = true)\n",
      " |-- Published: date (nullable = true)\n",
      " |-- Hits: integer (nullable = true)\n",
      " |-- Campaigns: array (nullable = true)\n",
      " |    |-- element: string (containsNull = true)\n",
      "\n"
     ]
    }
   ],
   "source": [
    "dfBlog.printSchema()"
   ]
  },
  {
   "cell_type": "code",
   "execution_count": 16,
   "id": "f5069226-e6d7-4ec4-969f-9eb7bc0f0ac0",
   "metadata": {},
   "outputs": [
    {
     "data": {
      "text/plain": [
       "res9: org.apache.spark.sql.Column = Id\n"
      ]
     },
     "execution_count": 16,
     "metadata": {},
     "output_type": "execute_result"
    }
   ],
   "source": [
    "dfBlog.col(\"Id\")"
   ]
  },
  {
   "cell_type": "code",
   "execution_count": 22,
   "id": "020e3551-3bc4-4b3f-844b-ed2325883bed",
   "metadata": {},
   "outputs": [
    {
     "name": "stdout",
     "output_type": "stream",
     "text": [
      "+----------+\n",
      "|(Hits * 2)|\n",
      "+----------+\n",
      "|      9070|\n",
      "|     17816|\n",
      "|     15318|\n",
      "|     21136|\n",
      "|     81156|\n",
      "|     51136|\n",
      "+----------+\n",
      "\n"
     ]
    }
   ],
   "source": [
    "// Vamos a utilizar expr para multiplicar\n",
    "dfBlog.select(expr(\"Hits*2\")).show()"
   ]
  },
  {
   "cell_type": "code",
   "execution_count": 23,
   "id": "6c09f461-c467-4578-923d-907d0ab1bcd8",
   "metadata": {},
   "outputs": [
    {
     "name": "stdout",
     "output_type": "stream",
     "text": [
      "+----------+\n",
      "|(Hits * 2)|\n",
      "+----------+\n",
      "|      9070|\n",
      "|     17816|\n",
      "|     15318|\n",
      "|     21136|\n",
      "|     81156|\n",
      "|     51136|\n",
      "+----------+\n",
      "\n"
     ]
    }
   ],
   "source": [
    "//Equivalentemente\n",
    "dfBlog.select($\"Hits\"*2).show()"
   ]
  },
  {
   "cell_type": "code",
   "execution_count": 27,
   "id": "64c48910-3008-46b0-931f-0a0127c65114",
   "metadata": {},
   "outputs": [
    {
     "name": "stdout",
     "output_type": "stream",
     "text": [
      "+----------+\n",
      "|(Hits * 2)|\n",
      "+----------+\n",
      "|      9070|\n",
      "|     17816|\n",
      "|     15318|\n",
      "|     21136|\n",
      "|     81156|\n",
      "|     51136|\n",
      "+----------+\n",
      "\n"
     ]
    }
   ],
   "source": [
    "// USAR $\"...\" es lo mismo que col(\"...\")\n",
    "dfBlog.select(col(\"Hits\")*2).show()"
   ]
  },
  {
   "cell_type": "markdown",
   "id": "ca28aabd-6fa6-4c58-8e75-4e9ad2f334dd",
   "metadata": {},
   "source": [
    "### Usar *2 con string\n"
   ]
  },
  {
   "cell_type": "code",
   "execution_count": 29,
   "id": "ecefe8ca-1b49-43d8-83e2-d7997931c6fa",
   "metadata": {},
   "outputs": [
    {
     "name": "stdout",
     "output_type": "stream",
     "text": [
      "+----------+\n",
      "|(Last * 2)|\n",
      "+----------+\n",
      "|      null|\n",
      "|      null|\n",
      "|      null|\n",
      "|      null|\n",
      "|      null|\n",
      "|      null|\n",
      "+----------+\n",
      "\n"
     ]
    }
   ],
   "source": [
    "dfBlog.select(col(\"Last\")*2).show()"
   ]
  },
  {
   "cell_type": "code",
   "execution_count": 30,
   "id": "13aa7e5b-4288-4b01-b612-3da8cb382170",
   "metadata": {},
   "outputs": [],
   "source": [
    "// devuelve nulo"
   ]
  },
  {
   "cell_type": "markdown",
   "id": "61e525db-97f6-4ca4-93f8-973719cfc14e",
   "metadata": {},
   "source": [
    "### Usar expresiones para condiciones"
   ]
  },
  {
   "cell_type": "code",
   "execution_count": 41,
   "id": "4bb13024-c30a-4a82-bbdf-0326c5c9a340",
   "metadata": {},
   "outputs": [
    {
     "data": {
      "text/plain": [
       "df1: org.apache.spark.sql.DataFrame = [Id: int, First: string ... 5 more fields]\n"
      ]
     },
     "execution_count": 41,
     "metadata": {},
     "output_type": "execute_result"
    }
   ],
   "source": [
    "val df1 = dfBlog.withColumnRenamed(\"Last\",\"Apellido\")"
   ]
  },
  {
   "cell_type": "code",
   "execution_count": 42,
   "id": "36cb39d0-ab39-4fa9-ac98-1aec63c6eb3d",
   "metadata": {},
   "outputs": [
    {
     "name": "stdout",
     "output_type": "stream",
     "text": [
      "root\n",
      " |-- Id: integer (nullable = true)\n",
      " |-- First: string (nullable = true)\n",
      " |-- Apellido: string (nullable = true)\n",
      " |-- Url: string (nullable = true)\n",
      " |-- Published: string (nullable = true)\n",
      " |-- Hits: integer (nullable = true)\n",
      " |-- Campaigns: array (nullable = true)\n",
      " |    |-- element: string (containsNull = true)\n",
      "\n"
     ]
    }
   ],
   "source": [
    "df1.printSchema"
   ]
  },
  {
   "cell_type": "code",
   "execution_count": 45,
   "id": "067697be-35ac-44bd-b45e-e3b1deaaa2b8",
   "metadata": {},
   "outputs": [
    {
     "name": "stdout",
     "output_type": "stream",
     "text": [
      "+---+---------+-------+-----------------+---------+-----+--------------------+---------+\n",
      "| Id|    First|   Last|              Url|Published| Hits|           Campaigns|NombreCol|\n",
      "+---+---------+-------+-----------------+---------+-----+--------------------+---------+\n",
      "|  1|    Jules|  Damji|https://tinyurl.1| 1/4/2016| 4535| [twitter, LinkedIn]|    false|\n",
      "|  2|   Brooke|  Wenig|https://tinyurl.2| 5/5/2018| 8908| [twitter, LinkedIn]|    false|\n",
      "|  3|    Denny|    Lee|https://tinyurl.3| 6/7/2019| 7659|[web, twitter, FB...|    false|\n",
      "|  4|Tathagata|    Das|https://tinyurl.4|5/12/2018|10568|       [twitter, FB]|     true|\n",
      "|  5|    Matei|Zaharia|https://tinyurl.5|5/14/2014|40578|[web, twitter, FB...|     true|\n",
      "|  6|  Reynold|    Xin|https://tinyurl.6| 3/2/2015|25568| [twitter, LinkedIn]|     true|\n",
      "+---+---------+-------+-----------------+---------+-----+--------------------+---------+\n",
      "\n"
     ]
    }
   ],
   "source": [
    "dfBlog.withColumn(\"NombreCol\", expr(\"Hits > 10000\")).show()"
   ]
  },
  {
   "cell_type": "markdown",
   "id": "58f55309-f9c7-4f9d-b954-cc814f9b0c92",
   "metadata": {},
   "source": [
    "### Concatenar cols"
   ]
  },
  {
   "cell_type": "code",
   "execution_count": 50,
   "id": "c81abda5-b9b1-432f-8e35-8767c52068a3",
   "metadata": {},
   "outputs": [
    {
     "name": "stdout",
     "output_type": "stream",
     "text": [
      "+---+---------+-------+-----------------+---------+-----+--------------------+-------------+\n",
      "| Id|    First|   Last|              Url|Published| Hits|           Campaigns|Concatenacion|\n",
      "+---+---------+-------+-----------------+---------+-----+--------------------+-------------+\n",
      "|  1|    Jules|  Damji|https://tinyurl.1| 1/4/2016| 4535| [twitter, LinkedIn]|   JulesDamji|\n",
      "|  2|   Brooke|  Wenig|https://tinyurl.2| 5/5/2018| 8908| [twitter, LinkedIn]|  BrookeWenig|\n",
      "|  3|    Denny|    Lee|https://tinyurl.3| 6/7/2019| 7659|[web, twitter, FB...|     DennyLee|\n",
      "|  4|Tathagata|    Das|https://tinyurl.4|5/12/2018|10568|       [twitter, FB]| TathagataDas|\n",
      "|  5|    Matei|Zaharia|https://tinyurl.5|5/14/2014|40578|[web, twitter, FB...| MateiZaharia|\n",
      "|  6|  Reynold|    Xin|https://tinyurl.6| 3/2/2015|25568| [twitter, LinkedIn]|   ReynoldXin|\n",
      "+---+---------+-------+-----------------+---------+-----+--------------------+-------------+\n",
      "\n"
     ]
    }
   ],
   "source": [
    "dfBlog.withColumn(\"Concatenacion\",concat($\"First\",$\"Last\")).show()"
   ]
  },
  {
   "cell_type": "code",
   "execution_count": 56,
   "id": "bc3e1d42-dd54-4bff-96cd-84356a4203cb",
   "metadata": {},
   "outputs": [
    {
     "name": "stdout",
     "output_type": "stream",
     "text": [
      "+---+---------+-------+-----------------+---------+-----+--------------------+-------------+\n",
      "| Id|    First|   Last|              Url|Published| Hits|           Campaigns|Concatenacion|\n",
      "+---+---------+-------+-----------------+---------+-----+--------------------+-------------+\n",
      "|  1|    Jules|  Damji|https://tinyurl.1| 1/4/2016| 4535| [twitter, LinkedIn]|   JulesDamji|\n",
      "|  2|   Brooke|  Wenig|https://tinyurl.2| 5/5/2018| 8908| [twitter, LinkedIn]|  BrookeWenig|\n",
      "|  3|    Denny|    Lee|https://tinyurl.3| 6/7/2019| 7659|[web, twitter, FB...|     DennyLee|\n",
      "|  4|Tathagata|    Das|https://tinyurl.4|5/12/2018|10568|       [twitter, FB]| TathagataDas|\n",
      "|  5|    Matei|Zaharia|https://tinyurl.5|5/14/2014|40578|[web, twitter, FB...| MateiZaharia|\n",
      "|  6|  Reynold|    Xin|https://tinyurl.6| 3/2/2015|25568| [twitter, LinkedIn]|   ReynoldXin|\n",
      "+---+---------+-------+-----------------+---------+-----+--------------------+-------------+\n",
      "\n"
     ]
    }
   ],
   "source": [
    "dfBlog.withColumn(\"Concatenacion\",concat(expr(\"First\"),expr(\"Last\"))).show()"
   ]
  },
  {
   "cell_type": "markdown",
   "id": "25efc461-c2db-4a98-906c-cca4ff70bdcc",
   "metadata": {},
   "source": [
    "### Similitud entre métodos"
   ]
  },
  {
   "cell_type": "code",
   "execution_count": 62,
   "id": "77312840-f6fc-45b1-953c-210883d7e8c7",
   "metadata": {},
   "outputs": [
    {
     "name": "stdout",
     "output_type": "stream",
     "text": [
      "+----+\n",
      "|Hits|\n",
      "+----+\n",
      "|4535|\n",
      "|8908|\n",
      "+----+\n",
      "only showing top 2 rows\n",
      "\n",
      "+----+\n",
      "|Hits|\n",
      "+----+\n",
      "|4535|\n",
      "|8908|\n",
      "+----+\n",
      "only showing top 2 rows\n",
      "\n",
      "+----+\n",
      "|Hits|\n",
      "+----+\n",
      "|4535|\n",
      "|8908|\n",
      "+----+\n",
      "only showing top 2 rows\n",
      "\n",
      "+----+\n",
      "|Hits|\n",
      "+----+\n",
      "|4535|\n",
      "|8908|\n",
      "+----+\n",
      "only showing top 2 rows\n",
      "\n"
     ]
    }
   ],
   "source": [
    "dfBlog.select(\"Hits\").show(2)\n",
    "dfBlog.select(col(\"Hits\")).show(2)\n",
    "dfBlog.select(expr(\"Hits\")).show(2)\n",
    "dfBlog.select($\"Hits\").show(2)"
   ]
  },
  {
   "cell_type": "markdown",
   "id": "e73781e5-e5c9-4576-a364-375c6dd3b9b6",
   "metadata": {},
   "source": [
    "### Ordenar DF"
   ]
  },
  {
   "cell_type": "code",
   "execution_count": 68,
   "id": "3ab8495b-b71a-4643-9fe0-a72d82d498cc",
   "metadata": {},
   "outputs": [
    {
     "name": "stdout",
     "output_type": "stream",
     "text": [
      "+---+---------+-------+-----------------+---------+-----+--------------------+\n",
      "| Id|    First|   Last|              Url|Published| Hits|           Campaigns|\n",
      "+---+---------+-------+-----------------+---------+-----+--------------------+\n",
      "|  6|  Reynold|    Xin|https://tinyurl.6| 3/2/2015|25568| [twitter, LinkedIn]|\n",
      "|  5|    Matei|Zaharia|https://tinyurl.5|5/14/2014|40578|[web, twitter, FB...|\n",
      "|  4|Tathagata|    Das|https://tinyurl.4|5/12/2018|10568|       [twitter, FB]|\n",
      "|  3|    Denny|    Lee|https://tinyurl.3| 6/7/2019| 7659|[web, twitter, FB...|\n",
      "|  2|   Brooke|  Wenig|https://tinyurl.2| 5/5/2018| 8908| [twitter, LinkedIn]|\n",
      "|  1|    Jules|  Damji|https://tinyurl.1| 1/4/2016| 4535| [twitter, LinkedIn]|\n",
      "+---+---------+-------+-----------------+---------+-----+--------------------+\n",
      "\n"
     ]
    }
   ],
   "source": [
    "dfBlog.sort($\"Id\".desc).show()"
   ]
  },
  {
   "cell_type": "markdown",
   "id": "e3c55a62-181a-4c97-81a2-cb9e776415bb",
   "metadata": {},
   "source": [
    "Mirar todo mejor en el archivo Chapter3.ipynb"
   ]
  },
  {
   "cell_type": "code",
   "execution_count": null,
   "id": "a3d1568c-b8b5-416d-85d3-86e374390395",
   "metadata": {},
   "outputs": [],
   "source": []
  }
 ],
 "metadata": {
  "kernelspec": {
   "display_name": "spylon-kernel",
   "language": "scala",
   "name": "spylon-kernel"
  },
  "language_info": {
   "codemirror_mode": "text/x-scala",
   "file_extension": ".scala",
   "help_links": [
    {
     "text": "MetaKernel Magics",
     "url": "https://metakernel.readthedocs.io/en/latest/source/README.html"
    }
   ],
   "mimetype": "text/x-scala",
   "name": "scala",
   "pygments_lexer": "scala",
   "version": "0.4.1"
  },
  "toc-autonumbering": false,
  "toc-showcode": false,
  "toc-showmarkdowntxt": false
 },
 "nbformat": 4,
 "nbformat_minor": 5
}
