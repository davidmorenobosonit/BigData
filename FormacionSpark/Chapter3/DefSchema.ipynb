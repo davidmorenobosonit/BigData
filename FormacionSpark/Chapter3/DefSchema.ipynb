{
 "cells": [
  {
   "cell_type": "code",
   "execution_count": 7,
   "id": "74f9e2ae-45b7-4b24-9a06-dbcce5fbf188",
   "metadata": {},
   "outputs": [
    {
     "data": {
      "text/plain": [
       "res2: org.apache.spark.sql.SparkSession = org.apache.spark.sql.SparkSession@1f751c60\n"
      ]
     },
     "execution_count": 7,
     "metadata": {},
     "output_type": "execute_result"
    }
   ],
   "source": [
    "spark"
   ]
  },
  {
   "cell_type": "code",
   "execution_count": 2,
   "id": "d94614c4-5e51-4a89-8bf6-d0814d7fb454",
   "metadata": {},
   "outputs": [
    {
     "data": {
      "text/plain": [
       "res1: org.apache.spark.SparkContext = org.apache.spark.SparkContext@27998450\n"
      ]
     },
     "execution_count": 2,
     "metadata": {},
     "output_type": "execute_result"
    }
   ],
   "source": [
    "sc"
   ]
  },
  {
   "cell_type": "code",
   "execution_count": 4,
   "id": "95cad0da-cabb-4b3e-884f-e587e1487f63",
   "metadata": {},
   "outputs": [
    {
     "data": {
      "text/plain": [
       "import org.apache.spark.sql.functions._\n"
      ]
     },
     "execution_count": 4,
     "metadata": {},
     "output_type": "execute_result"
    }
   ],
   "source": [
    "import org.apache.spark.sql.functions._"
   ]
  },
  {
   "cell_type": "code",
   "execution_count": 13,
   "id": "80a11d63-08cc-485a-aa7c-195b1fd20598",
   "metadata": {},
   "outputs": [
    {
     "data": {
      "text/plain": [
       "df: org.apache.spark.sql.DataFrame = [Nombre: string, Edad: int]\n"
      ]
     },
     "execution_count": 13,
     "metadata": {},
     "output_type": "execute_result"
    }
   ],
   "source": [
    "val df = spark.createDataFrame(Seq((\"Brooke\",20),(\"Denny\",31),(\"Jules\",30),(\"TD\",35),(\"Brooke\",35))).toDF(\"Nombre\",\"Edad\")"
   ]
  },
  {
   "cell_type": "code",
   "execution_count": 14,
   "id": "eb7366fe-778f-4239-b4e6-34f1a26b74fe",
   "metadata": {},
   "outputs": [
    {
     "name": "stdout",
     "output_type": "stream",
     "text": [
      "+------+----+\n",
      "|Nombre|Edad|\n",
      "+------+----+\n",
      "|Brooke|  20|\n",
      "| Denny|  31|\n",
      "| Jules|  30|\n",
      "|    TD|  35|\n",
      "|Brooke|  35|\n",
      "+------+----+\n",
      "\n"
     ]
    }
   ],
   "source": [
    "df.show()"
   ]
  },
  {
   "cell_type": "code",
   "execution_count": 18,
   "id": "5b3cefbb-9d35-4da8-8811-5ec245f510ca",
   "metadata": {},
   "outputs": [
    {
     "data": {
      "text/plain": [
       "dfmedia: org.apache.spark.sql.DataFrame = [Nombre: string, Media: double]\n"
      ]
     },
     "execution_count": 18,
     "metadata": {},
     "output_type": "execute_result"
    }
   ],
   "source": [
    "val dfmedia = df.groupBy(\"Nombre\").agg(avg(\"Edad\").alias(\"Media\"))"
   ]
  },
  {
   "cell_type": "code",
   "execution_count": 19,
   "id": "e28e568c-18ee-4d3d-8801-3a8142b382b5",
   "metadata": {},
   "outputs": [
    {
     "name": "stdout",
     "output_type": "stream",
     "text": [
      "+------+-----+\n",
      "|Nombre|Media|\n",
      "+------+-----+\n",
      "|Brooke| 27.5|\n",
      "| Denny| 31.0|\n",
      "| Jules| 30.0|\n",
      "|    TD| 35.0|\n",
      "+------+-----+\n",
      "\n"
     ]
    }
   ],
   "source": [
    "dfmedia.show()"
   ]
  },
  {
   "cell_type": "markdown",
   "id": "1f9e5a23-9e08-4000-801f-ce2366a6cc43",
   "metadata": {},
   "source": [
    "# Tipos de datps en SPARK"
   ]
  },
  {
   "cell_type": "code",
   "execution_count": 20,
   "id": "c27112ce-9aed-4a59-8b87-fd4cc835ec02",
   "metadata": {},
   "outputs": [
    {
     "data": {
      "text/plain": [
       "import org.apache.spark.sql.types._\n"
      ]
     },
     "execution_count": 20,
     "metadata": {},
     "output_type": "execute_result"
    }
   ],
   "source": [
    "import org.apache.spark.sql.types._"
   ]
  },
  {
   "cell_type": "code",
   "execution_count": 22,
   "id": "3dc155d8-ab62-4f9b-9834-5c6b495d3b82",
   "metadata": {},
   "outputs": [
    {
     "data": {
      "text/plain": [
       "nameTypes: org.apache.spark.sql.types.StringType.type = StringType\n"
      ]
     },
     "execution_count": 22,
     "metadata": {},
     "output_type": "execute_result"
    }
   ],
   "source": [
    "val nameTypes = StringType"
   ]
  },
  {
   "cell_type": "code",
   "execution_count": 23,
   "id": "67d85afe-eded-4ebc-a0dc-d47efd68ed1d",
   "metadata": {},
   "outputs": [
    {
     "data": {
      "text/plain": [
       "firsName: org.apache.spark.sql.types.StringType.type = StringType\n"
      ]
     },
     "execution_count": 23,
     "metadata": {},
     "output_type": "execute_result"
    }
   ],
   "source": [
    "val firsName = nameTypes"
   ]
  },
  {
   "cell_type": "code",
   "execution_count": 24,
   "id": "d1b302d2-52aa-46f5-a277-2db3bb5c0919",
   "metadata": {},
   "outputs": [
    {
     "data": {
      "text/plain": [
       "lastName: org.apache.spark.sql.types.StringType.type = StringType\n"
      ]
     },
     "execution_count": 24,
     "metadata": {},
     "output_type": "execute_result"
    }
   ],
   "source": [
    "val lastName = nameTypes"
   ]
  },
  {
   "cell_type": "markdown",
   "id": "2e472757-34bb-4cc6-a9c4-e7d9932d080e",
   "metadata": {},
   "source": [
    "# Definiendo SCHEMAS"
   ]
  },
  {
   "cell_type": "code",
   "execution_count": 25,
   "id": "8441caf4-b683-4342-8fc7-f244b28a5da3",
   "metadata": {},
   "outputs": [
    {
     "data": {
      "text/plain": [
       "schema: org.apache.spark.sql.types.StructType = StructType(StructField(Autor,StringType,false), StructField(Titulo,StringType,false), StructField(Pagina,IntegerType,false))\n"
      ]
     },
     "execution_count": 25,
     "metadata": {},
     "output_type": "execute_result"
    }
   ],
   "source": [
    "// FORMA PROGRAMACION\n",
    "val schema = StructType(\n",
    "    Array(\n",
    "    StructField(\"Autor\",StringType,false), //Creo que el falso indica si puede o no ser nulo\n",
    "    StructField(\"Titulo\",StringType,false),\n",
    "    StructField(\"Pagina\",IntegerType,false)\n",
    "    )\n",
    "    )"
   ]
  },
  {
   "cell_type": "code",
   "execution_count": 26,
   "id": "f6390bc2-2636-48e6-9cef-7f4cc2696133",
   "metadata": {},
   "outputs": [
    {
     "data": {
      "text/plain": [
       "schema2: String = autor STRING, titulo STRING, paginas INT\n"
      ]
     },
     "execution_count": 26,
     "metadata": {},
     "output_type": "execute_result"
    }
   ],
   "source": [
    "// FORMA FACIL (DDL)\n",
    "val schema2 = \"autor STRING, titulo STRING, paginas INT\""
   ]
  },
  {
   "cell_type": "code",
   "execution_count": null,
   "id": "8dabfd21-9553-4bce-bac6-7a11929dc4b1",
   "metadata": {},
   "outputs": [],
   "source": []
  }
 ],
 "metadata": {
  "kernelspec": {
   "display_name": "spylon-kernel",
   "language": "scala",
   "name": "spylon-kernel"
  },
  "language_info": {
   "codemirror_mode": "text/x-scala",
   "file_extension": ".scala",
   "help_links": [
    {
     "text": "MetaKernel Magics",
     "url": "https://metakernel.readthedocs.io/en/latest/source/README.html"
    }
   ],
   "mimetype": "text/x-scala",
   "name": "scala",
   "pygments_lexer": "scala",
   "version": "0.4.1"
  }
 },
 "nbformat": 4,
 "nbformat_minor": 5
}
