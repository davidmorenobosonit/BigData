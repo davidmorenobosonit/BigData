{
 "cells": [
  {
   "cell_type": "markdown",
   "id": "90dea3db-f3e2-4e74-ab42-6d691c401828",
   "metadata": {},
   "source": [
    "# Leer archivo JSON y hacerle un SCHEMA"
   ]
  },
  {
   "cell_type": "code",
   "execution_count": 1,
   "id": "dd5946d1-fcee-4d97-8651-b65a3716dfdf",
   "metadata": {},
   "outputs": [
    {
     "data": {
      "text/plain": [
       "Intitializing Scala interpreter ..."
      ]
     },
     "metadata": {},
     "output_type": "display_data"
    },
    {
     "data": {
      "text/plain": [
       "Spark Web UI available at http://5fcc63a3e7cf:4040\n",
       "SparkContext available as 'sc' (version = 3.2.1, master = local[*], app id = local-1654179139608)\n",
       "SparkSession available as 'spark'\n"
      ]
     },
     "metadata": {},
     "output_type": "display_data"
    },
    {
     "data": {
      "text/plain": [
       "res0: org.apache.spark.sql.SparkSession = org.apache.spark.sql.SparkSession@16a097f1\n"
      ]
     },
     "execution_count": 1,
     "metadata": {},
     "output_type": "execute_result"
    }
   ],
   "source": [
    "spark"
   ]
  },
  {
   "cell_type": "code",
   "execution_count": 2,
   "id": "a0a425c1-c671-4e06-bf8c-90278c298344",
   "metadata": {},
   "outputs": [
    {
     "data": {
      "text/plain": [
       "res1: org.apache.spark.SparkContext = org.apache.spark.SparkContext@1d7fd988\n"
      ]
     },
     "execution_count": 2,
     "metadata": {},
     "output_type": "execute_result"
    }
   ],
   "source": [
    "sc"
   ]
  },
  {
   "cell_type": "code",
   "execution_count": 3,
   "id": "f9a38193-dda0-4ffc-aac0-b07f3096b02e",
   "metadata": {},
   "outputs": [
    {
     "data": {
      "text/plain": [
       "import org.apache.spark.sql.types._\n"
      ]
     },
     "execution_count": 3,
     "metadata": {},
     "output_type": "execute_result"
    }
   ],
   "source": [
    "import org.apache.spark.sql.types._"
   ]
  },
  {
   "cell_type": "code",
   "execution_count": 4,
   "id": "42a799b5-b992-48da-9e20-697cdca6b90b",
   "metadata": {},
   "outputs": [
    {
     "data": {
      "text/plain": [
       "jsonfile: org.apache.spark.sql.DataFrame = [Campaigns: array<string>, First: string ... 5 more fields]\n"
      ]
     },
     "execution_count": 4,
     "metadata": {},
     "output_type": "execute_result"
    }
   ],
   "source": [
    "// cargamos el arvhivo JSON\n",
    "val jsonfile = spark.read.format(\"json\")\n",
    "    .load(\"blogs.json\")"
   ]
  },
  {
   "cell_type": "code",
   "execution_count": 5,
   "id": "ea098b74-041f-43d6-8f6f-1cda95d1715f",
   "metadata": {},
   "outputs": [
    {
     "name": "stdout",
     "output_type": "stream",
     "text": [
      "+--------------------+---------+-----+---+-------+---------+-----------------+\n",
      "|           Campaigns|    First| Hits| Id|   Last|Published|              Url|\n",
      "+--------------------+---------+-----+---+-------+---------+-----------------+\n",
      "| [twitter, LinkedIn]|    Jules| 4535|  1|  Damji| 1/4/2016|https://tinyurl.1|\n",
      "| [twitter, LinkedIn]|   Brooke| 8908|  2|  Wenig| 5/5/2018|https://tinyurl.2|\n",
      "|[web, twitter, FB...|    Denny| 7659|  3|    Lee| 6/7/2019|https://tinyurl.3|\n",
      "|       [twitter, FB]|Tathagata|10568|  4|    Das|5/12/2018|https://tinyurl.4|\n",
      "|[web, twitter, FB...|    Matei|40578|  5|Zaharia|5/14/2014|https://tinyurl.5|\n",
      "+--------------------+---------+-----+---+-------+---------+-----------------+\n",
      "only showing top 5 rows\n",
      "\n"
     ]
    }
   ],
   "source": [
    "jsonfile.show(5)"
   ]
  },
  {
   "cell_type": "code",
   "execution_count": 6,
   "id": "966783ca-e4ab-4bd8-af80-db3c666d1c7d",
   "metadata": {},
   "outputs": [
    {
     "data": {
      "text/plain": [
       "schema: org.apache.spark.sql.types.StructType = StructType(StructField(Id,IntegerType,false), StructField(First,StringType,false), StructField(Last,StringType,false), StructField(Url,StringType,false), StructField(Published,DateType,false), StructField(Hits,IntegerType,false), StructField(Campaigns,ArrayType(StringType,true),false))\n"
      ]
     },
     "execution_count": 6,
     "metadata": {},
     "output_type": "execute_result"
    }
   ],
   "source": [
    "// CREO MI SCHEMA\n",
    "val schema = StructType(\n",
    "    Array(\n",
    "    StructField(\"Id\",IntegerType,false), //Creo que el falso indica si puede o no ser nulo\n",
    "    StructField(\"First\",StringType,false),\n",
    "    StructField(\"Last\",StringType,false),\n",
    "    StructField(\"Url\",StringType,false),\n",
    "    StructField(\"Published\",DateType,false),\n",
    "    StructField(\"Hits\",IntegerType,false),\n",
    "    StructField(\"Campaigns\",ArrayType(StringType),false)\n",
    "    )\n",
    "    )"
   ]
  },
  {
   "cell_type": "code",
   "execution_count": 7,
   "id": "a018d0a7-b20f-4907-91ae-8245e55474af",
   "metadata": {},
   "outputs": [
    {
     "data": {
      "text/plain": [
       "dfBlog: org.apache.spark.sql.DataFrame = [Id: int, First: string ... 5 more fields]\n"
      ]
     },
     "execution_count": 7,
     "metadata": {},
     "output_type": "execute_result"
    }
   ],
   "source": [
    "val dfBlog = spark.read.schema(schema).json(\"blogs.json\")"
   ]
  },
  {
   "cell_type": "code",
   "execution_count": 8,
   "id": "a2e9ed22-b329-4bdf-bcb1-a1017848ba28",
   "metadata": {},
   "outputs": [
    {
     "name": "stdout",
     "output_type": "stream",
     "text": [
      "+---+---------+-------+-----------------+---------+-----+----------------------------+\n",
      "|Id |First    |Last   |Url              |Published|Hits |Campaigns                   |\n",
      "+---+---------+-------+-----------------+---------+-----+----------------------------+\n",
      "|1  |Jules    |Damji  |https://tinyurl.1|null     |4535 |[twitter, LinkedIn]         |\n",
      "|2  |Brooke   |Wenig  |https://tinyurl.2|null     |8908 |[twitter, LinkedIn]         |\n",
      "|3  |Denny    |Lee    |https://tinyurl.3|null     |7659 |[web, twitter, FB, LinkedIn]|\n",
      "|4  |Tathagata|Das    |https://tinyurl.4|null     |10568|[twitter, FB]               |\n",
      "|5  |Matei    |Zaharia|https://tinyurl.5|null     |40578|[web, twitter, FB, LinkedIn]|\n",
      "|6  |Reynold  |Xin    |https://tinyurl.6|null     |25568|[twitter, LinkedIn]         |\n",
      "+---+---------+-------+-----------------+---------+-----+----------------------------+\n",
      "\n"
     ]
    }
   ],
   "source": [
    "dfBlog.show(truncate = false)"
   ]
  },
  {
   "cell_type": "code",
   "execution_count": 9,
   "id": "dcb8d88d-2368-46ce-a583-49943f30e16f",
   "metadata": {},
   "outputs": [
    {
     "name": "stdout",
     "output_type": "stream",
     "text": [
      "root\n",
      " |-- Id: integer (nullable = true)\n",
      " |-- First: string (nullable = true)\n",
      " |-- Last: string (nullable = true)\n",
      " |-- Url: string (nullable = true)\n",
      " |-- Published: date (nullable = true)\n",
      " |-- Hits: integer (nullable = true)\n",
      " |-- Campaigns: array (nullable = true)\n",
      " |    |-- element: string (containsNull = true)\n",
      "\n"
     ]
    }
   ],
   "source": [
    "dfBlog.printSchema()"
   ]
  },
  {
   "cell_type": "code",
   "execution_count": null,
   "id": "6b9ecc9b-2240-4e6b-ba27-fc964bb3f7d4",
   "metadata": {},
   "outputs": [],
   "source": []
  }
 ],
 "metadata": {
  "kernelspec": {
   "display_name": "spylon-kernel",
   "language": "scala",
   "name": "spylon-kernel"
  },
  "language_info": {
   "codemirror_mode": "text/x-scala",
   "file_extension": ".scala",
   "help_links": [
    {
     "text": "MetaKernel Magics",
     "url": "https://metakernel.readthedocs.io/en/latest/source/README.html"
    }
   ],
   "mimetype": "text/x-scala",
   "name": "scala",
   "pygments_lexer": "scala",
   "version": "0.4.1"
  }
 },
 "nbformat": 4,
 "nbformat_minor": 5
}
