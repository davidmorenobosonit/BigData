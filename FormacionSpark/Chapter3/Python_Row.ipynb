{
 "cells": [
  {
   "cell_type": "markdown",
   "id": "6469147d-c8a0-4b2c-b0ca-aacc169b4b13",
   "metadata": {},
   "source": [
    "# Creamos objeto fila en python"
   ]
  },
  {
   "cell_type": "code",
   "execution_count": 9,
   "id": "d8edbc3c-9f2f-4814-acd7-dff4816a0289",
   "metadata": {},
   "outputs": [],
   "source": [
    "import findspark\n",
    "findspark.init()"
   ]
  },
  {
   "cell_type": "code",
   "execution_count": 11,
   "id": "3f5d2cc9-fb23-464f-808a-9465599e8eda",
   "metadata": {},
   "outputs": [],
   "source": [
    "from pyspark.sql import SparkSession\n",
    "spark = SparkSession.builder.getOrCreate()"
   ]
  },
  {
   "cell_type": "code",
   "execution_count": 1,
   "id": "9cbb5461-ef11-4c23-bb5d-759f23859308",
   "metadata": {},
   "outputs": [],
   "source": [
    "from pyspark.sql import Row"
   ]
  },
  {
   "cell_type": "code",
   "execution_count": 2,
   "id": "b82c700a-6fe2-40d1-92da-f5c798278143",
   "metadata": {},
   "outputs": [],
   "source": [
    "filablog = Row(6,\"Reynold\",\"Xin\",\"https//tinyurl.6\",255568,\"3/2/2015\",[\"twitter\",\"LinkedIn\"])"
   ]
  },
  {
   "cell_type": "code",
   "execution_count": 5,
   "id": "0a2334a5-7548-4abf-be91-9980ad9c7eed",
   "metadata": {},
   "outputs": [
    {
     "data": {
      "text/plain": [
       "['twitter', 'LinkedIn']"
      ]
     },
     "execution_count": 5,
     "metadata": {},
     "output_type": "execute_result"
    }
   ],
   "source": [
    "filablog[6]"
   ]
  },
  {
   "cell_type": "code",
   "execution_count": 6,
   "id": "f95879ae-99e0-4df8-a62c-e65f22d7965b",
   "metadata": {},
   "outputs": [],
   "source": [
    "filablog2 = Row(5,\"agatha\",\"christie\",\"https//youtube.com\",777,\"31/3/2012\",[\"Instagram\",\"LinkedIn\"])"
   ]
  },
  {
   "cell_type": "code",
   "execution_count": 13,
   "id": "d5c49dc2-d549-4996-9f7c-87809667810a",
   "metadata": {},
   "outputs": [],
   "source": [
    "autores = spark.createDataFrame([filablog,filablog2],[\"Id\",\"Nombre\",\"Apellido\",\"url\",\"Numero\",\"Fecha\",\"redes\"])"
   ]
  },
  {
   "cell_type": "code",
   "execution_count": 16,
   "id": "86776652-aba2-4bf2-ad12-30c9e5c6e7a7",
   "metadata": {},
   "outputs": [
    {
     "name": "stdout",
     "output_type": "stream",
     "text": [
      "+---+-------+--------+------------------+------+---------+---------------------+\n",
      "|Id |Nombre |Apellido|url               |Numero|Fecha    |redes                |\n",
      "+---+-------+--------+------------------+------+---------+---------------------+\n",
      "|6  |Reynold|Xin     |https//tinyurl.6  |255568|3/2/2015 |[twitter, LinkedIn]  |\n",
      "|5  |agatha |christie|https//youtube.com|777   |31/3/2012|[Instagram, LinkedIn]|\n",
      "+---+-------+--------+------------------+------+---------+---------------------+\n",
      "\n"
     ]
    }
   ],
   "source": [
    "autores.show(2,truncate=False)"
   ]
  },
  {
   "cell_type": "code",
   "execution_count": 15,
   "id": "0f7ccfb8-d466-4c90-9f52-e9d7b7ef06cf",
   "metadata": {},
   "outputs": [
    {
     "data": {
      "text/plain": [
       "[Row(Id=6, Nombre='Reynold', Apellido='Xin', url='https//tinyurl.6', Numero=255568, Fecha='3/2/2015', redes=['twitter', 'LinkedIn'])]"
      ]
     },
     "execution_count": 15,
     "metadata": {},
     "output_type": "execute_result"
    }
   ],
   "source": [
    "autores.take(1)"
   ]
  },
  {
   "cell_type": "code",
   "execution_count": null,
   "id": "2f5e2093-86f4-4961-8c76-de4ae2ca73c5",
   "metadata": {},
   "outputs": [],
   "source": []
  }
 ],
 "metadata": {
  "kernelspec": {
   "display_name": "Python 3 (ipykernel)",
   "language": "python",
   "name": "python3"
  },
  "language_info": {
   "codemirror_mode": {
    "name": "ipython",
    "version": 3
   },
   "file_extension": ".py",
   "mimetype": "text/x-python",
   "name": "python",
   "nbconvert_exporter": "python",
   "pygments_lexer": "ipython3",
   "version": "3.9.12"
  }
 },
 "nbformat": 4,
 "nbformat_minor": 5
}
