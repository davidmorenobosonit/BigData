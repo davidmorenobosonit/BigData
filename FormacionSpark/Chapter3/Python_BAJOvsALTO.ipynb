{
 "cells": [
  {
   "cell_type": "markdown",
   "id": "56f04226-5441-4a1d-8ff6-6990c997ce43",
   "metadata": {},
   "source": [
    "### Vamos a ver lo que nos ahorra trabajar con alto nivel"
   ]
  },
  {
   "cell_type": "code",
   "execution_count": 1,
   "id": "3e678cd1-d57e-42db-bdd0-ddbb0d6247a9",
   "metadata": {},
   "outputs": [],
   "source": [
    "import findspark\n",
    "findspark.init()"
   ]
  },
  {
   "cell_type": "code",
   "execution_count": 2,
   "id": "01df68a2-3fc3-47b9-8ae9-47d91551ec08",
   "metadata": {},
   "outputs": [],
   "source": [
    "from pyspark.sql import SparkSession"
   ]
  },
  {
   "cell_type": "code",
   "execution_count": 5,
   "id": "a5746fc6-1276-4942-a80d-14a51785eebf",
   "metadata": {},
   "outputs": [],
   "source": [
    "spark = SparkSession.builder.getOrCreate() #creacion de la SparkSession"
   ]
  },
  {
   "cell_type": "markdown",
   "id": "f8e9ec0d-220b-43c6-9f44-a286db887671",
   "metadata": {},
   "source": [
    "# Comenzamos en bajo nivel"
   ]
  },
  {
   "cell_type": "code",
   "execution_count": 4,
   "id": "206401f1-2892-4296-9818-45434f3b559d",
   "metadata": {},
   "outputs": [
    {
     "ename": "NameError",
     "evalue": "name 'sc' is not defined",
     "output_type": "error",
     "traceback": [
      "\u001b[0;31m---------------------------------------------------------------------------\u001b[0m",
      "\u001b[0;31mNameError\u001b[0m                                 Traceback (most recent call last)",
      "Input \u001b[0;32mIn [4]\u001b[0m, in \u001b[0;36m<cell line: 1>\u001b[0;34m()\u001b[0m\n\u001b[0;32m----> 1\u001b[0m dataRDD \u001b[38;5;241m=\u001b[39m \u001b[43msc\u001b[49m\u001b[38;5;241m.\u001b[39mparalelize([(\u001b[38;5;124m\"\u001b[39m\u001b[38;5;124mBrooke\u001b[39m\u001b[38;5;124m\"\u001b[39m,\u001b[38;5;241m20\u001b[39m),(\u001b[38;5;124m\"\u001b[39m\u001b[38;5;124mDenny\u001b[39m\u001b[38;5;124m\"\u001b[39m,\u001b[38;5;241m31\u001b[39m),(\u001b[38;5;124m\"\u001b[39m\u001b[38;5;124mJules\u001b[39m\u001b[38;5;124m\"\u001b[39m,\u001b[38;5;241m30\u001b[39m),(\u001b[38;5;124m\"\u001b[39m\u001b[38;5;124mTD\u001b[39m\u001b[38;5;124m\"\u001b[39m,\u001b[38;5;241m35\u001b[39m),(\u001b[38;5;124m\"\u001b[39m\u001b[38;5;124mBrooke\u001b[39m\u001b[38;5;124m\"\u001b[39m,\u001b[38;5;241m35\u001b[39m)])\n",
      "\u001b[0;31mNameError\u001b[0m: name 'sc' is not defined"
     ]
    }
   ],
   "source": [
    "dataRDD = sc.paralelize([(\"Brooke\",20),(\"Denny\",31),(\"Jules\",30),(\"TD\",35),(\"Brooke\",35)])"
   ]
  },
  {
   "cell_type": "markdown",
   "id": "015651b5-29ca-44af-9c1e-86eda277a97b",
   "metadata": {},
   "source": [
    "# Alto nivel (el bajo no va)"
   ]
  },
  {
   "cell_type": "code",
   "execution_count": 12,
   "id": "7177a47a-1ac3-4412-a00f-e0a9d01bbd69",
   "metadata": {},
   "outputs": [],
   "source": [
    "from pyspark.sql import SparkSession\n",
    "from pyspark.sql import functions as F"
   ]
  },
  {
   "cell_type": "code",
   "execution_count": 13,
   "id": "cf3a557b-574a-49e2-81f2-26862bce2a38",
   "metadata": {},
   "outputs": [],
   "source": [
    "spark = SparkSession.builder.appName(\"AuthorAges\").getOrCreate()"
   ]
  },
  {
   "cell_type": "code",
   "execution_count": 19,
   "id": "dbb07166-e24d-4757-a406-fbc9d6ae6a55",
   "metadata": {},
   "outputs": [
    {
     "name": "stdout",
     "output_type": "stream",
     "text": [
      "+------+----+\n",
      "|Nombre|Edad|\n",
      "+------+----+\n",
      "|Brooke|  20|\n",
      "| Denny|  31|\n",
      "| Jules|  30|\n",
      "|    TD|  35|\n",
      "|Brooke|  35|\n",
      "+------+----+\n",
      "\n"
     ]
    }
   ],
   "source": [
    "df = spark.createDataFrame([(\"Brooke\",20),(\"Denny\",31),(\"Jules\",30),(\"TD\",35),(\"Brooke\",35)],[\"Nombre\",\"Edad\"])\n",
    "df.show(10)"
   ]
  },
  {
   "cell_type": "code",
   "execution_count": 21,
   "id": "55cfe93b-8606-4ea3-ab67-3fb42ad4cc75",
   "metadata": {},
   "outputs": [],
   "source": [
    "dfmedia = df.groupBy(\"Nombre\")\\\n",
    "    .agg(F.avg(\"Edad\").alias(\"Media\"))"
   ]
  },
  {
   "cell_type": "code",
   "execution_count": 22,
   "id": "95457a95-dba8-4442-90ec-65f563dba842",
   "metadata": {},
   "outputs": [
    {
     "name": "stdout",
     "output_type": "stream",
     "text": [
      "+------+-----+\n",
      "|Nombre|Media|\n",
      "+------+-----+\n",
      "|Brooke| 27.5|\n",
      "| Denny| 31.0|\n",
      "| Jules| 30.0|\n",
      "|    TD| 35.0|\n",
      "+------+-----+\n",
      "\n"
     ]
    }
   ],
   "source": [
    "dfmedia.show()"
   ]
  },
  {
   "cell_type": "markdown",
   "id": "2961b9f4-cedc-4c57-a8c5-5f0cb9577c5a",
   "metadata": {},
   "source": [
    "# Definiendo ScHEMAS"
   ]
  },
  {
   "cell_type": "code",
   "execution_count": 24,
   "id": "d807290c-2b6f-4ed8-9ab0-d5b3c0452111",
   "metadata": {},
   "outputs": [],
   "source": [
    "from pyspark.sql.types import *"
   ]
  },
  {
   "cell_type": "code",
   "execution_count": 25,
   "id": "6036300c-f149-4f14-9837-1dedd2e94842",
   "metadata": {},
   "outputs": [],
   "source": [
    "schema = StructType([\n",
    "    StructField(\"author\", StringType(), False),\n",
    "    StructField(\"title\", StringType(), False),\n",
    "    StructField(\"pages\", IntegerType(), False)\n",
    "    ])"
   ]
  },
  {
   "cell_type": "code",
   "execution_count": 27,
   "id": "ec0c9748-93d0-4fde-b6c2-1a7e28ef6764",
   "metadata": {},
   "outputs": [],
   "source": [
    "schema2 = \"autor STRING, Titulo STRING, pages INT\""
   ]
  },
  {
   "cell_type": "markdown",
   "id": "cb026171-3078-43b1-8445-3564c18e55cd",
   "metadata": {},
   "source": [
    "### Ejemplo"
   ]
  },
  {
   "cell_type": "code",
   "execution_count": 28,
   "id": "37e19eb4-8846-45e5-a90a-ffc37a955956",
   "metadata": {},
   "outputs": [],
   "source": [
    "data = [[1, \"Jules\", \"Damji\", \"https://tinyurl.1\", \"1/4/2016\", 4535, [\"twitter\",\"LinkedIn\"]],\n",
    "    [2, \"Brooke\",\"Wenig\", \"https://tinyurl.2\", \"5/5/2018\", 8908, [\"twitter\",\"LinkedIn\"]],\n",
    "    [3, \"Denny\", \"Lee\", \"https://tinyurl.3\", \"6/7/2019\", 7659, [\"web\",\"twitter\", \"FB\", \"LinkedIn\"]],\n",
    "    [4, \"Tathagata\", \"Das\", \"https://tinyurl.4\", \"5/12/2018\", 10568,\n",
    "    [\"twitter\", \"FB\"]],\n",
    "    [5, \"Matei\",\"Zaharia\", \"https://tinyurl.5\", \"5/14/2014\", 40578, [\"web\",\"twitter\", \"FB\", \"LinkedIn\"]],\n",
    "    [6, \"Reynold\", \"Xin\", \"https://tinyurl.6\", \"3/2/2015\", 25568,[\"twitter\", \"LinkedIn\"]]]"
   ]
  },
  {
   "cell_type": "code",
   "execution_count": 31,
   "id": "06220cdd-debc-464e-8a20-bb37b0e2715f",
   "metadata": {},
   "outputs": [],
   "source": [
    "schemadata = \"ID INT, Nomre STRING, Apellido STRING, url STRING, fechapub STRING, tema INT, Campanas ARRAY<STRING>\""
   ]
  },
  {
   "cell_type": "code",
   "execution_count": 32,
   "id": "fa124bbb-49ab-4553-966f-9487ea91f40c",
   "metadata": {},
   "outputs": [],
   "source": [
    "dfblog = spark.createDataFrame(data,schemadata)"
   ]
  },
  {
   "cell_type": "code",
   "execution_count": 33,
   "id": "2c006c29-2104-422b-9bdb-fe5121560c47",
   "metadata": {},
   "outputs": [
    {
     "name": "stdout",
     "output_type": "stream",
     "text": [
      "root\n",
      " |-- ID: integer (nullable = true)\n",
      " |-- Nomre: string (nullable = true)\n",
      " |-- Apellido: string (nullable = true)\n",
      " |-- url: string (nullable = true)\n",
      " |-- fechapub: string (nullable = true)\n",
      " |-- tema: integer (nullable = true)\n",
      " |-- Campanas: array (nullable = true)\n",
      " |    |-- element: string (containsNull = true)\n",
      "\n"
     ]
    }
   ],
   "source": [
    "dfblog.printSchema()"
   ]
  },
  {
   "cell_type": "code",
   "execution_count": 35,
   "id": "527d1635-19f2-46ef-81a4-63a17da2af78",
   "metadata": {},
   "outputs": [
    {
     "name": "stdout",
     "output_type": "stream",
     "text": [
      "+---+---------+--------+-----------------+---------+-----+----------------------------+\n",
      "|ID |Nomre    |Apellido|url              |fechapub |tema |Campanas                    |\n",
      "+---+---------+--------+-----------------+---------+-----+----------------------------+\n",
      "|1  |Jules    |Damji   |https://tinyurl.1|1/4/2016 |4535 |[twitter, LinkedIn]         |\n",
      "|2  |Brooke   |Wenig   |https://tinyurl.2|5/5/2018 |8908 |[twitter, LinkedIn]         |\n",
      "|3  |Denny    |Lee     |https://tinyurl.3|6/7/2019 |7659 |[web, twitter, FB, LinkedIn]|\n",
      "|4  |Tathagata|Das     |https://tinyurl.4|5/12/2018|10568|[twitter, FB]               |\n",
      "|5  |Matei    |Zaharia |https://tinyurl.5|5/14/2014|40578|[web, twitter, FB, LinkedIn]|\n",
      "|6  |Reynold  |Xin     |https://tinyurl.6|3/2/2015 |25568|[twitter, LinkedIn]         |\n",
      "+---+---------+--------+-----------------+---------+-----+----------------------------+\n",
      "\n"
     ]
    }
   ],
   "source": [
    "dfblog.show(truncate=False)"
   ]
  },
  {
   "cell_type": "code",
   "execution_count": null,
   "id": "e9e6e436-e1fe-45d1-b14f-334ddabd8016",
   "metadata": {},
   "outputs": [],
   "source": []
  }
 ],
 "metadata": {
  "kernelspec": {
   "display_name": "Python 3 (ipykernel)",
   "language": "python",
   "name": "python3"
  },
  "language_info": {
   "codemirror_mode": {
    "name": "ipython",
    "version": 3
   },
   "file_extension": ".py",
   "mimetype": "text/x-python",
   "name": "python",
   "nbconvert_exporter": "python",
   "pygments_lexer": "ipython3",
   "version": "3.9.12"
  }
 },
 "nbformat": 4,
 "nbformat_minor": 5
}
