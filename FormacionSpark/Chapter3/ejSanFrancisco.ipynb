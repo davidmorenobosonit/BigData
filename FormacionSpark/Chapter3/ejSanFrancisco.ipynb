{
 "cells": [
  {
   "cell_type": "markdown",
   "id": "bba82fc1-8174-40a4-95a7-f6391f972848",
   "metadata": {},
   "source": [
    "# Preguntas San Francisco sf-fire.calls"
   ]
  },
  {
   "cell_type": "code",
   "execution_count": 2,
   "id": "10edf9db-4c12-441a-9310-f56a183d51a8",
   "metadata": {},
   "outputs": [
    {
     "data": {
      "text/plain": [
       "res1: org.apache.spark.sql.SparkSession = org.apache.spark.sql.SparkSession@1539f075\n"
      ]
     },
     "execution_count": 2,
     "metadata": {},
     "output_type": "execute_result"
    }
   ],
   "source": [
    "spark"
   ]
  },
  {
   "cell_type": "code",
   "execution_count": 3,
   "id": "2e7ad321-f652-41e3-b3d9-5c496165e1b4",
   "metadata": {},
   "outputs": [
    {
     "data": {
      "text/plain": [
       "res2: org.apache.spark.SparkContext = org.apache.spark.SparkContext@266dee23\n"
      ]
     },
     "execution_count": 3,
     "metadata": {},
     "output_type": "execute_result"
    }
   ],
   "source": [
    "sc"
   ]
  },
  {
   "cell_type": "code",
   "execution_count": 4,
   "id": "5970f27d-1e25-4b6d-a645-c0b34a1a68ab",
   "metadata": {},
   "outputs": [
    {
     "data": {
      "text/plain": [
       "sampleDF: org.apache.spark.sql.DataFrame = [CallNumber: string, UnitID: string ... 26 more fields]\n"
      ]
     },
     "execution_count": 4,
     "metadata": {},
     "output_type": "execute_result"
    }
   ],
   "source": [
    "val sampleDF = spark.read\n",
    "                    .option(\"samplingRatio\",0.001)\n",
    "                    .option(\"header\",true)\n",
    "                    .csv(\"sf-fire-calls.csv\")"
   ]
  },
  {
   "cell_type": "code",
   "execution_count": 5,
   "id": "a6c43fcd-00dd-4107-a3f7-c60f519af98f",
   "metadata": {},
   "outputs": [
    {
     "name": "stdout",
     "output_type": "stream",
     "text": [
      "+----------+------+--------------+--------------+----------+----------+--------------------+--------------------+--------------------+----+-------+---------+-----------+----+----------------+--------+-------------+-------+-------------+---------+--------+--------------------------+----------------------+------------------+---------------+--------------------+-------------+-----+\n",
      "|CallNumber|UnitID|IncidentNumber|      CallType|  CallDate| WatchDate|CallFinalDisposition|       AvailableDtTm|             Address|City|Zipcode|Battalion|StationArea| Box|OriginalPriority|Priority|FinalPriority|ALSUnit|CallTypeGroup|NumAlarms|UnitType|UnitSequenceInCallDispatch|FirePreventionDistrict|SupervisorDistrict|   Neighborhood|            Location|        RowID|Delay|\n",
      "+----------+------+--------------+--------------+----------+----------+--------------------+--------------------+--------------------+----+-------+---------+-----------+----+----------------+--------+-------------+-------+-------------+---------+--------+--------------------------+----------------------+------------------+---------------+--------------------+-------------+-----+\n",
      "|  20110016|   T13|       2003235|Structure Fire|01/11/2002|01/10/2002|               Other|01/11/2002 01:51:...|2000 Block of CAL...|  SF|  94109|      B04|         38|3362|               3|       3|            3|  false|         null|        1|   TRUCK|                         2|                     4|                 5|Pacific Heights|(37.7895840679362...|020110016-T13| 2.95|\n",
      "+----------+------+--------------+--------------+----------+----------+--------------------+--------------------+--------------------+----+-------+---------+-----------+----+----------------+--------+-------------+-------+-------------+---------+--------+--------------------------+----------------------+------------------+---------------+--------------------+-------------+-----+\n",
      "only showing top 1 row\n",
      "\n"
     ]
    }
   ],
   "source": [
    "sampleDF.show(1)"
   ]
  },
  {
   "cell_type": "code",
   "execution_count": 6,
   "id": "da89f581-b8c7-4c26-845f-2c0646f22431",
   "metadata": {},
   "outputs": [
    {
     "data": {
      "text/plain": [
       "import org.apache.spark.sql.types._\n"
      ]
     },
     "execution_count": 6,
     "metadata": {},
     "output_type": "execute_result"
    }
   ],
   "source": [
    "import org.apache.spark.sql.types._"
   ]
  },
  {
   "cell_type": "markdown",
   "id": "a6a1f0d8-f18d-4add-b326-8eb0ff5844b0",
   "metadata": {},
   "source": [
    "### Creacion del Schema"
   ]
  },
  {
   "cell_type": "code",
   "execution_count": 7,
   "id": "e9165269-2a24-4277-969e-9a6cb8576c1a",
   "metadata": {},
   "outputs": [
    {
     "data": {
      "text/plain": [
       "fire_schema: org.apache.spark.sql.types.StructType = StructType(StructField(CallNumber,IntegerType,true), StructField(UnitID,StringType,true), StructField(IncidentNumber,IntegerType,true), StructField(CallType,StringType,true), StructField(CallDate,StringType,true), StructField(WatchDate,StringType,true), StructField(CallFinalDisposition,StringType,true), StructField(AvailableDtTm,StringType,true), StructField(Address,StringType,true), StructField(City,StringType,true), StructField(Zipcode,IntegerType,true), StructField(Battalion,StringType,true), StructField(StationArea,IntegerType,true), StructField(Box,IntegerType,true), StructField(OriginalPriority,IntegerType,true), StructField(Priority,IntegerType,true), StructField(FinalPriority,IntegerType,true), StructField(ALSUnit,BooleanType,...\n"
      ]
     },
     "execution_count": 7,
     "metadata": {},
     "output_type": "execute_result"
    }
   ],
   "source": [
    "val fire_schema = StructType(Array(\n",
    "    StructField(\"CallNumber\", IntegerType,true),\n",
    "    StructField(\"UnitID\", StringType, true),\n",
    "    StructField(\"IncidentNumber\", IntegerType, true),\n",
    "    StructField(\"CallType\", StringType, true),\n",
    "    StructField(\"CallDate\", StringType, true),\n",
    "    StructField(\"WatchDate\", StringType, true),\n",
    "    StructField(\"CallFinalDisposition\", StringType, true),\n",
    "    StructField(\"AvailableDtTm\", StringType, true),\n",
    "    StructField(\"Address\", StringType, true),\n",
    "    StructField(\"City\", StringType, true),\n",
    "    StructField(\"Zipcode\", IntegerType, true),\n",
    "    StructField(\"Battalion\", StringType, true),\n",
    "    StructField(\"StationArea\", IntegerType, true),\n",
    "    StructField(\"Box\", IntegerType, true),\n",
    "    StructField(\"OriginalPriority\", IntegerType, true),\n",
    "    StructField(\"Priority\", IntegerType, true),\n",
    "    StructField(\"FinalPriority\", IntegerType, true),\n",
    "    StructField(\"ALSUnit\", BooleanType, true),\n",
    "    StructField(\"CallTypeGroup\", StringType, true),\n",
    "    StructField(\"NumAlarms\", IntegerType, true),\n",
    "    StructField(\"UnitType\", StringType, true),\n",
    "    StructField(\"UnitSequenceInCallDispatch\", IntegerType, true),\n",
    "    StructField(\"FirePreventionDistrict\", IntegerType, true),\n",
    "    StructField(\"SupervisorDistrict\", IntegerType, true),\n",
    "    StructField(\"Neighborhood\", StringType, true),\n",
    "    StructField(\"Location\",StringType,true),\n",
    "    StructField(\"RowID\", StringType, true),\n",
    "    StructField(\"Delay\", FloatType, true)\n",
    "    ))"
   ]
  },
  {
   "cell_type": "markdown",
   "id": "c53f6c9d-ab8d-4040-abb1-1a9d7db06c5e",
   "metadata": {},
   "source": [
    "### Importacion de los datos"
   ]
  },
  {
   "cell_type": "code",
   "execution_count": 8,
   "id": "dd6b5b98-d118-4a14-9ac5-ff1ca499abdc",
   "metadata": {},
   "outputs": [
    {
     "data": {
      "text/plain": [
       "df: org.apache.spark.sql.DataFrame = [CallNumber: int, UnitID: string ... 26 more fields]\n"
      ]
     },
     "execution_count": 8,
     "metadata": {},
     "output_type": "execute_result"
    }
   ],
   "source": [
    "val df = spark.read.schema(fire_schema)\n",
    "                    .option(\"header\",true)\n",
    "                    .option(\"sep\",\",\")\n",
    "                    .csv(\"sf-fire-calls.csv\")"
   ]
  },
  {
   "cell_type": "code",
   "execution_count": 9,
   "id": "16eef974-db59-4fc8-8e9e-19e840d0c2ce",
   "metadata": {},
   "outputs": [
    {
     "name": "stdout",
     "output_type": "stream",
     "text": [
      "root\n",
      " |-- CallNumber: integer (nullable = true)\n",
      " |-- UnitID: string (nullable = true)\n",
      " |-- IncidentNumber: integer (nullable = true)\n",
      " |-- CallType: string (nullable = true)\n",
      " |-- CallDate: string (nullable = true)\n",
      " |-- WatchDate: string (nullable = true)\n",
      " |-- CallFinalDisposition: string (nullable = true)\n",
      " |-- AvailableDtTm: string (nullable = true)\n",
      " |-- Address: string (nullable = true)\n",
      " |-- City: string (nullable = true)\n",
      " |-- Zipcode: integer (nullable = true)\n",
      " |-- Battalion: string (nullable = true)\n",
      " |-- StationArea: integer (nullable = true)\n",
      " |-- Box: integer (nullable = true)\n",
      " |-- OriginalPriority: integer (nullable = true)\n",
      " |-- Priority: integer (nullable = true)\n",
      " |-- FinalPriority: integer (nullable = true)\n",
      " |-- ALSUnit: boolean (nullable = true)\n",
      " |-- CallTypeGroup: string (nullable = true)\n",
      " |-- NumAlarms: integer (nullable = true)\n",
      " |-- UnitType: string (nullable = true)\n",
      " |-- UnitSequenceInCallDispatch: integer (nullable = true)\n",
      " |-- FirePreventionDistrict: integer (nullable = true)\n",
      " |-- SupervisorDistrict: integer (nullable = true)\n",
      " |-- Neighborhood: string (nullable = true)\n",
      " |-- Location: string (nullable = true)\n",
      " |-- RowID: string (nullable = true)\n",
      " |-- Delay: float (nullable = true)\n",
      "\n"
     ]
    }
   ],
   "source": [
    "df.printSchema()"
   ]
  },
  {
   "cell_type": "code",
   "execution_count": 10,
   "id": "d23d64f7-08b6-431d-83fe-bd191a2b8e1c",
   "metadata": {},
   "outputs": [
    {
     "data": {
      "text/plain": [
       "import org.apache.spark.sql.functions._\n"
      ]
     },
     "execution_count": 10,
     "metadata": {},
     "output_type": "execute_result"
    }
   ],
   "source": [
    "import org.apache.spark.sql.functions._"
   ]
  },
  {
   "cell_type": "markdown",
   "id": "507dd12a-e3f8-4e3e-ace6-61f5c62112ad",
   "metadata": {},
   "source": [
    "## Pregunta 1: Encontrar los distintos motivos de llamada en 2018"
   ]
  },
  {
   "cell_type": "code",
   "execution_count": 11,
   "id": "9190a57e-e8c4-4a09-80b9-547611787cd1",
   "metadata": {},
   "outputs": [
    {
     "name": "stdout",
     "output_type": "stream",
     "text": [
      "+----------------+-------------------+----+\n",
      "|        CallType|              Fecha|Anio|\n",
      "+----------------+-------------------+----+\n",
      "|  Structure Fire|2002-01-11 00:00:00|2002|\n",
      "|Medical Incident|2002-01-11 00:00:00|2002|\n",
      "|Medical Incident|2002-01-11 00:00:00|2002|\n",
      "+----------------+-------------------+----+\n",
      "only showing top 3 rows\n",
      "\n"
     ]
    },
    {
     "data": {
      "text/plain": [
       "p1f1: org.apache.spark.sql.DataFrame = [CallType: string, Fecha: timestamp ... 1 more field]\n"
      ]
     },
     "execution_count": 11,
     "metadata": {},
     "output_type": "execute_result"
    }
   ],
   "source": [
    "val p1f1 = df.select(\"CallType\",\"CallDate\")\n",
    "            .withColumn(\"Fecha\",to_timestamp($\"CallDate\",\"MM/dd/yyyy\")).drop(\"CallDate\")\n",
    "            .withColumn(\"Anio\",year($\"Fecha\"))\n",
    "p1f1.show(3)"
   ]
  },
  {
   "cell_type": "code",
   "execution_count": 12,
   "id": "413fdf25-8268-4561-9aee-0c950eacf13d",
   "metadata": {},
   "outputs": [
    {
     "name": "stdout",
     "output_type": "stream",
     "text": [
      "+-----------------------------+\n",
      "|CallType                     |\n",
      "+-----------------------------+\n",
      "|Elevator / Escalator Rescue  |\n",
      "|Alarms                       |\n",
      "|Odor (Strange / Unknown)     |\n",
      "|Citizen Assist / Service Call|\n",
      "|HazMat                       |\n",
      "+-----------------------------+\n",
      "only showing top 5 rows\n",
      "\n"
     ]
    },
    {
     "data": {
      "text/plain": [
       "p1f2: org.apache.spark.sql.Dataset[org.apache.spark.sql.Row] = [CallType: string]\n"
      ]
     },
     "execution_count": 12,
     "metadata": {},
     "output_type": "execute_result"
    }
   ],
   "source": [
    "val p1f2 = p1f1.select(\"CallType\")\n",
    "                .where($\"Anio\"===2018)\n",
    "                .distinct()\n",
    "p1f2.show(5,false)"
   ]
  },
  {
   "cell_type": "code",
   "execution_count": 13,
   "id": "149c8b94-f72c-4c74-9352-8468b08c4c3d",
   "metadata": {},
   "outputs": [
    {
     "data": {
      "text/plain": [
       "res7: Long = 20\n"
      ]
     },
     "execution_count": 13,
     "metadata": {},
     "output_type": "execute_result"
    }
   ],
   "source": [
    "p1f2.count()"
   ]
  },
  {
   "cell_type": "markdown",
   "id": "fa9f4960-fd93-43e2-b310-f389a3bbcece",
   "metadata": {},
   "source": [
    "## Pregunta 2: ¿Qué meses del 2018 tuvieron un mayor número de llamadaS?"
   ]
  },
  {
   "cell_type": "code",
   "execution_count": 14,
   "id": "deca0d80-09bb-4258-9272-1ea320506230",
   "metadata": {},
   "outputs": [
    {
     "name": "stdout",
     "output_type": "stream",
     "text": [
      "+----------------+-------------------+----+---+\n",
      "|        CallType|              Fecha|Anio|Mes|\n",
      "+----------------+-------------------+----+---+\n",
      "|  Structure Fire|2002-01-11 00:00:00|2002|  1|\n",
      "|Medical Incident|2002-01-11 00:00:00|2002|  1|\n",
      "|Medical Incident|2002-01-11 00:00:00|2002|  1|\n",
      "+----------------+-------------------+----+---+\n",
      "only showing top 3 rows\n",
      "\n"
     ]
    },
    {
     "data": {
      "text/plain": [
       "p2f1: org.apache.spark.sql.DataFrame = [CallType: string, Fecha: timestamp ... 2 more fields]\n"
      ]
     },
     "execution_count": 14,
     "metadata": {},
     "output_type": "execute_result"
    }
   ],
   "source": [
    "val p2f1 = df.select(\"CallType\",\"CallDate\")\n",
    "            .withColumn(\"Fecha\",to_timestamp($\"CallDate\",\"MM/dd/yyyy\")).drop(\"CallDate\")\n",
    "            .withColumn(\"Anio\",year($\"Fecha\"))\n",
    "            .withColumn(\"Mes\",month($\"Fecha\"))\n",
    "p2f1.show(3)"
   ]
  },
  {
   "cell_type": "code",
   "execution_count": 15,
   "id": "3e1a496c-15ee-496c-ac34-4bd1f4fdd557",
   "metadata": {},
   "outputs": [
    {
     "name": "stdout",
     "output_type": "stream",
     "text": [
      "+---+--------+\n",
      "|Mes|Cantidad|\n",
      "+---+--------+\n",
      "| 10|   15410|\n",
      "|  8|   15126|\n",
      "|  5|   15099|\n",
      "+---+--------+\n",
      "only showing top 3 rows\n",
      "\n"
     ]
    },
    {
     "data": {
      "text/plain": [
       "warning: one feature warning; for details, enable `:setting -feature' or `:replay -feature'\n",
       "p2f2: org.apache.spark.sql.Dataset[org.apache.spark.sql.Row] = [Mes: int, Cantidad: bigint]\n"
      ]
     },
     "execution_count": 15,
     "metadata": {},
     "output_type": "execute_result"
    }
   ],
   "source": [
    "val p2f2 = p2f1.select(\"Mes\")\n",
    "            .groupBy(\"Mes\")\n",
    "            .count()\n",
    "            .withColumnRenamed(\"count\",\"Cantidad\")\n",
    "            .orderBy($\"Cantidad\" desc)\n",
    "p2f2.show(3)"
   ]
  },
  {
   "cell_type": "markdown",
   "id": "f3f99c4d-5d34-468b-b4f9-0630ba3abead",
   "metadata": {},
   "source": [
    "## Pregunta 3: ¿Qué barrio de San Francisco genera más llamadas en 2018?"
   ]
  },
  {
   "cell_type": "code",
   "execution_count": 16,
   "id": "048d8bca-6275-4446-bf51-9bdef18fb66f",
   "metadata": {},
   "outputs": [
    {
     "name": "stdout",
     "output_type": "stream",
     "text": [
      "root\n",
      " |-- CallNumber: integer (nullable = true)\n",
      " |-- UnitID: string (nullable = true)\n",
      " |-- IncidentNumber: integer (nullable = true)\n",
      " |-- CallType: string (nullable = true)\n",
      " |-- CallDate: string (nullable = true)\n",
      " |-- WatchDate: string (nullable = true)\n",
      " |-- CallFinalDisposition: string (nullable = true)\n",
      " |-- AvailableDtTm: string (nullable = true)\n",
      " |-- Address: string (nullable = true)\n",
      " |-- City: string (nullable = true)\n",
      " |-- Zipcode: integer (nullable = true)\n",
      " |-- Battalion: string (nullable = true)\n",
      " |-- StationArea: integer (nullable = true)\n",
      " |-- Box: integer (nullable = true)\n",
      " |-- OriginalPriority: integer (nullable = true)\n",
      " |-- Priority: integer (nullable = true)\n",
      " |-- FinalPriority: integer (nullable = true)\n",
      " |-- ALSUnit: boolean (nullable = true)\n",
      " |-- CallTypeGroup: string (nullable = true)\n",
      " |-- NumAlarms: integer (nullable = true)\n",
      " |-- UnitType: string (nullable = true)\n",
      " |-- UnitSequenceInCallDispatch: integer (nullable = true)\n",
      " |-- FirePreventionDistrict: integer (nullable = true)\n",
      " |-- SupervisorDistrict: integer (nullable = true)\n",
      " |-- Neighborhood: string (nullable = true)\n",
      " |-- Location: string (nullable = true)\n",
      " |-- RowID: string (nullable = true)\n",
      " |-- Delay: float (nullable = true)\n",
      "\n"
     ]
    }
   ],
   "source": [
    "df.printSchema"
   ]
  },
  {
   "cell_type": "code",
   "execution_count": 17,
   "id": "4e4cd389-4a52-498f-8620-28f986a593ee",
   "metadata": {},
   "outputs": [
    {
     "name": "stdout",
     "output_type": "stream",
     "text": [
      "+---------------+--------+\n",
      "|   Neighborhood|Cantidad|\n",
      "+---------------+--------+\n",
      "|     Tenderloin|   22785|\n",
      "|South of Market|   16623|\n",
      "|        Mission|   15912|\n",
      "+---------------+--------+\n",
      "only showing top 3 rows\n",
      "\n"
     ]
    },
    {
     "data": {
      "text/plain": [
       "warning: one feature warning; for details, enable `:setting -feature' or `:replay -feature'\n",
       "p3f1: Unit = ()\n"
      ]
     },
     "execution_count": 17,
     "metadata": {},
     "output_type": "execute_result"
    }
   ],
   "source": [
    "val p3f1 = df.select(\"Neighborhood\")\n",
    "            .groupBy(\"Neighborhood\")\n",
    "            .count()\n",
    "            .withColumnRenamed(\"count\",\"Cantidad\")\n",
    "            .orderBy($\"Cantidad\" desc)\n",
    "            .show(3)"
   ]
  },
  {
   "cell_type": "markdown",
   "id": "55c16e44-aa4a-4b96-a0c9-ed185d7f60a6",
   "metadata": {},
   "source": [
    "## Pregunta 4: ¿Qué barrio de San Francisco tiene el peor tiempo de respuesta?"
   ]
  },
  {
   "cell_type": "code",
   "execution_count": 18,
   "id": "52575b5a-3125-4153-84e4-19a373c395a2",
   "metadata": {},
   "outputs": [
    {
     "name": "stdout",
     "output_type": "stream",
     "text": [
      "+--------------------+----------+-----+-------------------+----+\n",
      "|        Neighborhood|  CallDate|Delay|              Fecha|Anio|\n",
      "+--------------------+----------+-----+-------------------+----+\n",
      "|     Pacific Heights|01/11/2002| 2.95|2002-01-11 00:00:00|2002|\n",
      "|Bayview Hunters P...|01/11/2002|  4.7|2002-01-11 00:00:00|2002|\n",
      "+--------------------+----------+-----+-------------------+----+\n",
      "only showing top 2 rows\n",
      "\n"
     ]
    },
    {
     "data": {
      "text/plain": [
       "p4: org.apache.spark.sql.DataFrame = [Neighborhood: string, CallDate: string ... 3 more fields]\n"
      ]
     },
     "execution_count": 18,
     "metadata": {},
     "output_type": "execute_result"
    }
   ],
   "source": [
    "val p4 = df.select(\"Neighborhood\",\"CallDate\",\"Delay\")\n",
    "            .withColumn(\"Fecha\",to_timestamp($\"CallDate\",\"MM/dd/yyyy\"))\n",
    "            .withColumn(\"Anio\",year($\"Fecha\"))\n",
    "p4.show(2)"
   ]
  },
  {
   "cell_type": "code",
   "execution_count": 19,
   "id": "89bd6c43-0688-4fb7-a169-5d67eb642c2e",
   "metadata": {},
   "outputs": [
    {
     "name": "stdout",
     "output_type": "stream",
     "text": [
      "+------------+-----------------+\n",
      "|Neighborhood|            Media|\n",
      "+------------+-----------------+\n",
      "|   Chinatown|6.190314101143033|\n",
      "|    Presidio|5.829227011272873|\n",
      "+------------+-----------------+\n",
      "only showing top 2 rows\n",
      "\n"
     ]
    },
    {
     "data": {
      "text/plain": [
       "warning: one feature warning; for details, enable `:setting -feature' or `:replay -feature'\n",
       "p4f2: org.apache.spark.sql.Dataset[org.apache.spark.sql.Row] = [Neighborhood: string, Media: double]\n"
      ]
     },
     "execution_count": 19,
     "metadata": {},
     "output_type": "execute_result"
    }
   ],
   "source": [
    "val p4f2 = p4.select(\"Neighborhood\",\"Delay\")\n",
    "            .where($\"Anio\"===2018)\n",
    "            .groupBy(\"Neighborhood\")\n",
    "            .avg(\"Delay\")\n",
    "            .withColumnRenamed(\"avg(Delay)\",\"Media\")\n",
    "            .orderBy($\"Media\" desc)\n",
    "p4f2.show(2)"
   ]
  },
  {
   "cell_type": "code",
   "execution_count": 20,
   "id": "dd10ef26-e830-4fbf-b33f-dda830b32070",
   "metadata": {},
   "outputs": [
    {
     "data": {
      "text/plain": [
       "p5: org.apache.spark.sql.DataFrame = [CallDate: string, Fecha: timestamp ... 1 more field]\n"
      ]
     },
     "execution_count": 20,
     "metadata": {},
     "output_type": "execute_result"
    }
   ],
   "source": [
    "val p5 = df.select(\"CallDate\")\n",
    "            .withColumn(\"Fecha\",to_timestamp($\"CallDate\",\"MM/dd/yyyy\"))\n",
    "            .withColumn(\"Anio\",year($\"Fecha\"))"
   ]
  },
  {
   "cell_type": "code",
   "execution_count": 21,
   "id": "04e80a23-e499-4115-afd0-e1d7cedfc1ce",
   "metadata": {},
   "outputs": [
    {
     "name": "stdout",
     "output_type": "stream",
     "text": [
      "+------+--------+\n",
      "|Semana|Cantidad|\n",
      "+------+--------+\n",
      "|    22|     259|\n",
      "|    40|     255|\n",
      "|    43|     250|\n",
      "+------+--------+\n",
      "only showing top 3 rows\n",
      "\n"
     ]
    },
    {
     "data": {
      "text/plain": [
       "warning: one feature warning; for details, enable `:setting -feature' or `:replay -feature'\n",
       "p5f2: org.apache.spark.sql.Dataset[org.apache.spark.sql.Row] = [Semana: int, Cantidad: bigint]\n"
      ]
     },
     "execution_count": 21,
     "metadata": {},
     "output_type": "execute_result"
    }
   ],
   "source": [
    "val p5f2 = p5.select(\"Fecha\")\n",
    "            .where($\"Anio\"===2018)\n",
    "            .withColumn(\"week_of_year\", weekofyear($\"Fecha\"))\n",
    "            .withColumnRenamed(\"week_of_year\",\"Semana\")\n",
    "            .groupBy(\"Semana\")\n",
    "            .count()\n",
    "            .withColumnRenamed(\"count\",\"Cantidad\")\n",
    "            .orderBy($\"Cantidad\" desc)\n",
    "p5f2.show(3)"
   ]
  },
  {
   "cell_type": "code",
   "execution_count": 22,
   "id": "e805b076-06ad-410d-8424-16514c41ab28",
   "metadata": {},
   "outputs": [
    {
     "name": "stdout",
     "output_type": "stream",
     "text": [
      "root\n",
      " |-- CallNumber: integer (nullable = true)\n",
      " |-- UnitID: string (nullable = true)\n",
      " |-- IncidentNumber: integer (nullable = true)\n",
      " |-- CallType: string (nullable = true)\n",
      " |-- CallDate: string (nullable = true)\n",
      " |-- WatchDate: string (nullable = true)\n",
      " |-- CallFinalDisposition: string (nullable = true)\n",
      " |-- AvailableDtTm: string (nullable = true)\n",
      " |-- Address: string (nullable = true)\n",
      " |-- City: string (nullable = true)\n",
      " |-- Zipcode: integer (nullable = true)\n",
      " |-- Battalion: string (nullable = true)\n",
      " |-- StationArea: integer (nullable = true)\n",
      " |-- Box: integer (nullable = true)\n",
      " |-- OriginalPriority: integer (nullable = true)\n",
      " |-- Priority: integer (nullable = true)\n",
      " |-- FinalPriority: integer (nullable = true)\n",
      " |-- ALSUnit: boolean (nullable = true)\n",
      " |-- CallTypeGroup: string (nullable = true)\n",
      " |-- NumAlarms: integer (nullable = true)\n",
      " |-- UnitType: string (nullable = true)\n",
      " |-- UnitSequenceInCallDispatch: integer (nullable = true)\n",
      " |-- FirePreventionDistrict: integer (nullable = true)\n",
      " |-- SupervisorDistrict: integer (nullable = true)\n",
      " |-- Neighborhood: string (nullable = true)\n",
      " |-- Location: string (nullable = true)\n",
      " |-- RowID: string (nullable = true)\n",
      " |-- Delay: float (nullable = true)\n",
      "\n"
     ]
    }
   ],
   "source": [
    "df.printSchema()"
   ]
  },
  {
   "cell_type": "code",
   "execution_count": 26,
   "id": "54403d97-46de-4245-b036-664392c65f8c",
   "metadata": {},
   "outputs": [
    {
     "name": "stdout",
     "output_type": "stream",
     "text": [
      "+--------------------+-------+-----+\n",
      "|        Neighborhood|ZipCode|count|\n",
      "+--------------------+-------+-----+\n",
      "|        Inner Sunset|  94122| 2161|\n",
      "|Bayview Hunters P...|  94124| 9150|\n",
      "|        Inner Sunset|  94114|   20|\n",
      "|  West of Twin Peaks|  94112|  760|\n",
      "|      Haight Ashbury|  94114|   21|\n",
      "|           Glen Park|  94110|   25|\n",
      "|           Excelsior|  94112| 3237|\n",
      "|        Russian Hill|  94109| 2261|\n",
      "|                None|  94124|    7|\n",
      "|           Chinatown|  94133| 1861|\n",
      "|     Pacific Heights|  94115| 2100|\n",
      "|Oceanview/Merced/...|  94127|   12|\n",
      "|        Potrero Hill|  94103|    5|\n",
      "|        Inner Sunset|  94117|  224|\n",
      "|    Golden Gate Park|  94117|  107|\n",
      "|                None|   null|  141|\n",
      "|          Noe Valley|  94131|  763|\n",
      "|    Western Addition|  94117|  315|\n",
      "|        McLaren Park|  94112|   36|\n",
      "|      Outer Richmond|  94121| 4121|\n",
      "+--------------------+-------+-----+\n",
      "only showing top 20 rows\n",
      "\n"
     ]
    },
    {
     "data": {
      "text/plain": [
       "p6: org.apache.spark.sql.DataFrame = [Neighborhood: string, ZipCode: int ... 1 more field]\n"
      ]
     },
     "execution_count": 26,
     "metadata": {},
     "output_type": "execute_result"
    }
   ],
   "source": [
    "val p6 = df.select(\"Neighborhood\",\"ZipCode\")\n",
    "            .groupBy(\"Neighborhood\",\"ZipCode\")\n",
    "            .count()\n",
    "p6.show()"
   ]
  },
  {
   "cell_type": "code",
   "execution_count": 87,
   "id": "ba4a5a70-5bcc-45cb-afe3-d07d58f6b974",
   "metadata": {},
   "outputs": [],
   "source": [
    "df.write.format(\"parquet\").save(\"EndToEndDF\")"
   ]
  },
  {
   "cell_type": "code",
   "execution_count": 27,
   "id": "9e39adfd-efd5-4f75-a18f-23ba490ade9b",
   "metadata": {},
   "outputs": [
    {
     "data": {
      "text/plain": [
       "res19: Double = 0.06771510346381836\n"
      ]
     },
     "execution_count": 27,
     "metadata": {},
     "output_type": "execute_result"
    }
   ],
   "source": [
    "p6.stat.corr(\"ZipCode\",\"count\")"
   ]
  },
  {
   "cell_type": "code",
   "execution_count": null,
   "id": "90b3cde0-d344-4dab-8627-c5cf5ae82209",
   "metadata": {},
   "outputs": [],
   "source": []
  }
 ],
 "metadata": {
  "kernelspec": {
   "display_name": "spylon-kernel",
   "language": "scala",
   "name": "spylon-kernel"
  },
  "language_info": {
   "codemirror_mode": "text/x-scala",
   "file_extension": ".scala",
   "help_links": [
    {
     "text": "MetaKernel Magics",
     "url": "https://metakernel.readthedocs.io/en/latest/source/README.html"
    }
   ],
   "mimetype": "text/x-scala",
   "name": "scala",
   "pygments_lexer": "scala",
   "version": "0.4.1"
  }
 },
 "nbformat": 4,
 "nbformat_minor": 5
}
