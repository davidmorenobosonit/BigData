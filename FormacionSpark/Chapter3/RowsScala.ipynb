{
 "cells": [
  {
   "cell_type": "code",
   "execution_count": 1,
   "id": "c627610d-4f17-456c-aeb9-2eee3524433c",
   "metadata": {},
   "outputs": [
    {
     "data": {
      "text/plain": [
       "Intitializing Scala interpreter ..."
      ]
     },
     "metadata": {},
     "output_type": "display_data"
    },
    {
     "data": {
      "text/plain": [
       "Spark Web UI available at http://5fcc63a3e7cf:4041\n",
       "SparkContext available as 'sc' (version = 3.2.1, master = local[*], app id = local-1654525541880)\n",
       "SparkSession available as 'spark'\n"
      ]
     },
     "metadata": {},
     "output_type": "display_data"
    },
    {
     "data": {
      "text/plain": [
       "res0: org.apache.spark.sql.SparkSession = org.apache.spark.sql.SparkSession@63d00dfd\n"
      ]
     },
     "execution_count": 1,
     "metadata": {},
     "output_type": "execute_result"
    }
   ],
   "source": [
    "spark"
   ]
  },
  {
   "cell_type": "code",
   "execution_count": 2,
   "id": "34b206ae-77c0-465e-9686-2fe1b1c0212a",
   "metadata": {},
   "outputs": [
    {
     "data": {
      "text/plain": [
       "res1: org.apache.spark.SparkContext = org.apache.spark.SparkContext@21282532\n"
      ]
     },
     "execution_count": 2,
     "metadata": {},
     "output_type": "execute_result"
    }
   ],
   "source": [
    "sc"
   ]
  },
  {
   "cell_type": "code",
   "execution_count": 14,
   "id": "62247b44-268e-428a-b4b6-4f6a2a49cde0",
   "metadata": {},
   "outputs": [
    {
     "data": {
      "text/plain": [
       "import org.apache.spark.sql.Row\n"
      ]
     },
     "execution_count": 14,
     "metadata": {},
     "output_type": "execute_result"
    }
   ],
   "source": [
    "// importamos el objeto Row\n",
    "import org.apache.spark.sql.Row"
   ]
  },
  {
   "cell_type": "code",
   "execution_count": 6,
   "id": "4dd07d20-d459-422d-9581-28580b300009",
   "metadata": {},
   "outputs": [
    {
     "data": {
      "text/plain": [
       "filablog: org.apache.spark.sql.Row = [6,Reynold,Xin,https//tinyurl.6,255568,3/2/2015,[Ljava.lang.String;@48d7cd38]\n"
      ]
     },
     "execution_count": 6,
     "metadata": {},
     "output_type": "execute_result"
    }
   ],
   "source": [
    "// creamos una fila\n",
    "val filablog = Row(6,\"Reynold\",\"Xin\",\"https//tinyurl.6\",255568,\"3/2/2015\",Array(\"twitter\",\"LinkedIn\"))"
   ]
  },
  {
   "cell_type": "code",
   "execution_count": 7,
   "id": "2c20be43-c79b-4dd9-9cf0-da5b3b6de722",
   "metadata": {},
   "outputs": [
    {
     "data": {
      "text/plain": [
       "res2: Any = Reynold\n"
      ]
     },
     "execution_count": 7,
     "metadata": {},
     "output_type": "execute_result"
    }
   ],
   "source": [
    "// acedemos por indice \n",
    "filablog(1)"
   ]
  },
  {
   "cell_type": "code",
   "execution_count": 9,
   "id": "e05f8805-e852-4a24-a540-e68748b50002",
   "metadata": {},
   "outputs": [
    {
     "data": {
      "text/plain": [
       "res4: Any = 255568\n"
      ]
     },
     "execution_count": 9,
     "metadata": {},
     "output_type": "execute_result"
    }
   ],
   "source": [
    "filablog(4)"
   ]
  },
  {
   "cell_type": "code",
   "execution_count": 10,
   "id": "d0611067-fd85-4252-b5e1-85e526c5caf1",
   "metadata": {},
   "outputs": [
    {
     "data": {
      "text/plain": [
       "filablog2: org.apache.spark.sql.Row = [5,agatha,christie,https//youtube.com,777,31/3/2012,[Ljava.lang.String;@5f16c4d8]\n"
      ]
     },
     "execution_count": 10,
     "metadata": {},
     "output_type": "execute_result"
    }
   ],
   "source": [
    "val filablog2 = Row(5,\"agatha\",\"christie\",\"https//youtube.com\",777,\"31/3/2012\",Array(\"Instagram\",\"LinkedIn\"))"
   ]
  },
  {
   "cell_type": "code",
   "execution_count": 12,
   "id": "decf8dce-4fec-4127-b50c-35496d0ba118",
   "metadata": {},
   "outputs": [
    {
     "data": {
      "text/plain": [
       "rows: Seq[org.apache.spark.sql.Row] = List([6,Reynold,Xin,https//tinyurl.6,255568,3/2/2015,[Ljava.lang.String;@48d7cd38], [5,agatha,christie,https//youtube.com,777,31/3/2012,[Ljava.lang.String;@5f16c4d8])\n"
      ]
     },
     "execution_count": 12,
     "metadata": {},
     "output_type": "execute_result"
    }
   ],
   "source": [
    "val rows = Seq(filablog,filablog2)"
   ]
  },
  {
   "cell_type": "code",
   "execution_count": 16,
   "id": "2535c55a-50c3-4eff-a41e-52ce09dfd77c",
   "metadata": {},
   "outputs": [
    {
     "ename": "<console>",
     "evalue": "27: error: value toDF is not a member of Seq[org.apache.spark.sql.Row]",
     "output_type": "error",
     "traceback": [
      "<console>:27: error: value toDF is not a member of Seq[org.apache.spark.sql.Row]",
      "       val df = rows.toDF((\"Id\",\"Nombre\",\"Apellido\",\"url\",\"Numero\",\"Fecha\",\"redes\"))",
      "                     ^",
      ""
     ]
    }
   ],
   "source": [
    "val df = rows.toDF(\"Id\",\"Nombre\",\"Apellido\",\"url\",\"Numero\",\"Fecha\",\"redes\")"
   ]
  },
  {
   "cell_type": "code",
   "execution_count": 17,
   "id": "daf96787-a495-4dcd-aa3d-4614e5135839",
   "metadata": {},
   "outputs": [
    {
     "name": "stdout",
     "output_type": "stream",
     "text": [
      "+-------------+-----+\n",
      "|       Author|State|\n",
      "+-------------+-----+\n",
      "|Matei Zaharia|   CA|\n",
      "|  Reynold Xin|   CA|\n",
      "+-------------+-----+\n",
      "\n"
     ]
    },
    {
     "data": {
      "text/plain": [
       "rows: Seq[(String, String)] = List((Matei Zaharia,CA), (Reynold Xin,CA))\n",
       "authorsDF: org.apache.spark.sql.DataFrame = [Author: string, State: string]\n"
      ]
     },
     "execution_count": 17,
     "metadata": {},
     "output_type": "execute_result"
    }
   ],
   "source": [
    "val rows = Seq((\"Matei Zaharia\", \"CA\"), (\"Reynold Xin\", \"CA\"))\n",
    "val authorsDF = rows.toDF(\"Author\", \"State\")\n",
    "authorsDF.show()"
   ]
  },
  {
   "cell_type": "code",
   "execution_count": null,
   "id": "aeee70f1-ea27-4c1e-a3f9-8434e162f4ff",
   "metadata": {},
   "outputs": [],
   "source": []
  }
 ],
 "metadata": {
  "kernelspec": {
   "display_name": "spylon-kernel",
   "language": "scala",
   "name": "spylon-kernel"
  },
  "language_info": {
   "codemirror_mode": "text/x-scala",
   "file_extension": ".scala",
   "help_links": [
    {
     "text": "MetaKernel Magics",
     "url": "https://metakernel.readthedocs.io/en/latest/source/README.html"
    }
   ],
   "mimetype": "text/x-scala",
   "name": "scala",
   "pygments_lexer": "scala",
   "version": "0.4.1"
  },
  "toc-autonumbering": false
 },
 "nbformat": 4,
 "nbformat_minor": 5
}
