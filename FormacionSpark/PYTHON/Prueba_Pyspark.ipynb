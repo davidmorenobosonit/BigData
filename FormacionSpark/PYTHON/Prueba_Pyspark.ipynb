{
 "cells": [
  {
   "cell_type": "markdown",
   "id": "72551105-807a-4e92-a34e-8ff3252dd8f5",
   "metadata": {},
   "source": [
    "# Repaso de comandos básicos"
   ]
  },
  {
   "cell_type": "code",
   "execution_count": 1,
   "id": "465575b9-25b3-4913-ba35-978d222a3721",
   "metadata": {},
   "outputs": [],
   "source": [
    "import findspark # con esto llamamos a Spark\n",
    "findspark.init()"
   ]
  },
  {
   "cell_type": "code",
   "execution_count": 4,
   "id": "1d714782-8df9-4dad-a9c1-4246b8533df0",
   "metadata": {},
   "outputs": [],
   "source": [
    "from pyspark.sql import SparkSession"
   ]
  },
  {
   "cell_type": "markdown",
   "id": "ce13f00c-cbc6-4295-a7d4-b695e59cafef",
   "metadata": {},
   "source": [
    "# Crear SparkSession"
   ]
  },
  {
   "cell_type": "code",
   "execution_count": 5,
   "id": "8ac2c4ac-c655-48b4-9615-f20af54a52ed",
   "metadata": {},
   "outputs": [],
   "source": [
    "spark = SparkSession.builder.getOrCreate() #creacion de la SparkSession"
   ]
  },
  {
   "cell_type": "code",
   "execution_count": 6,
   "id": "44bc8eb9-f049-41ce-82e7-09bcb8a2d943",
   "metadata": {},
   "outputs": [
    {
     "data": {
      "text/html": [
       "\n",
       "            <div>\n",
       "                <p><b>SparkSession - in-memory</b></p>\n",
       "                \n",
       "        <div>\n",
       "            <p><b>SparkContext</b></p>\n",
       "\n",
       "            <p><a href=\"http://5fcc63a3e7cf:4040\">Spark UI</a></p>\n",
       "\n",
       "            <dl>\n",
       "              <dt>Version</dt>\n",
       "                <dd><code>v3.2.1</code></dd>\n",
       "              <dt>Master</dt>\n",
       "                <dd><code>local[*]</code></dd>\n",
       "              <dt>AppName</dt>\n",
       "                <dd><code>pyspark-shell</code></dd>\n",
       "            </dl>\n",
       "        </div>\n",
       "        \n",
       "            </div>\n",
       "        "
      ],
      "text/plain": [
       "<pyspark.sql.session.SparkSession at 0x7f2d0be3afa0>"
      ]
     },
     "execution_count": 6,
     "metadata": {},
     "output_type": "execute_result"
    }
   ],
   "source": [
    "spark"
   ]
  },
  {
   "cell_type": "markdown",
   "id": "c524185c-7241-40ea-8be0-8a98de85acab",
   "metadata": {},
   "source": [
    "# Creacion de la aplicacion"
   ]
  },
  {
   "cell_type": "code",
   "execution_count": 5,
   "id": "789cdd9f-7450-4ea8-bbf1-f108ab10f006",
   "metadata": {},
   "outputs": [],
   "source": [
    "# Creamos app\n",
    "spark = SparkSession.builder.appName('firstSession')\\\n",
    "    .config('spark.master','local[4]')\\\n",
    "    .config('spark.shuffle.sql.partitions',1)\\\n",
    "    .getOrCreate()\n",
    "\n",
    "# master porque estamos en el portatil, es decir, crear sparksession en modo cliente"
   ]
  },
  {
   "cell_type": "code",
   "execution_count": 6,
   "id": "c217666e-d215-49d0-aee8-bfcbac615705",
   "metadata": {},
   "outputs": [
    {
     "data": {
      "text/html": [
       "\n",
       "            <div>\n",
       "                <p><b>SparkSession - in-memory</b></p>\n",
       "                \n",
       "        <div>\n",
       "            <p><b>SparkContext</b></p>\n",
       "\n",
       "            <p><a href=\"http://5fcc63a3e7cf:4040\">Spark UI</a></p>\n",
       "\n",
       "            <dl>\n",
       "              <dt>Version</dt>\n",
       "                <dd><code>v3.2.1</code></dd>\n",
       "              <dt>Master</dt>\n",
       "                <dd><code>local[4]</code></dd>\n",
       "              <dt>AppName</dt>\n",
       "                <dd><code>firstSession</code></dd>\n",
       "            </dl>\n",
       "        </div>\n",
       "        \n",
       "            </div>\n",
       "        "
      ],
      "text/plain": [
       "<pyspark.sql.session.SparkSession at 0x7f728db95b80>"
      ]
     },
     "execution_count": 6,
     "metadata": {},
     "output_type": "execute_result"
    }
   ],
   "source": [
    "spark"
   ]
  },
  {
   "cell_type": "code",
   "execution_count": 11,
   "id": "b060e7bd-8a58-4569-b425-01080b2931b1",
   "metadata": {},
   "outputs": [
    {
     "data": {
      "text/plain": [
       "'2'"
      ]
     },
     "execution_count": 11,
     "metadata": {},
     "output_type": "execute_result"
    }
   ],
   "source": [
    "# para saber la configuracion de spark\n",
    "spark.conf.get('spark.shuffle.sql.partitions')"
   ]
  },
  {
   "cell_type": "code",
   "execution_count": 10,
   "id": "6d6071e2-e597-43b0-858a-6825db8fe446",
   "metadata": {},
   "outputs": [],
   "source": [
    "spark.conf.set('spark.shuffle.sql.partitions',2)"
   ]
  },
  {
   "cell_type": "markdown",
   "id": "a390cd97-d157-4b53-9d96-7580a19c6938",
   "metadata": {
    "tags": []
   },
   "source": [
    "# Crear tabla"
   ]
  },
  {
   "cell_type": "code",
   "execution_count": 13,
   "id": "d20346c7-3db5-43c9-956e-011f1baca81b",
   "metadata": {},
   "outputs": [],
   "source": [
    "cols = ['id','nombre','x']\n",
    "lista = [\n",
    "    (1,'bui',2),\n",
    "    (2,'paco',3)]"
   ]
  },
  {
   "cell_type": "code",
   "execution_count": 14,
   "id": "f70bc03a-749d-49bc-b96e-5b216658f4d4",
   "metadata": {},
   "outputs": [
    {
     "data": {
      "text/plain": [
       "[(1, 'bui', 2), (2, 'paco', 3)]"
      ]
     },
     "execution_count": 14,
     "metadata": {},
     "output_type": "execute_result"
    }
   ],
   "source": [
    "lista"
   ]
  },
  {
   "cell_type": "code",
   "execution_count": 15,
   "id": "0aab1689-1b47-4f11-9889-adf5189c2fc9",
   "metadata": {},
   "outputs": [
    {
     "data": {
      "text/plain": [
       "['id', 'nombre', 'x']"
      ]
     },
     "execution_count": 15,
     "metadata": {},
     "output_type": "execute_result"
    }
   ],
   "source": [
    "cols"
   ]
  },
  {
   "cell_type": "code",
   "execution_count": 17,
   "id": "97547b0b-2797-413d-b51e-c4414f572e60",
   "metadata": {},
   "outputs": [],
   "source": [
    "df1 = spark.createDataFrame(lista,schema=cols)"
   ]
  },
  {
   "cell_type": "code",
   "execution_count": 20,
   "id": "c7939708-cd90-49fa-9e73-a52d86242210",
   "metadata": {},
   "outputs": [
    {
     "data": {
      "text/plain": [
       "2"
      ]
     },
     "execution_count": 20,
     "metadata": {},
     "output_type": "execute_result"
    }
   ],
   "source": [
    "df1.count()"
   ]
  },
  {
   "cell_type": "code",
   "execution_count": 21,
   "id": "b034a882-f1c4-4c61-8854-ec42a601b513",
   "metadata": {},
   "outputs": [
    {
     "name": "stdout",
     "output_type": "stream",
     "text": [
      "+---+------+---+\n",
      "| id|nombre|  x|\n",
      "+---+------+---+\n",
      "|  1|   bui|  2|\n",
      "|  2|  paco|  3|\n",
      "+---+------+---+\n",
      "\n"
     ]
    }
   ],
   "source": [
    "df1.show()"
   ]
  },
  {
   "cell_type": "code",
   "execution_count": 22,
   "id": "0c2ab168-97ac-4d56-91c3-1f42ad93d9f9",
   "metadata": {},
   "outputs": [
    {
     "data": {
      "text/plain": [
       "['id', 'nombre', 'x']"
      ]
     },
     "execution_count": 22,
     "metadata": {},
     "output_type": "execute_result"
    }
   ],
   "source": [
    "df1.columns"
   ]
  },
  {
   "cell_type": "code",
   "execution_count": 24,
   "id": "1132066a-34eb-4c52-9387-458e742b09eb",
   "metadata": {},
   "outputs": [
    {
     "name": "stdout",
     "output_type": "stream",
     "text": [
      "root\n",
      " |-- id: long (nullable = true)\n",
      " |-- nombre: string (nullable = true)\n",
      " |-- x: long (nullable = true)\n",
      "\n"
     ]
    }
   ],
   "source": [
    "df1.printSchema() #infiere los tipos"
   ]
  },
  {
   "cell_type": "code",
   "execution_count": 25,
   "id": "04067559-66d1-411d-9f4f-91c1fb1ed111",
   "metadata": {},
   "outputs": [
    {
     "name": "stdout",
     "output_type": "stream",
     "text": [
      "+-------+------------------+------+------------------+\n",
      "|summary|                id|nombre|                 x|\n",
      "+-------+------------------+------+------------------+\n",
      "|  count|                 2|     2|                 2|\n",
      "|   mean|               1.5|  null|               2.5|\n",
      "| stddev|0.7071067811865476|  null|0.7071067811865476|\n",
      "|    min|                 1|   bui|                 2|\n",
      "|    max|                 2|  paco|                 3|\n",
      "+-------+------------------+------+------------------+\n",
      "\n"
     ]
    }
   ],
   "source": [
    "df1.describe().show()"
   ]
  },
  {
   "cell_type": "code",
   "execution_count": 26,
   "id": "a9f25f33-c937-4f29-a3ac-508cdb8e68ed",
   "metadata": {},
   "outputs": [],
   "source": [
    "from pyspark.sql.types import StructType, StructField, IntegerType, StringType"
   ]
  },
  {
   "cell_type": "code",
   "execution_count": 30,
   "id": "a3d97aca-5b6a-4ffd-9d2a-10063b044422",
   "metadata": {},
   "outputs": [],
   "source": [
    "schema1 = StructType(\n",
    "   [\n",
    "       StructField('id',IntegerType(),True),\n",
    "       StructField('nombre',StringType(),True),\n",
    "       StructField('y',IntegerType(),True)\n",
    "   ] )"
   ]
  },
  {
   "cell_type": "code",
   "execution_count": 31,
   "id": "2f73e39f-3b17-499c-adac-8ee81c3e2137",
   "metadata": {},
   "outputs": [],
   "source": [
    "df2 = spark.createDataFrame(lista,schema=schema1)"
   ]
  },
  {
   "cell_type": "code",
   "execution_count": 32,
   "id": "137b99f6-eba3-4c36-ba09-4c748c9e4f67",
   "metadata": {},
   "outputs": [
    {
     "name": "stdout",
     "output_type": "stream",
     "text": [
      "+---+------+---+\n",
      "| id|nombre|  y|\n",
      "+---+------+---+\n",
      "|  1|   bui|  2|\n",
      "|  2|  paco|  3|\n",
      "+---+------+---+\n",
      "\n"
     ]
    }
   ],
   "source": [
    "df2.show()"
   ]
  },
  {
   "cell_type": "code",
   "execution_count": 33,
   "id": "1e77aad3-24a1-4b6b-88ca-fdda626d748c",
   "metadata": {},
   "outputs": [
    {
     "name": "stdout",
     "output_type": "stream",
     "text": [
      "root\n",
      " |-- id: integer (nullable = true)\n",
      " |-- nombre: string (nullable = true)\n",
      " |-- y: integer (nullable = true)\n",
      "\n"
     ]
    }
   ],
   "source": [
    "df2.printSchema()"
   ]
  },
  {
   "cell_type": "markdown",
   "id": "b906869b-1265-4542-ac90-6f10bc953b1f",
   "metadata": {},
   "source": [
    "# A partir de un csv"
   ]
  },
  {
   "cell_type": "code",
   "execution_count": 34,
   "id": "413b1212-b29e-4aa1-84af-48676ea42486",
   "metadata": {},
   "outputs": [],
   "source": [
    "df = spark.read.csv('formula_one.csv',header=True) #sep = ','"
   ]
  },
  {
   "cell_type": "code",
   "execution_count": 35,
   "id": "892e63cc-8a21-4029-b17f-fa5e12611c2f",
   "metadata": {},
   "outputs": [
    {
     "data": {
      "text/plain": [
       "25140"
      ]
     },
     "execution_count": 35,
     "metadata": {},
     "output_type": "execute_result"
    }
   ],
   "source": [
    "df.count()"
   ]
  },
  {
   "cell_type": "code",
   "execution_count": 36,
   "id": "ec171847-9349-45d4-9fdc-884499729832",
   "metadata": {},
   "outputs": [
    {
     "name": "stdout",
     "output_type": "stream",
     "text": [
      "+--------+----------+----+---------+----------+----------+-----------+--------------------+--------+------+------+--------+-----+----+-----+---------+--------------------+----------+-----------+--------------------+\n",
      "|driverId| driverRef|code| forename|   surname|       dob|nationality|               url_x|resultId|raceId|points|position| wins|year|round|circuitId|                name|      date|     time_x|               url_y|\n",
      "+--------+----------+----+---------+----------+----------+-----------+--------------------+--------+------+------+--------+-----+----+-----+---------+--------------------+----------+-----------+--------------------+\n",
      "|       1|  hamilton| HAM|    Lewis|  Hamilton|1985-01-07|    British|http://en.wikiped...|       1|    18|  10.0|       1| True|2008|    1|        1|Australian Grand ...|2008-03-16|1:34:50.616|http://en.wikiped...|\n",
      "|       2|  heidfeld| HEI|     Nick|  Heidfeld|1977-05-10|     German|http://en.wikiped...|       2|    18|   8.0|       2|False|2008|    1|        1|Australian Grand ...|2008-03-16|     +5.478|http://en.wikiped...|\n",
      "|       3|   rosberg| ROS|     Nico|   Rosberg|1985-06-27|     German|http://en.wikiped...|       3|    18|   6.0|       3|False|2008|    1|        1|Australian Grand ...|2008-03-16|     +8.163|http://en.wikiped...|\n",
      "|       4|    alonso| ALO| Fernando|    Alonso|1981-07-29|    Spanish|http://en.wikiped...|       4|    18|   5.0|       4|False|2008|    1|        1|Australian Grand ...|2008-03-16|    +17.181|http://en.wikiped...|\n",
      "|       5|kovalainen| KOV|   Heikki|Kovalainen|1981-10-19|    Finnish|http://en.wikiped...|       5|    18|   4.0|       5|False|2008|    1|        1|Australian Grand ...|2008-03-16|    +18.014|http://en.wikiped...|\n",
      "|       6|  nakajima| NAK|   Kazuki|  Nakajima|1985-01-11|   Japanese|http://en.wikiped...|       6|    18|   3.0|       6|False|2008|    1|        1|Australian Grand ...|2008-03-16|         \\N|http://en.wikiped...|\n",
      "|       7|  bourdais| BOU|Sébastien|  Bourdais|1979-02-28|     French|http://en.wikiped...|       7|    18|   2.0|       7|False|2008|    1|        1|Australian Grand ...|2008-03-16|         \\N|http://en.wikiped...|\n",
      "|       8| raikkonen| RAI|     Kimi| Räikkönen|1979-10-17|    Finnish|http://en.wikiped...|       8|    18|   1.0|       8|False|2008|    1|        1|Australian Grand ...|2008-03-16|         \\N|http://en.wikiped...|\n",
      "|       9|    kubica| KUB|   Robert|    Kubica|1984-12-07|     Polish|http://en.wikiped...|       9|    18|   0.0|      \\N|False|2008|    1|        1|Australian Grand ...|2008-03-16|         \\N|http://en.wikiped...|\n",
      "|      10|     glock| GLO|     Timo|     Glock|1982-03-18|     German|http://en.wikiped...|      10|    18|   0.0|      \\N|False|2008|    1|        1|Australian Grand ...|2008-03-16|         \\N|http://en.wikiped...|\n",
      "|      11|      sato| SAT|   Takuma|      Sato|1977-01-28|   Japanese|http://en.wikiped...|      11|    18|   0.0|      \\N|False|2008|    1|        1|Australian Grand ...|2008-03-16|         \\N|http://en.wikiped...|\n",
      "|      12| piquet_jr| PIQ|   Nelson|Piquet Jr.|1985-07-25|  Brazilian|http://en.wikiped...|      12|    18|   0.0|      \\N|False|2008|    1|        1|Australian Grand ...|2008-03-16|         \\N|http://en.wikiped...|\n",
      "|      13|     massa| MAS|   Felipe|     Massa|1981-04-25|  Brazilian|http://en.wikiped...|      13|    18|   0.0|      \\N|False|2008|    1|        1|Australian Grand ...|2008-03-16|         \\N|http://en.wikiped...|\n",
      "|      14| coulthard| COU|    David| Coulthard|1971-03-27|    British|http://en.wikiped...|      14|    18|   0.0|      \\N|False|2008|    1|        1|Australian Grand ...|2008-03-16|         \\N|http://en.wikiped...|\n",
      "|      15|    trulli| TRU|    Jarno|    Trulli|1974-07-13|    Italian|http://en.wikiped...|      15|    18|   0.0|      \\N|False|2008|    1|        1|Australian Grand ...|2008-03-16|         \\N|http://en.wikiped...|\n",
      "|      16|     sutil| SUT|   Adrian|     Sutil|1983-01-11|     German|http://en.wikiped...|      16|    18|   0.0|      \\N|False|2008|    1|        1|Australian Grand ...|2008-03-16|         \\N|http://en.wikiped...|\n",
      "|      17|    webber| WEB|     Mark|    Webber|1976-08-27| Australian|http://en.wikiped...|      17|    18|   0.0|      \\N|False|2008|    1|        1|Australian Grand ...|2008-03-16|         \\N|http://en.wikiped...|\n",
      "|      18|    button| BUT|   Jenson|    Button|1980-01-19|    British|http://en.wikiped...|      18|    18|   0.0|      \\N|False|2008|    1|        1|Australian Grand ...|2008-03-16|         \\N|http://en.wikiped...|\n",
      "|      19|  davidson| DAV|  Anthony|  Davidson|1979-04-18|    British|http://en.wikiped...|      19|    18|   0.0|      \\N|False|2008|    1|        1|Australian Grand ...|2008-03-16|         \\N|http://en.wikiped...|\n",
      "|      20|    vettel| VET|Sebastian|    Vettel|1987-07-03|     German|http://en.wikiped...|      20|    18|   0.0|      \\N|False|2008|    1|        1|Australian Grand ...|2008-03-16|         \\N|http://en.wikiped...|\n",
      "+--------+----------+----+---------+----------+----------+-----------+--------------------+--------+------+------+--------+-----+----+-----+---------+--------------------+----------+-----------+--------------------+\n",
      "only showing top 20 rows\n",
      "\n"
     ]
    }
   ],
   "source": [
    "df.show()"
   ]
  },
  {
   "cell_type": "code",
   "execution_count": 37,
   "id": "cc03f4c0-c2de-4090-b5c6-18c33ebd3a67",
   "metadata": {},
   "outputs": [
    {
     "name": "stdout",
     "output_type": "stream",
     "text": [
      "root\n",
      " |-- driverId: string (nullable = true)\n",
      " |-- driverRef: string (nullable = true)\n",
      " |-- code: string (nullable = true)\n",
      " |-- forename: string (nullable = true)\n",
      " |-- surname: string (nullable = true)\n",
      " |-- dob: string (nullable = true)\n",
      " |-- nationality: string (nullable = true)\n",
      " |-- url_x: string (nullable = true)\n",
      " |-- resultId: string (nullable = true)\n",
      " |-- raceId: string (nullable = true)\n",
      " |-- points: string (nullable = true)\n",
      " |-- position: string (nullable = true)\n",
      " |-- wins: string (nullable = true)\n",
      " |-- year: string (nullable = true)\n",
      " |-- round: string (nullable = true)\n",
      " |-- circuitId: string (nullable = true)\n",
      " |-- name: string (nullable = true)\n",
      " |-- date: string (nullable = true)\n",
      " |-- time_x: string (nullable = true)\n",
      " |-- url_y: string (nullable = true)\n",
      "\n"
     ]
    }
   ],
   "source": [
    "df.printSchema()"
   ]
  },
  {
   "cell_type": "markdown",
   "id": "27dc5308-05be-41d2-9939-2f62b1871eca",
   "metadata": {},
   "source": [
    "# Creacion de Parquet"
   ]
  },
  {
   "cell_type": "code",
   "execution_count": 39,
   "id": "7bee223a-e5ef-4a21-99df-c1b7ac6571ed",
   "metadata": {},
   "outputs": [],
   "source": [
    "# vamos a guardarlo como parquet\n",
    "df.write.parquet('parquet_example',mode='overwrite') #parquet_example es la carpeta"
   ]
  },
  {
   "cell_type": "code",
   "execution_count": 40,
   "id": "0076e7ee-78a1-48a7-8796-2943dd5a8476",
   "metadata": {},
   "outputs": [],
   "source": [
    "#leemos el parque\n",
    "dfp = spark.read.parquet('parquet_example')"
   ]
  },
  {
   "cell_type": "code",
   "execution_count": 41,
   "id": "f8abc017-9cb4-401c-9286-935188f436c0",
   "metadata": {},
   "outputs": [
    {
     "name": "stdout",
     "output_type": "stream",
     "text": [
      "+--------+----------+----+--------+----------+----------+-----------+--------------------+--------+------+------+--------+-----+----+-----+---------+--------------------+----------+-----------+--------------------+\n",
      "|driverId| driverRef|code|forename|   surname|       dob|nationality|               url_x|resultId|raceId|points|position| wins|year|round|circuitId|                name|      date|     time_x|               url_y|\n",
      "+--------+----------+----+--------+----------+----------+-----------+--------------------+--------+------+------+--------+-----+----+-----+---------+--------------------+----------+-----------+--------------------+\n",
      "|       1|  hamilton| HAM|   Lewis|  Hamilton|1985-01-07|    British|http://en.wikiped...|       1|    18|  10.0|       1| True|2008|    1|        1|Australian Grand ...|2008-03-16|1:34:50.616|http://en.wikiped...|\n",
      "|       2|  heidfeld| HEI|    Nick|  Heidfeld|1977-05-10|     German|http://en.wikiped...|       2|    18|   8.0|       2|False|2008|    1|        1|Australian Grand ...|2008-03-16|     +5.478|http://en.wikiped...|\n",
      "|       3|   rosberg| ROS|    Nico|   Rosberg|1985-06-27|     German|http://en.wikiped...|       3|    18|   6.0|       3|False|2008|    1|        1|Australian Grand ...|2008-03-16|     +8.163|http://en.wikiped...|\n",
      "|       4|    alonso| ALO|Fernando|    Alonso|1981-07-29|    Spanish|http://en.wikiped...|       4|    18|   5.0|       4|False|2008|    1|        1|Australian Grand ...|2008-03-16|    +17.181|http://en.wikiped...|\n",
      "|       5|kovalainen| KOV|  Heikki|Kovalainen|1981-10-19|    Finnish|http://en.wikiped...|       5|    18|   4.0|       5|False|2008|    1|        1|Australian Grand ...|2008-03-16|    +18.014|http://en.wikiped...|\n",
      "+--------+----------+----+--------+----------+----------+-----------+--------------------+--------+------+------+--------+-----+----+-----+---------+--------------------+----------+-----------+--------------------+\n",
      "only showing top 5 rows\n",
      "\n"
     ]
    }
   ],
   "source": [
    "dfp.show(5)"
   ]
  },
  {
   "cell_type": "code",
   "execution_count": 42,
   "id": "b6891141-56fc-4362-8c1e-6c477cafc9c2",
   "metadata": {},
   "outputs": [
    {
     "name": "stdout",
     "output_type": "stream",
     "text": [
      "root\n",
      " |-- driverId: string (nullable = true)\n",
      " |-- driverRef: string (nullable = true)\n",
      " |-- code: string (nullable = true)\n",
      " |-- forename: string (nullable = true)\n",
      " |-- surname: string (nullable = true)\n",
      " |-- dob: string (nullable = true)\n",
      " |-- nationality: string (nullable = true)\n",
      " |-- url_x: string (nullable = true)\n",
      " |-- resultId: string (nullable = true)\n",
      " |-- raceId: string (nullable = true)\n",
      " |-- points: string (nullable = true)\n",
      " |-- position: string (nullable = true)\n",
      " |-- wins: string (nullable = true)\n",
      " |-- year: string (nullable = true)\n",
      " |-- round: string (nullable = true)\n",
      " |-- circuitId: string (nullable = true)\n",
      " |-- name: string (nullable = true)\n",
      " |-- date: string (nullable = true)\n",
      " |-- time_x: string (nullable = true)\n",
      " |-- url_y: string (nullable = true)\n",
      "\n"
     ]
    }
   ],
   "source": [
    "dfp.printSchema()"
   ]
  },
  {
   "cell_type": "code",
   "execution_count": 43,
   "id": "6895435c-1dda-450a-aa46-f9b79d19e2ae",
   "metadata": {},
   "outputs": [
    {
     "name": "stdout",
     "output_type": "stream",
     "text": [
      "+-------+------------------+---------+-----+--------+---------+----------+-----------+--------------------+------------------+-----------------+------------------+-----------------+-----+------------------+-----------------+------------------+--------------------+----------+-----------------+--------------------+\n",
      "|summary|          driverId|driverRef| code|forename|  surname|       dob|nationality|               url_x|          resultId|           raceId|            points|         position| wins|              year|            round|         circuitId|                name|      date|           time_x|               url_y|\n",
      "+-------+------------------+---------+-----+--------+---------+----------+-----------+--------------------+------------------+-----------------+------------------+-----------------+-----+------------------+-----------------+------------------+--------------------+----------+-----------------+--------------------+\n",
      "|  count|             25140|    25140|25140|   25140|    25140|     25140|      25140|               25140|             25140|            25140|             25140|            25140|25140|             25140|            25140|             25140|               25140|     25140|            25140|               25140|\n",
      "|   mean|249.50043754972157|     null| null|    null|     null|      null|       null|                null|12571.218337311058|516.2157120127288|1.7895206841686557|7.892348321634582| null| 1989.378122513922|8.252744630071598|22.074105011933174|                null|      null|29.49032264957267|                null|\n",
      "| stddev| 256.8756393987567|     null| null|    null|     null|      null|       null|                null| 7258.469116677341|289.1673483091163| 4.018738302134354| 4.78758013156325| null|18.880973803808633|4.861280514085315|16.616504924408463|                null|      null|19.16703913281738|                null|\n",
      "|    min|                 1|   Cannoc|  AIT|   Adolf|    Abate|1896-12-28|   American|http://en.wikiped...|                 1|                1|               0.0|                1|False|              1950|                1|                 1|70th Anniversary ...|1950-05-13|         + 1:06.7|http://en.wikiped...|\n",
      "|    max|                99|   zunino|   \\N|   Óscar|Étancelin|2000-05-11| Venezuelan|http://en.wikiped...|              9999|              999|               9.0|               \\N| True|              2021|                9|                 9|United States Gra...|2021-07-04|               \\N|https://en.wikipe...|\n",
      "+-------+------------------+---------+-----+--------+---------+----------+-----------+--------------------+------------------+-----------------+------------------+-----------------+-----+------------------+-----------------+------------------+--------------------+----------+-----------------+--------------------+\n",
      "\n"
     ]
    }
   ],
   "source": [
    "dfp.describe().show()"
   ]
  },
  {
   "cell_type": "code",
   "execution_count": 44,
   "id": "69fc9653-58fc-41cb-aad6-08c23136d0f1",
   "metadata": {},
   "outputs": [],
   "source": [
    "df_pandas = dfp.toPandas() #esto no es para manejar grandes vol de datos"
   ]
  },
  {
   "cell_type": "code",
   "execution_count": 45,
   "id": "67beb751-e29c-4114-aeac-2221285d86fa",
   "metadata": {},
   "outputs": [
    {
     "data": {
      "text/html": [
       "<div>\n",
       "<style scoped>\n",
       "    .dataframe tbody tr th:only-of-type {\n",
       "        vertical-align: middle;\n",
       "    }\n",
       "\n",
       "    .dataframe tbody tr th {\n",
       "        vertical-align: top;\n",
       "    }\n",
       "\n",
       "    .dataframe thead th {\n",
       "        text-align: right;\n",
       "    }\n",
       "</style>\n",
       "<table border=\"1\" class=\"dataframe\">\n",
       "  <thead>\n",
       "    <tr style=\"text-align: right;\">\n",
       "      <th></th>\n",
       "      <th>driverId</th>\n",
       "      <th>driverRef</th>\n",
       "      <th>code</th>\n",
       "      <th>forename</th>\n",
       "      <th>surname</th>\n",
       "      <th>dob</th>\n",
       "      <th>nationality</th>\n",
       "      <th>url_x</th>\n",
       "      <th>resultId</th>\n",
       "      <th>raceId</th>\n",
       "      <th>points</th>\n",
       "      <th>position</th>\n",
       "      <th>wins</th>\n",
       "      <th>year</th>\n",
       "      <th>round</th>\n",
       "      <th>circuitId</th>\n",
       "      <th>name</th>\n",
       "      <th>date</th>\n",
       "      <th>time_x</th>\n",
       "      <th>url_y</th>\n",
       "    </tr>\n",
       "  </thead>\n",
       "  <tbody>\n",
       "    <tr>\n",
       "      <th>0</th>\n",
       "      <td>1</td>\n",
       "      <td>hamilton</td>\n",
       "      <td>HAM</td>\n",
       "      <td>Lewis</td>\n",
       "      <td>Hamilton</td>\n",
       "      <td>1985-01-07</td>\n",
       "      <td>British</td>\n",
       "      <td>http://en.wikipedia.org/wiki/Lewis_Hamilton</td>\n",
       "      <td>1</td>\n",
       "      <td>18</td>\n",
       "      <td>10.0</td>\n",
       "      <td>1</td>\n",
       "      <td>True</td>\n",
       "      <td>2008</td>\n",
       "      <td>1</td>\n",
       "      <td>1</td>\n",
       "      <td>Australian Grand Prix</td>\n",
       "      <td>2008-03-16</td>\n",
       "      <td>1:34:50.616</td>\n",
       "      <td>http://en.wikipedia.org/wiki/2008_Australian_G...</td>\n",
       "    </tr>\n",
       "    <tr>\n",
       "      <th>1</th>\n",
       "      <td>2</td>\n",
       "      <td>heidfeld</td>\n",
       "      <td>HEI</td>\n",
       "      <td>Nick</td>\n",
       "      <td>Heidfeld</td>\n",
       "      <td>1977-05-10</td>\n",
       "      <td>German</td>\n",
       "      <td>http://en.wikipedia.org/wiki/Nick_Heidfeld</td>\n",
       "      <td>2</td>\n",
       "      <td>18</td>\n",
       "      <td>8.0</td>\n",
       "      <td>2</td>\n",
       "      <td>False</td>\n",
       "      <td>2008</td>\n",
       "      <td>1</td>\n",
       "      <td>1</td>\n",
       "      <td>Australian Grand Prix</td>\n",
       "      <td>2008-03-16</td>\n",
       "      <td>+5.478</td>\n",
       "      <td>http://en.wikipedia.org/wiki/2008_Australian_G...</td>\n",
       "    </tr>\n",
       "    <tr>\n",
       "      <th>2</th>\n",
       "      <td>3</td>\n",
       "      <td>rosberg</td>\n",
       "      <td>ROS</td>\n",
       "      <td>Nico</td>\n",
       "      <td>Rosberg</td>\n",
       "      <td>1985-06-27</td>\n",
       "      <td>German</td>\n",
       "      <td>http://en.wikipedia.org/wiki/Nico_Rosberg</td>\n",
       "      <td>3</td>\n",
       "      <td>18</td>\n",
       "      <td>6.0</td>\n",
       "      <td>3</td>\n",
       "      <td>False</td>\n",
       "      <td>2008</td>\n",
       "      <td>1</td>\n",
       "      <td>1</td>\n",
       "      <td>Australian Grand Prix</td>\n",
       "      <td>2008-03-16</td>\n",
       "      <td>+8.163</td>\n",
       "      <td>http://en.wikipedia.org/wiki/2008_Australian_G...</td>\n",
       "    </tr>\n",
       "    <tr>\n",
       "      <th>3</th>\n",
       "      <td>4</td>\n",
       "      <td>alonso</td>\n",
       "      <td>ALO</td>\n",
       "      <td>Fernando</td>\n",
       "      <td>Alonso</td>\n",
       "      <td>1981-07-29</td>\n",
       "      <td>Spanish</td>\n",
       "      <td>http://en.wikipedia.org/wiki/Fernando_Alonso</td>\n",
       "      <td>4</td>\n",
       "      <td>18</td>\n",
       "      <td>5.0</td>\n",
       "      <td>4</td>\n",
       "      <td>False</td>\n",
       "      <td>2008</td>\n",
       "      <td>1</td>\n",
       "      <td>1</td>\n",
       "      <td>Australian Grand Prix</td>\n",
       "      <td>2008-03-16</td>\n",
       "      <td>+17.181</td>\n",
       "      <td>http://en.wikipedia.org/wiki/2008_Australian_G...</td>\n",
       "    </tr>\n",
       "    <tr>\n",
       "      <th>4</th>\n",
       "      <td>5</td>\n",
       "      <td>kovalainen</td>\n",
       "      <td>KOV</td>\n",
       "      <td>Heikki</td>\n",
       "      <td>Kovalainen</td>\n",
       "      <td>1981-10-19</td>\n",
       "      <td>Finnish</td>\n",
       "      <td>http://en.wikipedia.org/wiki/Heikki_Kovalainen</td>\n",
       "      <td>5</td>\n",
       "      <td>18</td>\n",
       "      <td>4.0</td>\n",
       "      <td>5</td>\n",
       "      <td>False</td>\n",
       "      <td>2008</td>\n",
       "      <td>1</td>\n",
       "      <td>1</td>\n",
       "      <td>Australian Grand Prix</td>\n",
       "      <td>2008-03-16</td>\n",
       "      <td>+18.014</td>\n",
       "      <td>http://en.wikipedia.org/wiki/2008_Australian_G...</td>\n",
       "    </tr>\n",
       "  </tbody>\n",
       "</table>\n",
       "</div>"
      ],
      "text/plain": [
       "  driverId   driverRef code  forename     surname         dob nationality  \\\n",
       "0        1    hamilton  HAM     Lewis    Hamilton  1985-01-07     British   \n",
       "1        2    heidfeld  HEI      Nick    Heidfeld  1977-05-10      German   \n",
       "2        3     rosberg  ROS      Nico     Rosberg  1985-06-27      German   \n",
       "3        4      alonso  ALO  Fernando      Alonso  1981-07-29     Spanish   \n",
       "4        5  kovalainen  KOV    Heikki  Kovalainen  1981-10-19     Finnish   \n",
       "\n",
       "                                            url_x resultId raceId points  \\\n",
       "0     http://en.wikipedia.org/wiki/Lewis_Hamilton        1     18   10.0   \n",
       "1      http://en.wikipedia.org/wiki/Nick_Heidfeld        2     18    8.0   \n",
       "2       http://en.wikipedia.org/wiki/Nico_Rosberg        3     18    6.0   \n",
       "3    http://en.wikipedia.org/wiki/Fernando_Alonso        4     18    5.0   \n",
       "4  http://en.wikipedia.org/wiki/Heikki_Kovalainen        5     18    4.0   \n",
       "\n",
       "  position   wins  year round circuitId                   name        date  \\\n",
       "0        1   True  2008     1         1  Australian Grand Prix  2008-03-16   \n",
       "1        2  False  2008     1         1  Australian Grand Prix  2008-03-16   \n",
       "2        3  False  2008     1         1  Australian Grand Prix  2008-03-16   \n",
       "3        4  False  2008     1         1  Australian Grand Prix  2008-03-16   \n",
       "4        5  False  2008     1         1  Australian Grand Prix  2008-03-16   \n",
       "\n",
       "        time_x                                              url_y  \n",
       "0  1:34:50.616  http://en.wikipedia.org/wiki/2008_Australian_G...  \n",
       "1       +5.478  http://en.wikipedia.org/wiki/2008_Australian_G...  \n",
       "2       +8.163  http://en.wikipedia.org/wiki/2008_Australian_G...  \n",
       "3      +17.181  http://en.wikipedia.org/wiki/2008_Australian_G...  \n",
       "4      +18.014  http://en.wikipedia.org/wiki/2008_Australian_G...  "
      ]
     },
     "execution_count": 45,
     "metadata": {},
     "output_type": "execute_result"
    }
   ],
   "source": [
    "df_pandas.head()"
   ]
  },
  {
   "cell_type": "code",
   "execution_count": 46,
   "id": "a31c854f-97d4-4241-8868-4726e3dea836",
   "metadata": {},
   "outputs": [
    {
     "data": {
      "text/plain": [
       "pandas.core.frame.DataFrame"
      ]
     },
     "execution_count": 46,
     "metadata": {},
     "output_type": "execute_result"
    }
   ],
   "source": [
    "type(df_pandas)"
   ]
  },
  {
   "cell_type": "code",
   "execution_count": 47,
   "id": "212339e9-326a-490f-968d-19dbb851307d",
   "metadata": {},
   "outputs": [],
   "source": [
    "spark.stop()"
   ]
  },
  {
   "cell_type": "markdown",
   "id": "00c1d3b8-2ac0-4d44-825a-0698243daa3a",
   "metadata": {},
   "source": [
    "# Más cosas"
   ]
  },
  {
   "cell_type": "code",
   "execution_count": 1,
   "id": "29ec2652-7dd1-4d4a-bd82-561182493f5d",
   "metadata": {},
   "outputs": [],
   "source": [
    "import findspark\n",
    "findspark.init()"
   ]
  },
  {
   "cell_type": "code",
   "execution_count": 2,
   "id": "02729421-c13c-44e0-b251-9baae853bb18",
   "metadata": {},
   "outputs": [],
   "source": [
    "from pyspark.sql import SparkSession"
   ]
  },
  {
   "cell_type": "code",
   "execution_count": 3,
   "id": "8ca85190-d9f9-471b-a7b4-09bc00a06dc0",
   "metadata": {},
   "outputs": [],
   "source": [
    "spark = SparkSession.builder.appName('columnTransform').getOrCreate()"
   ]
  },
  {
   "cell_type": "code",
   "execution_count": 7,
   "id": "0c5538ea-42ec-4970-81f1-30a807a5f92f",
   "metadata": {},
   "outputs": [],
   "source": [
    "df = spark.read.parquet('parquet_example')"
   ]
  },
  {
   "cell_type": "code",
   "execution_count": 8,
   "id": "6a954950-33d5-4184-acb9-1e600cb78311",
   "metadata": {},
   "outputs": [
    {
     "name": "stdout",
     "output_type": "stream",
     "text": [
      "+--------+---------+----+--------+--------+----------+-----------+--------------------+--------+------+------+--------+-----+----+-----+---------+--------------------+----------+-----------+--------------------+\n",
      "|driverId|driverRef|code|forename| surname|       dob|nationality|               url_x|resultId|raceId|points|position| wins|year|round|circuitId|                name|      date|     time_x|               url_y|\n",
      "+--------+---------+----+--------+--------+----------+-----------+--------------------+--------+------+------+--------+-----+----+-----+---------+--------------------+----------+-----------+--------------------+\n",
      "|       1| hamilton| HAM|   Lewis|Hamilton|1985-01-07|    British|http://en.wikiped...|       1|    18|  10.0|       1| True|2008|    1|        1|Australian Grand ...|2008-03-16|1:34:50.616|http://en.wikiped...|\n",
      "|       2| heidfeld| HEI|    Nick|Heidfeld|1977-05-10|     German|http://en.wikiped...|       2|    18|   8.0|       2|False|2008|    1|        1|Australian Grand ...|2008-03-16|     +5.478|http://en.wikiped...|\n",
      "+--------+---------+----+--------+--------+----------+-----------+--------------------+--------+------+------+--------+-----+----+-----+---------+--------------------+----------+-----------+--------------------+\n",
      "only showing top 2 rows\n",
      "\n"
     ]
    }
   ],
   "source": [
    "df.show(2)"
   ]
  },
  {
   "cell_type": "code",
   "execution_count": 9,
   "id": "b740d702-e461-427d-9925-5e4d134922b9",
   "metadata": {},
   "outputs": [
    {
     "name": "stdout",
     "output_type": "stream",
     "text": [
      "root\n",
      " |-- driverId: string (nullable = true)\n",
      " |-- driverRef: string (nullable = true)\n",
      " |-- code: string (nullable = true)\n",
      " |-- forename: string (nullable = true)\n",
      " |-- surname: string (nullable = true)\n",
      " |-- dob: string (nullable = true)\n",
      " |-- nationality: string (nullable = true)\n",
      " |-- url_x: string (nullable = true)\n",
      " |-- resultId: string (nullable = true)\n",
      " |-- raceId: string (nullable = true)\n",
      " |-- points: string (nullable = true)\n",
      " |-- position: string (nullable = true)\n",
      " |-- wins: string (nullable = true)\n",
      " |-- year: string (nullable = true)\n",
      " |-- round: string (nullable = true)\n",
      " |-- circuitId: string (nullable = true)\n",
      " |-- name: string (nullable = true)\n",
      " |-- date: string (nullable = true)\n",
      " |-- time_x: string (nullable = true)\n",
      " |-- url_y: string (nullable = true)\n",
      "\n"
     ]
    }
   ],
   "source": [
    "df.printSchema()"
   ]
  },
  {
   "cell_type": "code",
   "execution_count": 16,
   "id": "4fc60073-3ddf-40cc-8a5d-ecd06726da4d",
   "metadata": {},
   "outputs": [
    {
     "data": {
      "text/plain": [
       "['driverId', 'forename', 'surname']"
      ]
     },
     "execution_count": 16,
     "metadata": {},
     "output_type": "execute_result"
    }
   ],
   "source": [
    "sel_col = ['driverId','forename','surname']\n",
    "sel_col"
   ]
  },
  {
   "cell_type": "code",
   "execution_count": 17,
   "id": "f03d878e-cd49-43bd-8fb6-afb4047ebbd5",
   "metadata": {},
   "outputs": [],
   "source": [
    "df_sel = df.select(sel_col)"
   ]
  },
  {
   "cell_type": "code",
   "execution_count": 18,
   "id": "0a3536ea-6c18-4d41-a596-a3e2efb7c96b",
   "metadata": {},
   "outputs": [
    {
     "name": "stdout",
     "output_type": "stream",
     "text": [
      "+--------+--------+----------+\n",
      "|driverId|forename|   surname|\n",
      "+--------+--------+----------+\n",
      "|       1|   Lewis|  Hamilton|\n",
      "|       2|    Nick|  Heidfeld|\n",
      "|       3|    Nico|   Rosberg|\n",
      "|       4|Fernando|    Alonso|\n",
      "|       5|  Heikki|Kovalainen|\n",
      "+--------+--------+----------+\n",
      "only showing top 5 rows\n",
      "\n"
     ]
    }
   ],
   "source": [
    "df_sel.show(5)"
   ]
  },
  {
   "cell_type": "code",
   "execution_count": 26,
   "id": "6dcd06ef-3006-4778-b4a7-23042953452b",
   "metadata": {},
   "outputs": [],
   "source": [
    "#Renombrar las columnas\n",
    "df_sel = df_sel.withColumnRenamed(\"driverId\",\"id\")"
   ]
  },
  {
   "cell_type": "code",
   "execution_count": 27,
   "id": "9ed27517-1b80-4709-bfe8-351b52ed9cc5",
   "metadata": {},
   "outputs": [
    {
     "name": "stdout",
     "output_type": "stream",
     "text": [
      "+---+---------+----------+\n",
      "| id| forename|   surname|\n",
      "+---+---------+----------+\n",
      "|  1|    Lewis|  Hamilton|\n",
      "|  2|     Nick|  Heidfeld|\n",
      "|  3|     Nico|   Rosberg|\n",
      "|  4| Fernando|    Alonso|\n",
      "|  5|   Heikki|Kovalainen|\n",
      "|  6|   Kazuki|  Nakajima|\n",
      "|  7|Sébastien|  Bourdais|\n",
      "|  8|     Kimi| Räikkönen|\n",
      "|  9|   Robert|    Kubica|\n",
      "| 10|     Timo|     Glock|\n",
      "| 11|   Takuma|      Sato|\n",
      "| 12|   Nelson|Piquet Jr.|\n",
      "| 13|   Felipe|     Massa|\n",
      "| 14|    David| Coulthard|\n",
      "| 15|    Jarno|    Trulli|\n",
      "| 16|   Adrian|     Sutil|\n",
      "| 17|     Mark|    Webber|\n",
      "| 18|   Jenson|    Button|\n",
      "| 19|  Anthony|  Davidson|\n",
      "| 20|Sebastian|    Vettel|\n",
      "+---+---------+----------+\n",
      "only showing top 20 rows\n",
      "\n"
     ]
    }
   ],
   "source": [
    "df_sel.show()"
   ]
  },
  {
   "cell_type": "code",
   "execution_count": 29,
   "id": "0c72c2b3-cf64-47af-97e4-f9dfd3590f8c",
   "metadata": {},
   "outputs": [
    {
     "name": "stdout",
     "output_type": "stream",
     "text": [
      "+---------+--------+\n",
      "|  surname|forename|\n",
      "+---------+--------+\n",
      "|    Abate|   Carlo|\n",
      "|    Abate|   Carlo|\n",
      "|Abecassis|  George|\n",
      "|Abecassis|  George|\n",
      "|  Acheson|   Kenny|\n",
      "+---------+--------+\n",
      "only showing top 5 rows\n",
      "\n"
     ]
    }
   ],
   "source": [
    "#ordenar columnas\n",
    "df_sel.sort('surname')[[\"surname\",\"forename\"]].show(5)"
   ]
  },
  {
   "cell_type": "code",
   "execution_count": 30,
   "id": "373e8f3c-edfb-4c9e-99b5-fc09cc17df1e",
   "metadata": {},
   "outputs": [],
   "source": [
    "from pyspark.sql import functions as F"
   ]
  },
  {
   "cell_type": "code",
   "execution_count": 31,
   "id": "dce8df0f-e70a-41b8-ac6d-5cce9615bcd2",
   "metadata": {},
   "outputs": [
    {
     "name": "stdout",
     "output_type": "stream",
     "text": [
      "+---------+--------+\n",
      "|  surname|forename|\n",
      "+---------+--------+\n",
      "|Étancelin|Philippe|\n",
      "|Étancelin|Philippe|\n",
      "|Étancelin|Philippe|\n",
      "|Étancelin|Philippe|\n",
      "|Étancelin|Philippe|\n",
      "+---------+--------+\n",
      "only showing top 5 rows\n",
      "\n"
     ]
    }
   ],
   "source": [
    "df_sel.sort(F.desc('surname'))[[\"surname\",\"forename\"]].show(5)"
   ]
  },
  {
   "cell_type": "code",
   "execution_count": 32,
   "id": "03b47b82-b2a7-486c-98e9-3fecec4b6ca5",
   "metadata": {},
   "outputs": [],
   "source": [
    "# cambiar tipo de columnas\n",
    "from pyspark.sql.types import DoubleType, IntegerType, StringType"
   ]
  },
  {
   "cell_type": "code",
   "execution_count": 33,
   "id": "7d5ad8c0-eec2-4633-b389-ecf5cc89174c",
   "metadata": {},
   "outputs": [],
   "source": [
    "df_sel = df_sel.withColumn(\"id\",F.col(\"id\").cast(DoubleType()))"
   ]
  },
  {
   "cell_type": "code",
   "execution_count": 35,
   "id": "ec7b62be-e434-4a5f-be43-b51be63e9ac3",
   "metadata": {},
   "outputs": [
    {
     "name": "stdout",
     "output_type": "stream",
     "text": [
      "root\n",
      " |-- id: double (nullable = true)\n",
      " |-- forename: string (nullable = true)\n",
      " |-- surname: string (nullable = true)\n",
      "\n"
     ]
    }
   ],
   "source": [
    "df_sel.printSchema()"
   ]
  },
  {
   "cell_type": "code",
   "execution_count": 36,
   "id": "be09a0cb-e733-48a0-8b4c-86e64f38be22",
   "metadata": {},
   "outputs": [],
   "source": [
    "# Filtros\n",
    "df_filter = df_sel.filter(F.col(\"id\")>100)"
   ]
  },
  {
   "cell_type": "code",
   "execution_count": 39,
   "id": "af3e9353-95f3-4ad3-aaa2-9977953c9d5d",
   "metadata": {},
   "outputs": [
    {
     "data": {
      "text/plain": [
       "16169"
      ]
     },
     "execution_count": 39,
     "metadata": {},
     "output_type": "execute_result"
    }
   ],
   "source": [
    "df_filter.count()"
   ]
  },
  {
   "cell_type": "code",
   "execution_count": 40,
   "id": "09f7ae34-14d8-4edb-a1eb-f15530f0dc9c",
   "metadata": {},
   "outputs": [
    {
     "data": {
      "text/plain": [
       "25140"
      ]
     },
     "execution_count": 40,
     "metadata": {},
     "output_type": "execute_result"
    }
   ],
   "source": [
    "df_sel.count()"
   ]
  },
  {
   "cell_type": "code",
   "execution_count": 45,
   "id": "9d1f3534-5a52-4ea6-a4b7-4774df899ab4",
   "metadata": {},
   "outputs": [],
   "source": [
    "df_filter2 = df_sel.filter((F.col(\"forename\")==\"Fernando\")&(F.col(\"surname\")==\"Alonso\"))"
   ]
  },
  {
   "cell_type": "code",
   "execution_count": 46,
   "id": "0d086854-533a-4e6e-aa76-2d6cac7e0e2a",
   "metadata": {},
   "outputs": [
    {
     "name": "stdout",
     "output_type": "stream",
     "text": [
      "+---+--------+-------+\n",
      "| id|forename|surname|\n",
      "+---+--------+-------+\n",
      "|4.0|Fernando| Alonso|\n",
      "|4.0|Fernando| Alonso|\n",
      "|4.0|Fernando| Alonso|\n",
      "|4.0|Fernando| Alonso|\n",
      "|4.0|Fernando| Alonso|\n",
      "|4.0|Fernando| Alonso|\n",
      "|4.0|Fernando| Alonso|\n",
      "|4.0|Fernando| Alonso|\n",
      "|4.0|Fernando| Alonso|\n",
      "|4.0|Fernando| Alonso|\n",
      "|4.0|Fernando| Alonso|\n",
      "|4.0|Fernando| Alonso|\n",
      "|4.0|Fernando| Alonso|\n",
      "|4.0|Fernando| Alonso|\n",
      "|4.0|Fernando| Alonso|\n",
      "|4.0|Fernando| Alonso|\n",
      "|4.0|Fernando| Alonso|\n",
      "|4.0|Fernando| Alonso|\n",
      "|4.0|Fernando| Alonso|\n",
      "|4.0|Fernando| Alonso|\n",
      "+---+--------+-------+\n",
      "only showing top 20 rows\n",
      "\n"
     ]
    }
   ],
   "source": [
    "df_filter2.show()"
   ]
  },
  {
   "cell_type": "code",
   "execution_count": 51,
   "id": "841e0cba-4e03-4755-ad6f-786e76e4110c",
   "metadata": {},
   "outputs": [],
   "source": [
    "df_year = df.withColumn('year2',F.split(\"date\",'\\-')[0].cast(IntegerType()))"
   ]
  },
  {
   "cell_type": "code",
   "execution_count": 52,
   "id": "dbbba6ff-1481-438b-b253-6d3bf24dd71a",
   "metadata": {},
   "outputs": [
    {
     "name": "stdout",
     "output_type": "stream",
     "text": [
      "+--------+---------+----+--------+--------+----------+-----------+--------------------+--------+------+------+--------+-----+----+-----+---------+--------------------+----------+-----------+--------------------+-----+\n",
      "|driverId|driverRef|code|forename| surname|       dob|nationality|               url_x|resultId|raceId|points|position| wins|year|round|circuitId|                name|      date|     time_x|               url_y|year2|\n",
      "+--------+---------+----+--------+--------+----------+-----------+--------------------+--------+------+------+--------+-----+----+-----+---------+--------------------+----------+-----------+--------------------+-----+\n",
      "|       1| hamilton| HAM|   Lewis|Hamilton|1985-01-07|    British|http://en.wikiped...|       1|    18|  10.0|       1| True|2008|    1|        1|Australian Grand ...|2008-03-16|1:34:50.616|http://en.wikiped...| 2008|\n",
      "|       2| heidfeld| HEI|    Nick|Heidfeld|1977-05-10|     German|http://en.wikiped...|       2|    18|   8.0|       2|False|2008|    1|        1|Australian Grand ...|2008-03-16|     +5.478|http://en.wikiped...| 2008|\n",
      "+--------+---------+----+--------+--------+----------+-----------+--------------------+--------+------+------+--------+-----+----+-----+---------+--------------------+----------+-----------+--------------------+-----+\n",
      "only showing top 2 rows\n",
      "\n"
     ]
    }
   ],
   "source": [
    "df_year.show(2)"
   ]
  },
  {
   "cell_type": "code",
   "execution_count": 53,
   "id": "2b2d7d6b-81fa-4fa0-a410-e921941c4d34",
   "metadata": {},
   "outputs": [
    {
     "name": "stdout",
     "output_type": "stream",
     "text": [
      "root\n",
      " |-- driverId: string (nullable = true)\n",
      " |-- driverRef: string (nullable = true)\n",
      " |-- code: string (nullable = true)\n",
      " |-- forename: string (nullable = true)\n",
      " |-- surname: string (nullable = true)\n",
      " |-- dob: string (nullable = true)\n",
      " |-- nationality: string (nullable = true)\n",
      " |-- url_x: string (nullable = true)\n",
      " |-- resultId: string (nullable = true)\n",
      " |-- raceId: string (nullable = true)\n",
      " |-- points: string (nullable = true)\n",
      " |-- position: string (nullable = true)\n",
      " |-- wins: string (nullable = true)\n",
      " |-- year: string (nullable = true)\n",
      " |-- round: string (nullable = true)\n",
      " |-- circuitId: string (nullable = true)\n",
      " |-- name: string (nullable = true)\n",
      " |-- date: string (nullable = true)\n",
      " |-- time_x: string (nullable = true)\n",
      " |-- url_y: string (nullable = true)\n",
      " |-- year2: integer (nullable = true)\n",
      "\n"
     ]
    }
   ],
   "source": [
    "df_year.printSchema()"
   ]
  },
  {
   "cell_type": "code",
   "execution_count": 54,
   "id": "c579a0dc-961a-4871-9804-4a20bc728476",
   "metadata": {},
   "outputs": [],
   "source": [
    "spark.stop()"
   ]
  },
  {
   "cell_type": "code",
   "execution_count": null,
   "id": "f174d687-8007-4df4-8f39-f88faba676ff",
   "metadata": {},
   "outputs": [],
   "source": []
  }
 ],
 "metadata": {
  "kernelspec": {
   "display_name": "Python 3 (ipykernel)",
   "language": "python",
   "name": "python3"
  },
  "language_info": {
   "codemirror_mode": {
    "name": "ipython",
    "version": 3
   },
   "file_extension": ".py",
   "mimetype": "text/x-python",
   "name": "python",
   "nbconvert_exporter": "python",
   "pygments_lexer": "ipython3",
   "version": "3.9.12"
  }
 },
 "nbformat": 4,
 "nbformat_minor": 5
}
