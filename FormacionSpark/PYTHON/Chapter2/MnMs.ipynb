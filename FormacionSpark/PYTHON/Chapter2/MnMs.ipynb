{
 "cells": [
  {
   "cell_type": "markdown",
   "id": "446449b4-a8e2-464b-a7d2-8017ef310ded",
   "metadata": {},
   "source": [
    "# Ejercicio de contar MnM's"
   ]
  },
  {
   "cell_type": "code",
   "execution_count": 1,
   "id": "14177b0e-34dc-434d-b7b2-55d86228ee45",
   "metadata": {},
   "outputs": [],
   "source": [
    "import findspark\n",
    "findspark.init()"
   ]
  },
  {
   "cell_type": "code",
   "execution_count": 2,
   "id": "5406ef78-11d4-45a4-b6e2-7560da8ed2d6",
   "metadata": {},
   "outputs": [],
   "source": [
    "from pyspark.sql import SparkSession"
   ]
  },
  {
   "cell_type": "code",
   "execution_count": 3,
   "id": "1d7c62c6-c78f-4cf9-aa7b-361552f15f08",
   "metadata": {},
   "outputs": [],
   "source": [
    "from pyspark.sql import functions as F"
   ]
  },
  {
   "cell_type": "code",
   "execution_count": 4,
   "id": "013f8157-891d-4e50-80c3-d1e6d00c736a",
   "metadata": {},
   "outputs": [],
   "source": [
    "import sys"
   ]
  },
  {
   "cell_type": "code",
   "execution_count": 5,
   "id": "6eddb001-dee9-42b9-83b5-fca83de3916d",
   "metadata": {},
   "outputs": [],
   "source": [
    "spark = SparkSession.builder.appName(\"MnMCountPy\").getOrCreate()"
   ]
  },
  {
   "cell_type": "code",
   "execution_count": 6,
   "id": "feb82909-a1e1-472a-9da3-b78a698072cf",
   "metadata": {},
   "outputs": [],
   "source": [
    "mnm_ruta = \"mnm_dataset.csv\""
   ]
  },
  {
   "cell_type": "code",
   "execution_count": 7,
   "id": "3f35e00a-74d4-4365-b2d5-0e2041010e0e",
   "metadata": {},
   "outputs": [],
   "source": [
    "mnm = spark.read.csv(\"mnm_dataset.csv\",header=True,inferSchema=True)"
   ]
  },
  {
   "cell_type": "code",
   "execution_count": 8,
   "id": "58921caa-5631-4567-b4b2-b9b4c6be2423",
   "metadata": {},
   "outputs": [
    {
     "name": "stdout",
     "output_type": "stream",
     "text": [
      "root\n",
      " |-- State: string (nullable = true)\n",
      " |-- Color: string (nullable = true)\n",
      " |-- Count: integer (nullable = true)\n",
      "\n"
     ]
    }
   ],
   "source": [
    "mnm.printSchema()"
   ]
  },
  {
   "cell_type": "code",
   "execution_count": 9,
   "id": "4ab9b4b6-b672-493d-a673-da68b651079f",
   "metadata": {},
   "outputs": [
    {
     "name": "stdout",
     "output_type": "stream",
     "text": [
      "+-----+------+-----+\n",
      "|State| Color|Count|\n",
      "+-----+------+-----+\n",
      "|   TX|   Red|   20|\n",
      "|   NV|  Blue|   66|\n",
      "|   CO|  Blue|   79|\n",
      "|   OR|  Blue|   71|\n",
      "|   WA|Yellow|   93|\n",
      "+-----+------+-----+\n",
      "only showing top 5 rows\n",
      "\n"
     ]
    }
   ],
   "source": [
    "mnm.show(5)"
   ]
  },
  {
   "cell_type": "code",
   "execution_count": 41,
   "id": "236dbbb0-f7e4-4487-94ef-57fffd5379bb",
   "metadata": {},
   "outputs": [],
   "source": [
    "dfcount = mnm.select(\"State\",\"Color\",\"Count\")\\\n",
    "            .groupBy(\"State\",\"Color\")\\\n",
    "            .agg(F.count(\"Count\").alias(\"Total\"),F.sum(\"Count\").alias(\"Suma\"))\\\n",
    "            .orderBy(\"Total\",ascending=False)"
   ]
  },
  {
   "cell_type": "code",
   "execution_count": 18,
   "id": "d8218194-df7c-4ca0-bdc4-9be8a49a102f",
   "metadata": {},
   "outputs": [],
   "source": [
    "df2 = mnm.select(\"State\",\"Color\",\"Count\")\\\n",
    "            .groupBy(\"State\",\"Color\")\\\n",
    "            .agg(F.count(\"Count\").alias(\"Total\"),F.sum(\"Count\").alias(\"Suma\"),F.max(\"Count\").alias(\"Maximo\"))\\\n",
    "            .orderBy(F.asc(\"Total\"),F.desc(\"Suma\"))"
   ]
  },
  {
   "cell_type": "code",
   "execution_count": 19,
   "id": "4440f37e-c299-4f0e-9662-a8a86f67c95f",
   "metadata": {},
   "outputs": [
    {
     "name": "stdout",
     "output_type": "stream",
     "text": [
      "+-----+------+-----+-----+------+\n",
      "|State| Color|Total| Suma|Maximo|\n",
      "+-----+------+-----+-----+------+\n",
      "|   WY| Brown| 1532|86110|   100|\n",
      "|   UT| Green| 1591|88392|   100|\n",
      "|   WY|Orange| 1595|87956|   100|\n",
      "|   CA|  Blue| 1603|89123|   100|\n",
      "|   NV|   Red| 1610|89346|   100|\n",
      "|   TX|  Blue| 1614|88466|   100|\n",
      "|   OR|Yellow| 1614|88129|   100|\n",
      "|   OR| Brown| 1621|89136|   100|\n",
      "|   CO|   Red| 1624|89465|   100|\n",
      "|   WA|  Blue| 1625|89886|   100|\n",
      "+-----+------+-----+-----+------+\n",
      "only showing top 10 rows\n",
      "\n"
     ]
    }
   ],
   "source": [
    "df2.show(10)"
   ]
  },
  {
   "cell_type": "code",
   "execution_count": 42,
   "id": "fa70fc43-e355-4fc6-9609-a6309c37a8d5",
   "metadata": {},
   "outputs": [
    {
     "name": "stdout",
     "output_type": "stream",
     "text": [
      "+-----+------+-----+------+\n",
      "|State| Color|Total|  Suma|\n",
      "+-----+------+-----+------+\n",
      "|   CA|Yellow| 1807|100956|\n",
      "|   WA| Green| 1779| 96486|\n",
      "|   OR|Orange| 1743| 94514|\n",
      "|   TX| Green| 1737| 95753|\n",
      "|   TX|   Red| 1725| 95404|\n",
      "|   CA| Green| 1723| 93505|\n",
      "|   CO|Yellow| 1721| 95038|\n",
      "|   CA| Brown| 1718| 95762|\n",
      "|   CO| Green| 1713| 93724|\n",
      "|   NV|Orange| 1712| 93929|\n",
      "|   TX|Yellow| 1703| 93819|\n",
      "|   NV| Green| 1698| 91331|\n",
      "|   AZ| Brown| 1698| 92287|\n",
      "|   WY| Green| 1695| 94339|\n",
      "|   CO|  Blue| 1695| 93412|\n",
      "|   NM|   Red| 1690| 94699|\n",
      "|   AZ|Orange| 1689| 91684|\n",
      "|   NM|Yellow| 1688| 92747|\n",
      "|   NM| Brown| 1687| 93447|\n",
      "|   UT|Orange| 1684| 91341|\n",
      "+-----+------+-----+------+\n",
      "only showing top 20 rows\n",
      "\n"
     ]
    }
   ],
   "source": [
    "dfcount.show()"
   ]
  },
  {
   "cell_type": "code",
   "execution_count": 43,
   "id": "5cef7320-7a5f-4ca1-9361-73bf974090ab",
   "metadata": {},
   "outputs": [
    {
     "name": "stdout",
     "output_type": "stream",
     "text": [
      "Total Rows = 60\n"
     ]
    }
   ],
   "source": [
    "print(\"Total Rows = %d\" % dfcount.count())"
   ]
  },
  {
   "cell_type": "markdown",
   "id": "d968b77a-0d48-41d1-a9ca-e8af50f78f03",
   "metadata": {},
   "source": [
    "### Apartado 2"
   ]
  },
  {
   "cell_type": "code",
   "execution_count": 45,
   "id": "802c73cd-f221-42b2-bb85-a2ed0d638bce",
   "metadata": {},
   "outputs": [],
   "source": [
    "a2 = mnm.select(\"State\",\"Color\",\"Count\")\\\n",
    "    .where(mnm.State==\"CA\")\\\n",
    "    .groupBy(\"State\",\"Color\")\\\n",
    "    .agg(F.count(\"Count\").alias(\"Total\"),F.sum(\"Count\").alias(\"Suma\"))\\\n",
    "    .orderBy(\"Total\",ascending=False)"
   ]
  },
  {
   "cell_type": "code",
   "execution_count": 46,
   "id": "b2f6ee15-d96c-4802-a8ff-fdbfee2f04e0",
   "metadata": {},
   "outputs": [
    {
     "name": "stdout",
     "output_type": "stream",
     "text": [
      "+-----+------+-----+------+\n",
      "|State| Color|Total|  Suma|\n",
      "+-----+------+-----+------+\n",
      "|   CA|Yellow| 1807|100956|\n",
      "|   CA| Green| 1723| 93505|\n",
      "|   CA| Brown| 1718| 95762|\n",
      "|   CA|Orange| 1657| 90311|\n",
      "|   CA|   Red| 1656| 91527|\n",
      "|   CA|  Blue| 1603| 89123|\n",
      "+-----+------+-----+------+\n",
      "\n"
     ]
    }
   ],
   "source": [
    "a2.show()"
   ]
  },
  {
   "cell_type": "code",
   "execution_count": 47,
   "id": "0341bca8-9cee-4e7a-84f6-73ee9d42a9e9",
   "metadata": {},
   "outputs": [],
   "source": [
    "spark.stop()"
   ]
  },
  {
   "cell_type": "code",
   "execution_count": 39,
   "id": "a174aaad-fd7d-40db-b101-562f45e370fd",
   "metadata": {},
   "outputs": [],
   "source": [
    "a3 = mnm.select(\"State\",\"Color\",\"Count\")\\\n",
    "    .where(mnm.State.isin([\"CA\",\"NV\",\"TX\"]))\\\n",
    "    .groupBy(\"State\",\"Color\")\\\n",
    "    .agg(F.count(\"Count\").alias(\"Total\"),F.sum(\"Count\").alias(\"Suma\"),F.avg(\"Count\").alias(\"MEdia\"))\\\n",
    "    .orderBy(\"Total\",ascending=False)"
   ]
  },
  {
   "cell_type": "code",
   "execution_count": 40,
   "id": "f2133390-53cd-4e3f-a6fa-2994b9f44de9",
   "metadata": {},
   "outputs": [
    {
     "name": "stdout",
     "output_type": "stream",
     "text": [
      "+-----+------+-----+------+------------------+\n",
      "|State| Color|Total|  Suma|             MEdia|\n",
      "+-----+------+-----+------+------------------+\n",
      "|   CA|Yellow| 1807|100956|  55.8693967902601|\n",
      "|   TX| Green| 1737| 95753| 55.12550374208405|\n",
      "|   TX|   Red| 1725| 95404|55.306666666666665|\n",
      "|   CA| Green| 1723| 93505|54.268717353453276|\n",
      "|   CA| Brown| 1718| 95762|55.740395809080326|\n",
      "|   NV|Orange| 1712| 93929|54.865070093457945|\n",
      "|   TX|Yellow| 1703| 93819| 55.09042865531415|\n",
      "|   NV| Green| 1698| 91331| 53.78739693757362|\n",
      "|   NV|Yellow| 1675| 91390|54.561194029850746|\n",
      "|   NV|  Blue| 1673| 90003|53.797369994022716|\n",
      "+-----+------+-----+------+------------------+\n",
      "only showing top 10 rows\n",
      "\n"
     ]
    }
   ],
   "source": [
    "a3.show(10)"
   ]
  },
  {
   "cell_type": "code",
   "execution_count": 37,
   "id": "702d788b-6b8c-4e1b-adde-2c1ef28940f5",
   "metadata": {},
   "outputs": [
    {
     "name": "stdout",
     "output_type": "stream",
     "text": [
      "+-------+-----+------+------------------+------------------+\n",
      "|summary|State| Color|             Total|              Suma|\n",
      "+-------+-----+------+------------------+------------------+\n",
      "|  count|   18|    18|                18|                18|\n",
      "|   mean| null|  null|1681.1666666666667| 92564.11111111111|\n",
      "| stddev| null|  null| 51.87456590888536|3079.5451705594896|\n",
      "|    min|   CA|  Blue|              1603|             88466|\n",
      "|    max|   TX|Yellow|              1807|            100956|\n",
      "+-------+-----+------+------------------+------------------+\n",
      "\n"
     ]
    }
   ],
   "source": [
    "a3.describe().show()"
   ]
  },
  {
   "cell_type": "code",
   "execution_count": null,
   "id": "17b5b70b-dae1-4232-a231-f89c450b11f1",
   "metadata": {},
   "outputs": [],
   "source": []
  }
 ],
 "metadata": {
  "kernelspec": {
   "display_name": "Python 3 (ipykernel)",
   "language": "python",
   "name": "python3"
  },
  "language_info": {
   "codemirror_mode": {
    "name": "ipython",
    "version": 3
   },
   "file_extension": ".py",
   "mimetype": "text/x-python",
   "name": "python",
   "nbconvert_exporter": "python",
   "pygments_lexer": "ipython3",
   "version": "3.9.12"
  }
 },
 "nbformat": 4,
 "nbformat_minor": 5
}
