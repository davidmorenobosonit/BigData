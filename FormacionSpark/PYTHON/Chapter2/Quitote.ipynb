{
 "cells": [
  {
   "cell_type": "code",
   "execution_count": 1,
   "id": "65138aa7-b039-4f8b-b968-377fc197aead",
   "metadata": {},
   "outputs": [],
   "source": [
    "import findspark\n",
    "findspark.init()"
   ]
  },
  {
   "cell_type": "code",
   "execution_count": 2,
   "id": "a77e9184-2d53-4534-9c1c-dfe311d40f9e",
   "metadata": {},
   "outputs": [],
   "source": [
    "from pyspark.sql import SparkSession"
   ]
  },
  {
   "cell_type": "code",
   "execution_count": 3,
   "id": "1311c62a-47de-4960-b552-c612b10744d7",
   "metadata": {},
   "outputs": [],
   "source": [
    "spark = SparkSession.builder.getOrCreate()"
   ]
  },
  {
   "cell_type": "code",
   "execution_count": 4,
   "id": "55315e9d-ceac-4314-9c6e-af4792ae4c76",
   "metadata": {},
   "outputs": [],
   "source": [
    "from pyspark.sql import functions as F"
   ]
  },
  {
   "cell_type": "code",
   "execution_count": 7,
   "id": "93ad05fb-0ce3-4f32-afc1-3fd314671a3f",
   "metadata": {},
   "outputs": [],
   "source": [
    "texto = spark.read.text(\"el_quijote.txt\")"
   ]
  },
  {
   "cell_type": "code",
   "execution_count": 8,
   "id": "aa458397-584c-473b-b6b5-13eb8da8ee57",
   "metadata": {},
   "outputs": [
    {
     "data": {
      "text/plain": [
       "Row(value='DON QUIJOTE DE LA MANCHA')"
      ]
     },
     "execution_count": 8,
     "metadata": {},
     "output_type": "execute_result"
    }
   ],
   "source": [
    "texto.head()"
   ]
  },
  {
   "cell_type": "code",
   "execution_count": 12,
   "id": "2414c227-ca28-43a1-bddf-aac4b5a8374e",
   "metadata": {},
   "outputs": [
    {
     "name": "stdout",
     "output_type": "stream",
     "text": [
      "root\n",
      " |-- value: string (nullable = true)\n",
      "\n"
     ]
    }
   ],
   "source": [
    "texto.printSchema()"
   ]
  },
  {
   "cell_type": "code",
   "execution_count": 13,
   "id": "3e9df1c0-878f-4b0e-9c83-c3c2fc76b07c",
   "metadata": {},
   "outputs": [],
   "source": [
    "palabras = texto.select(F.explode(F.split(texto.value,\" \")).alias(\"palabras\"))"
   ]
  },
  {
   "cell_type": "code",
   "execution_count": 15,
   "id": "bdc511d4-04e7-482f-a5e2-0405333ce537",
   "metadata": {},
   "outputs": [
    {
     "name": "stdout",
     "output_type": "stream",
     "text": [
      "+---------+\n",
      "| palabras|\n",
      "+---------+\n",
      "|      DON|\n",
      "|  QUIJOTE|\n",
      "|       DE|\n",
      "|       LA|\n",
      "|   MANCHA|\n",
      "|   Miguel|\n",
      "|       de|\n",
      "|Cervantes|\n",
      "| Saavedra|\n",
      "|         |\n",
      "+---------+\n",
      "only showing top 10 rows\n",
      "\n"
     ]
    }
   ],
   "source": [
    "palabras.show(10)"
   ]
  },
  {
   "cell_type": "code",
   "execution_count": 16,
   "id": "adeefcbb-f2c4-4541-b04a-a692624fc478",
   "metadata": {},
   "outputs": [
    {
     "data": {
      "text/plain": [
       "187019"
      ]
     },
     "execution_count": 16,
     "metadata": {},
     "output_type": "execute_result"
    }
   ],
   "source": [
    "palabras.count()"
   ]
  },
  {
   "cell_type": "code",
   "execution_count": 17,
   "id": "0922586f-92b8-4a9b-a1e7-821739c9a6bb",
   "metadata": {},
   "outputs": [
    {
     "data": {
      "text/plain": [
       "2186"
      ]
     },
     "execution_count": 17,
     "metadata": {},
     "output_type": "execute_result"
    }
   ],
   "source": [
    "texto.count()"
   ]
  },
  {
   "cell_type": "code",
   "execution_count": 18,
   "id": "0a3be6f3-0c9c-4782-a3f6-1558289815c3",
   "metadata": {},
   "outputs": [],
   "source": [
    "spark.stop()"
   ]
  },
  {
   "cell_type": "code",
   "execution_count": null,
   "id": "d7f4b6f6-ca78-4c73-97fc-a61eef33b67e",
   "metadata": {},
   "outputs": [],
   "source": []
  }
 ],
 "metadata": {
  "kernelspec": {
   "display_name": "Python 3 (ipykernel)",
   "language": "python",
   "name": "python3"
  },
  "language_info": {
   "codemirror_mode": {
    "name": "ipython",
    "version": 3
   },
   "file_extension": ".py",
   "mimetype": "text/x-python",
   "name": "python",
   "nbconvert_exporter": "python",
   "pygments_lexer": "ipython3",
   "version": "3.9.12"
  }
 },
 "nbformat": 4,
 "nbformat_minor": 5
}
