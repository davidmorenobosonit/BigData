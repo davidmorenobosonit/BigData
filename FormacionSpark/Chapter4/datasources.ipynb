{
 "cells": [
  {
   "cell_type": "markdown",
   "id": "f0569544-957a-4d30-9085-b87fb6c30b3c",
   "metadata": {},
   "source": [
    "## DataFrameReades & DataFrameWritter"
   ]
  },
  {
   "cell_type": "code",
   "execution_count": 2,
   "id": "fa3f4969-cf6e-4897-855b-4a552d5e437d",
   "metadata": {},
   "outputs": [
    {
     "data": {
      "text/plain": [
       "res1: org.apache.spark.SparkContext = org.apache.spark.SparkContext@60291470\n"
      ]
     },
     "execution_count": 2,
     "metadata": {},
     "output_type": "execute_result"
    }
   ],
   "source": [
    "sc"
   ]
  },
  {
   "cell_type": "markdown",
   "id": "99fc562d-8883-4425-89bd-a7c68521f59e",
   "metadata": {},
   "source": [
    "spark"
   ]
  },
  {
   "cell_type": "markdown",
   "id": "d4c10abf-a250-48c2-a8a3-8ad6d3f04ad8",
   "metadata": {},
   "source": [
    "# Reader"
   ]
  },
  {
   "cell_type": "markdown",
   "id": "aabbfa24-bdd8-41ea-95b7-22483265725e",
   "metadata": {},
   "source": [
    "### Parquet"
   ]
  },
  {
   "cell_type": "code",
   "execution_count": 8,
   "id": "74667e44-a987-4744-a8b2-3e55627373b8",
   "metadata": {},
   "outputs": [
    {
     "data": {
      "text/plain": [
       "df: org.apache.spark.sql.DataFrame = [DEST_COUNTRY_NAME: string, ORIGIN_COUNTRY_NAME: string ... 1 more field]\n"
      ]
     },
     "execution_count": 8,
     "metadata": {},
     "output_type": "execute_result"
    }
   ],
   "source": [
    "val df = spark.read.format(\"parquet\").load(\"2010-summary.parquet\")"
   ]
  },
  {
   "cell_type": "code",
   "execution_count": 10,
   "id": "7aaea6df-6b40-4c35-8343-a3172a2f3420",
   "metadata": {},
   "outputs": [
    {
     "name": "stdout",
     "output_type": "stream",
     "text": [
      "+-----------------+-------------------+-----+\n",
      "|DEST_COUNTRY_NAME|ORIGIN_COUNTRY_NAME|count|\n",
      "+-----------------+-------------------+-----+\n",
      "|    United States|            Romania|    1|\n",
      "|    United States|            Ireland|  264|\n",
      "|    United States|              India|   69|\n",
      "|            Egypt|      United States|   24|\n",
      "|Equatorial Guinea|      United States|    1|\n",
      "+-----------------+-------------------+-----+\n",
      "only showing top 5 rows\n",
      "\n"
     ]
    }
   ],
   "source": [
    "df.show(5)"
   ]
  },
  {
   "cell_type": "markdown",
   "id": "8ed209cc-427e-4b39-abb6-c75c48a350a1",
   "metadata": {},
   "source": [
    "### CSV"
   ]
  },
  {
   "cell_type": "code",
   "execution_count": 13,
   "id": "f768234f-6546-4853-bef2-8d5a06cbdea8",
   "metadata": {},
   "outputs": [
    {
     "data": {
      "text/plain": [
       "df2: org.apache.spark.sql.DataFrame = [date: int, delay: int ... 3 more fields]\n"
      ]
     },
     "execution_count": 13,
     "metadata": {},
     "output_type": "execute_result"
    }
   ],
   "source": [
    "val df2 =  spark.read.format(\"csv\")\n",
    "                .option(\"header\",\"true\")\n",
    "                .option(\"inferSchema\",\"true\")\n",
    "                .option(\"mode\",\"PERMISSIVE\")\n",
    "                .load(\"departuredelays.csv\")"
   ]
  },
  {
   "cell_type": "markdown",
   "id": "6792cfb4-8409-46ed-8fb9-bb22696ea668",
   "metadata": {},
   "source": [
    "### JSON"
   ]
  },
  {
   "cell_type": "code",
   "execution_count": 15,
   "id": "701617be-be13-4b77-87e2-08b677a9a012",
   "metadata": {},
   "outputs": [
    {
     "data": {
      "text/plain": [
       "df3: org.apache.spark.sql.DataFrame = [DEST_COUNTRY_NAME: string, ORIGIN_COUNTRY_NAME: string ... 1 more field]\n"
      ]
     },
     "execution_count": 15,
     "metadata": {},
     "output_type": "execute_result"
    }
   ],
   "source": [
    "val df3 = spark.read.format(\"json\")\n",
    "                    .load(\"2010-summary.json\")"
   ]
  },
  {
   "cell_type": "code",
   "execution_count": 16,
   "id": "6405f1a1-8332-4591-bd56-2ce7657a1242",
   "metadata": {},
   "outputs": [
    {
     "name": "stdout",
     "output_type": "stream",
     "text": [
      "+-----------------+-------------------+-----+\n",
      "|DEST_COUNTRY_NAME|ORIGIN_COUNTRY_NAME|count|\n",
      "+-----------------+-------------------+-----+\n",
      "|    United States|            Romania|    1|\n",
      "|    United States|            Ireland|  264|\n",
      "|    United States|              India|   69|\n",
      "+-----------------+-------------------+-----+\n",
      "only showing top 3 rows\n",
      "\n"
     ]
    }
   ],
   "source": [
    "df3.show(3)"
   ]
  },
  {
   "cell_type": "markdown",
   "id": "a0415087-6167-4cf4-88c2-48bec7ea4dab",
   "metadata": {},
   "source": [
    "# Writter"
   ]
  },
  {
   "cell_type": "markdown",
   "id": "0ac1b851-91ac-4da7-824e-155c9feda12b",
   "metadata": {},
   "source": [
    "### Parquet"
   ]
  },
  {
   "cell_type": "code",
   "execution_count": 27,
   "id": "82153b11-d58e-4fce-b815-c78fd03d3a6d",
   "metadata": {},
   "outputs": [],
   "source": [
    "df.write.format(\"parquet\")\n",
    "        .mode(\"overwrite\")\n",
    "        .option(\"compression\",\"snappy\")\n",
    "        .save(\"guardadoParquet2\")"
   ]
  },
  {
   "cell_type": "code",
   "execution_count": 28,
   "id": "14323fd7-8269-4936-9694-a5b6d1a7a1e3",
   "metadata": {},
   "outputs": [],
   "source": [
    "df.write.mode(\"overwrite\")\n",
    "        .saveAsTable(\"tablaParquet\")"
   ]
  },
  {
   "cell_type": "code",
   "execution_count": 30,
   "id": "ef8ea52e-ffdd-4f00-96b0-af83695daabb",
   "metadata": {},
   "outputs": [
    {
     "name": "stdout",
     "output_type": "stream",
     "text": [
      "+---------+\n",
      "|namespace|\n",
      "+---------+\n",
      "|  default|\n",
      "+---------+\n",
      "\n"
     ]
    }
   ],
   "source": [
    "spark.sql(\"show databases\").show()"
   ]
  },
  {
   "cell_type": "code",
   "execution_count": 31,
   "id": "28e4bb01-43d5-4746-978e-de39d96eb3f5",
   "metadata": {},
   "outputs": [
    {
     "name": "stdout",
     "output_type": "stream",
     "text": [
      "+---------+------------+-----------+\n",
      "|namespace|   tableName|isTemporary|\n",
      "+---------+------------+-----------+\n",
      "|  default|tablaparquet|      false|\n",
      "+---------+------------+-----------+\n",
      "\n"
     ]
    }
   ],
   "source": [
    "spark.sql(\"show tables\").show()"
   ]
  },
  {
   "cell_type": "code",
   "execution_count": 34,
   "id": "0fd8917d-3bb3-48d0-be6f-8c82603ad494",
   "metadata": {},
   "outputs": [
    {
     "name": "stdout",
     "output_type": "stream",
     "text": [
      "+-----------------+-------------------+-----+\n",
      "|DEST_COUNTRY_NAME|ORIGIN_COUNTRY_NAME|count|\n",
      "+-----------------+-------------------+-----+\n",
      "|    United States|            Romania|    1|\n",
      "|    United States|            Ireland|  264|\n",
      "+-----------------+-------------------+-----+\n",
      "only showing top 2 rows\n",
      "\n"
     ]
    }
   ],
   "source": [
    "df.show(2)"
   ]
  },
  {
   "cell_type": "markdown",
   "id": "ff87d3da-2b26-4f86-8cac-4090f8eb4aa4",
   "metadata": {},
   "source": [
    "### JSON"
   ]
  },
  {
   "cell_type": "code",
   "execution_count": 35,
   "id": "45677bb5-19f3-4574-9808-57979cfbfc9a",
   "metadata": {},
   "outputs": [],
   "source": [
    "df.write.format(\"json\")\n",
    "    .mode(\"overwrite\")\n",
    "    .save(\"guardadoJson\")"
   ]
  },
  {
   "cell_type": "markdown",
   "id": "41689d36-ad0d-4a5d-894a-9416a41e8ae2",
   "metadata": {},
   "source": [
    "### CSV"
   ]
  },
  {
   "cell_type": "code",
   "execution_count": 36,
   "id": "b8a2087f-254f-4049-b93f-0b8de8259ced",
   "metadata": {},
   "outputs": [],
   "source": [
    "df.write.format(\"csv\").mode(\"overwrite\").save(\"guardadoCSV\")"
   ]
  },
  {
   "cell_type": "markdown",
   "id": "d7148bbd-f88f-4bbb-9831-51f6d270a516",
   "metadata": {},
   "source": [
    "### Avro"
   ]
  },
  {
   "cell_type": "code",
   "execution_count": 39,
   "id": "e5cc0cc0-9240-4a0b-9086-5401e5d82a4c",
   "metadata": {},
   "outputs": [
    {
     "ename": "org.apache.spark.sql.AnalysisException",
     "evalue": "  Failed to find data source: avro. Avro is built-in but external data source module since Spark 2.4. Please deploy the application as per the deployment section of \"Apache Avro Data Source Guide\".",
     "output_type": "error",
     "traceback": [
      "org.apache.spark.sql.AnalysisException:  Failed to find data source: avro. Avro is built-in but external data source module since Spark 2.4. Please deploy the application as per the deployment section of \"Apache Avro Data Source Guide\".",
      "  at org.apache.spark.sql.errors.QueryCompilationErrors$.failedToFindAvroDataSourceError(QueryCompilationErrors.scala:1028)",
      "  at org.apache.spark.sql.execution.datasources.DataSource$.lookupDataSource(DataSource.scala:666)",
      "  at org.apache.spark.sql.execution.datasources.DataSource$.lookupDataSourceV2(DataSource.scala:720)",
      "  at org.apache.spark.sql.DataFrameWriter.lookupV2Provider(DataFrameWriter.scala:852)",
      "  at org.apache.spark.sql.DataFrameWriter.saveInternal(DataFrameWriter.scala:256)",
      "  at org.apache.spark.sql.DataFrameWriter.save(DataFrameWriter.scala:239)",
      "  ... 37 elided",
      ""
     ]
    }
   ],
   "source": [
    "df.write.format(\"avro\").mode(\"overwrite\").save(\"guardadoAVRO\")"
   ]
  },
  {
   "cell_type": "markdown",
   "id": "314265bc-19b2-4b5a-a73f-e496eaa65e8a",
   "metadata": {},
   "source": [
    "### ORC"
   ]
  },
  {
   "cell_type": "code",
   "execution_count": 40,
   "id": "3defb2ab-628e-47ce-9223-df89d5aef3a1",
   "metadata": {},
   "outputs": [],
   "source": [
    "df.write.format(\"orc\").mode(\"overwrite\").option(\"compression\",\"snappy\").save(\"guardadoORC\")"
   ]
  },
  {
   "cell_type": "markdown",
   "id": "9470eb1c-9b73-43a5-bcd1-6186f1b3accf",
   "metadata": {},
   "source": [
    "## Imagenes"
   ]
  },
  {
   "cell_type": "markdown",
   "id": "1941258f-bffe-44e8-931d-5c961f68c908",
   "metadata": {},
   "source": [
    "Se ha hecho en inteliJ"
   ]
  },
  {
   "cell_type": "markdown",
   "id": "26bc17ef-23ea-4130-ae4c-26aaac7bbc03",
   "metadata": {},
   "source": [
    "### Binary"
   ]
  },
  {
   "cell_type": "markdown",
   "id": "a75d05a4-f522-430b-8ec3-5194f61fa245",
   "metadata": {},
   "source": [
    "Idem"
   ]
  }
 ],
 "metadata": {
  "kernelspec": {
   "display_name": "spylon-kernel",
   "language": "scala",
   "name": "spylon-kernel"
  },
  "language_info": {
   "codemirror_mode": "text/x-scala",
   "file_extension": ".scala",
   "help_links": [
    {
     "text": "MetaKernel Magics",
     "url": "https://metakernel.readthedocs.io/en/latest/source/README.html"
    }
   ],
   "mimetype": "text/x-scala",
   "name": "scala",
   "pygments_lexer": "scala",
   "version": "0.4.1"
  }
 },
 "nbformat": 4,
 "nbformat_minor": 5
}
