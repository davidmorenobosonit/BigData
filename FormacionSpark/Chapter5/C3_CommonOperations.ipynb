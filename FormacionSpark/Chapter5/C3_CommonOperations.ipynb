{
 "cells": [
  {
   "cell_type": "markdown",
   "id": "55db6921-5f68-49c9-b4e1-8faeb1e0fdcb",
   "metadata": {},
   "source": [
    "# Common DataFrames and SPARK SQL operations"
   ]
  },
  {
   "cell_type": "code",
   "execution_count": 1,
   "id": "b6fb315d-521b-4724-a96f-e9242e0f0a90",
   "metadata": {},
   "outputs": [
    {
     "data": {
      "text/plain": [
       "Intitializing Scala interpreter ..."
      ]
     },
     "metadata": {},
     "output_type": "display_data"
    },
    {
     "data": {
      "text/plain": [
       "Spark Web UI available at http://5fcc63a3e7cf:4041\n",
       "SparkContext available as 'sc' (version = 3.2.1, master = local[*], app id = local-1656339350585)\n",
       "SparkSession available as 'spark'\n"
      ]
     },
     "metadata": {},
     "output_type": "display_data"
    },
    {
     "data": {
      "text/plain": [
       "res0: org.apache.spark.sql.SparkSession = org.apache.spark.sql.SparkSession@37b9a802\n"
      ]
     },
     "execution_count": 1,
     "metadata": {},
     "output_type": "execute_result"
    }
   ],
   "source": [
    "spark"
   ]
  },
  {
   "cell_type": "code",
   "execution_count": 3,
   "id": "ee13f9c1-c7bc-4823-9b84-233744dc309b",
   "metadata": {},
   "outputs": [
    {
     "data": {
      "text/plain": [
       "import org.apache.spark.sql.functions._\n"
      ]
     },
     "execution_count": 3,
     "metadata": {},
     "output_type": "execute_result"
    }
   ],
   "source": [
    "// importamos las funciones\n",
    "import org.apache.spark.sql.functions._"
   ]
  },
  {
   "cell_type": "code",
   "execution_count": 4,
   "id": "d923d0d3-fcf1-4700-a0f7-0137358eba8d",
   "metadata": {},
   "outputs": [],
   "source": [
    "// importamos dos archivos, uno ocn informacion sobre aeropuestos y otro sobre vuelos"
   ]
  },
  {
   "cell_type": "markdown",
   "id": "43df1464-106d-49ec-bfe5-16b824e557b6",
   "metadata": {},
   "source": [
    "## Creamos los dataframes"
   ]
  },
  {
   "cell_type": "code",
   "execution_count": 6,
   "id": "658c89d6-0fae-496f-a89b-dc9f3aeff223",
   "metadata": {},
   "outputs": [
    {
     "data": {
      "text/plain": [
       "airports: org.apache.spark.sql.DataFrame = [City: string, State: string ... 2 more fields]\n"
      ]
     },
     "execution_count": 6,
     "metadata": {},
     "output_type": "execute_result"
    }
   ],
   "source": [
    "val airports = spark.read\n",
    "    .option(\"header\",\"true\")\n",
    "    .option(\"inferSchema\",\"true\")\n",
    "    .option(\"delimiter\",\"\\t\")\n",
    "    .csv(\"airport-codes-na.txt\")\n",
    "\n",
    "// Creamos vista temporal\n",
    "airports.createOrReplaceTempView(\"airports_na\")"
   ]
  },
  {
   "cell_type": "code",
   "execution_count": 8,
   "id": "b66f0b0e-8908-4caa-96dc-5c08b960fc8b",
   "metadata": {},
   "outputs": [
    {
     "name": "stdout",
     "output_type": "stream",
     "text": [
      "+---------+-----------+-----------+\n",
      "|namespace|  tableName|isTemporary|\n",
      "+---------+-----------+-----------+\n",
      "|         |airports_na|       true|\n",
      "+---------+-----------+-----------+\n",
      "\n"
     ]
    }
   ],
   "source": [
    "spark.sql(\"show tables\").show()"
   ]
  },
  {
   "cell_type": "code",
   "execution_count": 9,
   "id": "79c48cb8-0ef6-4273-a2ad-173d76acce64",
   "metadata": {},
   "outputs": [
    {
     "name": "stdout",
     "output_type": "stream",
     "text": [
      "root\n",
      " |-- City: string (nullable = true)\n",
      " |-- State: string (nullable = true)\n",
      " |-- Country: string (nullable = true)\n",
      " |-- IATA: string (nullable = true)\n",
      "\n"
     ]
    }
   ],
   "source": [
    "airports.printSchema()"
   ]
  },
  {
   "cell_type": "code",
   "execution_count": 10,
   "id": "55950544-c80e-4170-8fc5-5c29122dc41c",
   "metadata": {},
   "outputs": [
    {
     "name": "stdout",
     "output_type": "stream",
     "text": [
      "root\n",
      " |-- date: integer (nullable = true)\n",
      " |-- delay: integer (nullable = true)\n",
      " |-- distance: integer (nullable = true)\n",
      " |-- origin: string (nullable = true)\n",
      " |-- destination: string (nullable = true)\n",
      "\n"
     ]
    },
    {
     "data": {
      "text/plain": [
       "delays: org.apache.spark.sql.DataFrame = [date: int, delay: int ... 3 more fields]\n"
      ]
     },
     "execution_count": 10,
     "metadata": {},
     "output_type": "execute_result"
    }
   ],
   "source": [
    "val delays = spark.read\n",
    "    .option(\"header\",\"true\")\n",
    "    .option(\"inferSchema\",\"true\")\n",
    "    .csv(\"departuredelays.csv\")\n",
    "delays.printSchema()"
   ]
  },
  {
   "cell_type": "code",
   "execution_count": 11,
   "id": "9a1d2d94-2a1b-4038-9e54-82cee04d40c1",
   "metadata": {},
   "outputs": [],
   "source": [
    "delays.createOrReplaceTempView(\"delays_na\")"
   ]
  },
  {
   "cell_type": "code",
   "execution_count": 14,
   "id": "20039ba3-35a9-43d2-929d-da4bb4ed89c2",
   "metadata": {},
   "outputs": [
    {
     "name": "stdout",
     "output_type": "stream",
     "text": [
      "+---------+-----------+-----------+\n",
      "|namespace|  tableName|isTemporary|\n",
      "+---------+-----------+-----------+\n",
      "|         |airports_na|       true|\n",
      "|         |  delays_na|       true|\n",
      "+---------+-----------+-----------+\n",
      "\n"
     ]
    }
   ],
   "source": [
    "spark.sql(\"show tables\").show()"
   ]
  },
  {
   "cell_type": "code",
   "execution_count": 41,
   "id": "a095f2d9-d9c5-447f-bc73-333246d72dca",
   "metadata": {},
   "outputs": [
    {
     "data": {
      "text/plain": [
       "foo: org.apache.spark.sql.Dataset[org.apache.spark.sql.Row] = [date: int, delay: int ... 3 more fields]\n"
      ]
     },
     "execution_count": 41,
     "metadata": {},
     "output_type": "execute_result"
    }
   ],
   "source": [
    "val foo = delays.filter(\n",
    "    expr(\"\"\"origin == 'SEA' and destination = 'SFO' and delay > 0  and date like '10111%' \"\"\"))\n",
    "foo.createOrReplaceTempView(\"foo\")"
   ]
  },
  {
   "cell_type": "code",
   "execution_count": 17,
   "id": "dd9011f5-24ba-476a-af17-6796e55d6231",
   "metadata": {},
   "outputs": [
    {
     "name": "stdout",
     "output_type": "stream",
     "text": [
      "+-------+-----+--------+------+-----------+\n",
      "|   date|delay|distance|origin|destination|\n",
      "+-------+-----+--------+------+-----------+\n",
      "|1011245|    6|     602|   ABE|        ATL|\n",
      "|1020600|   -8|     369|   ABE|        DTW|\n",
      "+-------+-----+--------+------+-----------+\n",
      "only showing top 2 rows\n",
      "\n"
     ]
    }
   ],
   "source": [
    "delays.show(2)"
   ]
  },
  {
   "cell_type": "code",
   "execution_count": 42,
   "id": "6dc5060c-afea-4ef4-9f9d-a1fc23c96102",
   "metadata": {},
   "outputs": [
    {
     "name": "stdout",
     "output_type": "stream",
     "text": [
      "+-------+-----+--------+------+-----------+\n",
      "|   date|delay|distance|origin|destination|\n",
      "+-------+-----+--------+------+-----------+\n",
      "|1011100|    2|     590|   SEA|        SFO|\n",
      "|1011125|   11|     590|   SEA|        SFO|\n",
      "+-------+-----+--------+------+-----------+\n",
      "\n"
     ]
    }
   ],
   "source": [
    "foo.show(5)"
   ]
  },
  {
   "cell_type": "code",
   "execution_count": 48,
   "id": "c1c606e3-0657-4455-a2fc-17230cd73e83",
   "metadata": {},
   "outputs": [
    {
     "name": "stdout",
     "output_type": "stream",
     "text": [
      "+---------+-----------+-----------+\n",
      "|namespace|  tableName|isTemporary|\n",
      "+---------+-----------+-----------+\n",
      "|         |airports_na|       true|\n",
      "|         |  delays_na|       true|\n",
      "|         |        foo|       true|\n",
      "+---------+-----------+-----------+\n",
      "\n"
     ]
    }
   ],
   "source": [
    "foo.createOrReplaceTempView(\"foo\")\n",
    "\n",
    "spark.sql(\"show tables\").show()"
   ]
  },
  {
   "cell_type": "markdown",
   "id": "a3144d2b-6712-46ec-a284-627207a4a5f3",
   "metadata": {},
   "source": [
    "## Comprobacion"
   ]
  },
  {
   "cell_type": "code",
   "execution_count": 44,
   "id": "958c6d72-e182-4c4f-9ce1-71bc07227044",
   "metadata": {},
   "outputs": [
    {
     "name": "stdout",
     "output_type": "stream",
     "text": [
      "+-----------+-----+-------+----+\n",
      "|       City|State|Country|IATA|\n",
      "+-----------+-----+-------+----+\n",
      "| Abbotsford|   BC| Canada| YXX|\n",
      "|   Aberdeen|   SD|    USA| ABR|\n",
      "|    Abilene|   TX|    USA| ABI|\n",
      "|      Akron|   OH|    USA| CAK|\n",
      "|    Alamosa|   CO|    USA| ALS|\n",
      "|     Albany|   GA|    USA| ABY|\n",
      "|     Albany|   NY|    USA| ALB|\n",
      "|Albuquerque|   NM|    USA| ABQ|\n",
      "| Alexandria|   LA|    USA| AEX|\n",
      "|  Allentown|   PA|    USA| ABE|\n",
      "+-----------+-----+-------+----+\n",
      "\n"
     ]
    }
   ],
   "source": [
    "spark.sql(\"SELECT * FROM airports_na LIMIT 10\").show()"
   ]
  },
  {
   "cell_type": "code",
   "execution_count": 49,
   "id": "721cef6f-8137-408f-9957-1b3c758c1ac4",
   "metadata": {},
   "outputs": [
    {
     "name": "stdout",
     "output_type": "stream",
     "text": [
      "+-------+-----+--------+------+-----------+\n",
      "|   date|delay|distance|origin|destination|\n",
      "+-------+-----+--------+------+-----------+\n",
      "|1011245|    6|     602|   ABE|        ATL|\n",
      "|1020600|   -8|     369|   ABE|        DTW|\n",
      "|1021245|   -2|     602|   ABE|        ATL|\n",
      "|1020605|   -4|     602|   ABE|        ATL|\n",
      "|1031245|   -4|     602|   ABE|        ATL|\n",
      "|1030605|    0|     602|   ABE|        ATL|\n",
      "|1041243|   10|     602|   ABE|        ATL|\n",
      "|1040605|   28|     602|   ABE|        ATL|\n",
      "|1051245|   88|     602|   ABE|        ATL|\n",
      "|1050605|    9|     602|   ABE|        ATL|\n",
      "+-------+-----+--------+------+-----------+\n",
      "\n"
     ]
    }
   ],
   "source": [
    "spark.sql(\"SELECT * FROM delays_na LIMIT 10\").show()"
   ]
  },
  {
   "cell_type": "code",
   "execution_count": 50,
   "id": "bd699d44-f590-4fc0-bf4e-100d9a329c08",
   "metadata": {},
   "outputs": [
    {
     "name": "stdout",
     "output_type": "stream",
     "text": [
      "+-------+-----+--------+------+-----------+\n",
      "|   date|delay|distance|origin|destination|\n",
      "+-------+-----+--------+------+-----------+\n",
      "|1011100|    2|     590|   SEA|        SFO|\n",
      "|1011125|   11|     590|   SEA|        SFO|\n",
      "+-------+-----+--------+------+-----------+\n",
      "\n"
     ]
    }
   ],
   "source": [
    "spark.sql(\"SELECT * FROM foo\").show()"
   ]
  },
  {
   "cell_type": "markdown",
   "id": "300fa0c5-31bc-46af-b2ac-6cd0c43027b1",
   "metadata": {},
   "source": [
    "## Unions"
   ]
  },
  {
   "cell_type": "code",
   "execution_count": 51,
   "id": "b45ae786-1976-4b29-b173-0a05fadd567f",
   "metadata": {},
   "outputs": [
    {
     "data": {
      "text/plain": [
       "bar: org.apache.spark.sql.Dataset[org.apache.spark.sql.Row] = [date: int, delay: int ... 3 more fields]\n"
      ]
     },
     "execution_count": 51,
     "metadata": {},
     "output_type": "execute_result"
    }
   ],
   "source": [
    "val bar = delays.union(foo)\n",
    "bar.createOrReplaceTempView(\"bar\")"
   ]
  },
  {
   "cell_type": "code",
   "execution_count": 52,
   "id": "ba29f5bd-54b9-47cd-9a75-4307d33f9372",
   "metadata": {},
   "outputs": [
    {
     "name": "stdout",
     "output_type": "stream",
     "text": [
      "+-------+-----+--------+------+-----------+\n",
      "|   date|delay|distance|origin|destination|\n",
      "+-------+-----+--------+------+-----------+\n",
      "|1011100|    2|     590|   SEA|        SFO|\n",
      "|1011125|   11|     590|   SEA|        SFO|\n",
      "|1011100|    2|     590|   SEA|        SFO|\n",
      "|1011125|   11|     590|   SEA|        SFO|\n",
      "+-------+-----+--------+------+-----------+\n",
      "\n"
     ]
    }
   ],
   "source": [
    "bar.filter(\"\"\"origin == 'SEA' and destination = 'SFO' and delay > 0  and date like '10111%' \"\"\").show()"
   ]
  },
  {
   "cell_type": "code",
   "execution_count": 54,
   "id": "c04dfa6c-72c4-4da2-91b3-1aedc5c8194e",
   "metadata": {},
   "outputs": [
    {
     "name": "stdout",
     "output_type": "stream",
     "text": [
      "+-------+-----+--------+------+-----------+\n",
      "|   date|delay|distance|origin|destination|\n",
      "+-------+-----+--------+------+-----------+\n",
      "|1011100|    2|     590|   SEA|        SFO|\n",
      "|1011125|   11|     590|   SEA|        SFO|\n",
      "|1011100|    2|     590|   SEA|        SFO|\n",
      "|1011125|   11|     590|   SEA|        SFO|\n",
      "+-------+-----+--------+------+-----------+\n",
      "\n"
     ]
    }
   ],
   "source": [
    "spark.sql(\"\"\"\n",
    "    select *\n",
    "    from bar\n",
    "    where origin = 'SEA' and destination = 'SFO' and delay>0 and date like '10111%'\n",
    "    \"\"\").show()"
   ]
  },
  {
   "cell_type": "markdown",
   "id": "c9133b4b-b5a8-4d1c-892c-dc4e4956e694",
   "metadata": {},
   "source": [
    "## JOINS"
   ]
  },
  {
   "cell_type": "code",
   "execution_count": 57,
   "id": "0202183d-4438-498b-b92c-1b982c35cb72",
   "metadata": {},
   "outputs": [
    {
     "name": "stdout",
     "output_type": "stream",
     "text": [
      "+-------+-----+--------+------+-----------+-------+-----+-------+----+\n",
      "|   date|delay|distance|origin|destination|   City|State|Country|IATA|\n",
      "+-------+-----+--------+------+-----------+-------+-----+-------+----+\n",
      "|1011100|    2|     590|   SEA|        SFO|Seattle|   WA|    USA| SEA|\n",
      "|1011125|   11|     590|   SEA|        SFO|Seattle|   WA|    USA| SEA|\n",
      "+-------+-----+--------+------+-----------+-------+-----+-------+----+\n",
      "\n"
     ]
    }
   ],
   "source": [
    "foo.join(airports.as(\"air\"),\n",
    "        col(\"air.IATA\") === col(\"origin\")).show()"
   ]
  },
  {
   "cell_type": "markdown",
   "id": "74e70105-149f-41d9-a12f-74d3e38f4ec2",
   "metadata": {},
   "source": [
    "## Windowing"
   ]
  },
  {
   "cell_type": "code",
   "execution_count": 67,
   "id": "768879a1-1b6a-4183-8683-f49525cdf9a4",
   "metadata": {},
   "outputs": [
    {
     "data": {
      "text/plain": [
       "res61: org.apache.spark.sql.DataFrame = []\n"
      ]
     },
     "execution_count": 67,
     "metadata": {},
     "output_type": "execute_result"
    }
   ],
   "source": [
    "spark.sql(\"drop table if exists departureDelaysWindow\")"
   ]
  },
  {
   "cell_type": "code",
   "execution_count": 70,
   "id": "1e600905-818b-4203-9df7-1083aa373216",
   "metadata": {},
   "outputs": [
    {
     "ename": "<console>",
     "evalue": "3: error: unclosed character literal (or use \" for string literal \"SEA\")",
     "output_type": "error",
     "traceback": [
      "<console>:3: error: unclosed character literal (or use \" for string literal \"SEA\")",
      "                                  .where(col(\"origin\") === 'SEA')",
      "                                                               ^",
      ""
     ]
    }
   ],
   "source": [
    " val df = delays_na.select(\"origin\", \"destination\", expr(sum(col(\"delay\")))\n",
    "                           .where(col(\"origin\") === 'SEA')"
   ]
  },
  {
   "cell_type": "code",
   "execution_count": 72,
   "id": "9114e004-5a7a-45d7-9326-5dd9187f0a2a",
   "metadata": {},
   "outputs": [
    {
     "name": "stdout",
     "output_type": "stream",
     "text": [
      "+------+-----------+-----------+\n",
      "|origin|destination|totaldelays|\n",
      "+------+-----------+-----------+\n",
      "|   JFK|        SFO|      35619|\n",
      "|   JFK|        DEN|       4315|\n",
      "|   JFK|        ATL|      12141|\n",
      "|   JFK|        SEA|       7856|\n",
      "|   JFK|        LAX|      35755|\n",
      "|   SEA|        LAX|       9359|\n",
      "|   SFO|        DEN|      18688|\n",
      "|   SFO|        SEA|      17080|\n",
      "|   SEA|        SFO|      22293|\n",
      "|   SFO|        ATL|       5091|\n",
      "|   SEA|        DEN|      13645|\n",
      "|   SEA|        ATL|       4535|\n",
      "|   SFO|        JFK|      24100|\n",
      "|   SFO|        LAX|      40798|\n",
      "|   SEA|        JFK|       4667|\n",
      "+------+-----------+-----------+\n",
      "\n"
     ]
    }
   ],
   "source": [
    "spark.sql(\"\"\"create or replace temp view departureDelaysWindow as\n",
    "             select origin, destination, sum(delay) as totaldelays\n",
    "             from delays_na\n",
    "             where origin in ('SEA','SFO','JFK') and destination in ('SEA','SFO','JFK','DEN','LAX','ATL')\n",
    "             group by origin, destination\n",
    "             \"\"\")\n",
    "\n",
    "spark.sql(\"select * from departureDelaysWindow\").show()"
   ]
  },
  {
   "cell_type": "code",
   "execution_count": 76,
   "id": "8b04fb9d-3ae2-4f26-acd7-458571d13c67",
   "metadata": {},
   "outputs": [
    {
     "name": "stdout",
     "output_type": "stream",
     "text": [
      "+------+-----------+-----------+----+\n",
      "|origin|destination|totaldelays|rank|\n",
      "+------+-----------+-----------+----+\n",
      "|   JFK|        LAX|      35755|   1|\n",
      "|   JFK|        SFO|      35619|   2|\n",
      "|   JFK|        ATL|      12141|   3|\n",
      "|   SEA|        SFO|      22293|   1|\n",
      "|   SEA|        DEN|      13645|   2|\n",
      "|   SEA|        LAX|       9359|   3|\n",
      "|   SFO|        LAX|      40798|   1|\n",
      "|   SFO|        JFK|      24100|   2|\n",
      "|   SFO|        DEN|      18688|   3|\n",
      "+------+-----------+-----------+----+\n",
      "\n"
     ]
    }
   ],
   "source": [
    "spark.sql(\"\"\"select origin, destination, totaldelays, rank\n",
    "             from ( select origin, destination, totaldelays, dense_rank()\n",
    "                    over (partition by origin order by totaldelays desc) as rank\n",
    "                    from departureDelaysWindow\n",
    "                  ) t\n",
    "             where rank <= 3\n",
    "          \"\"\").show()"
   ]
  },
  {
   "cell_type": "code",
   "execution_count": 79,
   "id": "2c9ff2bf-0f81-4b74-9b81-539529c1d18e",
   "metadata": {},
   "outputs": [
    {
     "name": "stdout",
     "output_type": "stream",
     "text": [
      "+------+-----------+-----------+----+\n",
      "|origin|destination|totaldelays|rank|\n",
      "+------+-----------+-----------+----+\n",
      "|   JFK|        LAX|      35755|   1|\n",
      "|   JFK|        SFO|      35619|   2|\n",
      "|   JFK|        ATL|      12141|   3|\n",
      "|   JFK|        SEA|       7856|   4|\n",
      "|   JFK|        DEN|       4315|   5|\n",
      "|   SEA|        SFO|      22293|   1|\n",
      "|   SEA|        DEN|      13645|   2|\n",
      "|   SEA|        LAX|       9359|   3|\n",
      "|   SEA|        JFK|       4667|   4|\n",
      "|   SEA|        ATL|       4535|   5|\n",
      "|   SFO|        LAX|      40798|   1|\n",
      "|   SFO|        JFK|      24100|   2|\n",
      "|   SFO|        DEN|      18688|   3|\n",
      "|   SFO|        SEA|      17080|   4|\n",
      "|   SFO|        ATL|       5091|   5|\n",
      "+------+-----------+-----------+----+\n",
      "\n"
     ]
    }
   ],
   "source": [
    "spark.sql(\"\"\"select origin, destination, totaldelays, dense_rank()\n",
    "             over (partition by origin order by totaldelays desc) as rank\n",
    "             from departureDelaysWindow\"\"\").show()"
   ]
  },
  {
   "cell_type": "markdown",
   "id": "49b7d037-ceef-4659-8edf-dbe9b4f6d0d8",
   "metadata": {},
   "source": [
    "## Modifications"
   ]
  },
  {
   "cell_type": "code",
   "execution_count": 80,
   "id": "532aa3fc-a69f-404a-b2dc-073151023793",
   "metadata": {},
   "outputs": [
    {
     "name": "stdout",
     "output_type": "stream",
     "text": [
      "+-------+-----+--------+------+-----------+\n",
      "|   date|delay|distance|origin|destination|\n",
      "+-------+-----+--------+------+-----------+\n",
      "|1011100|    2|     590|   SEA|        SFO|\n",
      "|1011125|   11|     590|   SEA|        SFO|\n",
      "+-------+-----+--------+------+-----------+\n",
      "\n"
     ]
    }
   ],
   "source": [
    "foo.show()"
   ]
  },
  {
   "cell_type": "markdown",
   "id": "bc31ec93-12bd-4653-a525-b9009497238c",
   "metadata": {},
   "source": [
    "### Añadir nueva columna "
   ]
  },
  {
   "cell_type": "code",
   "execution_count": 81,
   "id": "90967b86-bd89-4603-a9fc-e8bfbb451184",
   "metadata": {},
   "outputs": [
    {
     "name": "stdout",
     "output_type": "stream",
     "text": [
      "+-------+-----+--------+------+-----------+-------+\n",
      "|   date|delay|distance|origin|destination| status|\n",
      "+-------+-----+--------+------+-----------+-------+\n",
      "|1011100|    2|     590|   SEA|        SFO|on-time|\n",
      "|1011125|   11|     590|   SEA|        SFO|delayed|\n",
      "+-------+-----+--------+------+-----------+-------+\n",
      "\n"
     ]
    },
    {
     "data": {
      "text/plain": [
       "foo2: org.apache.spark.sql.DataFrame = [date: int, delay: int ... 4 more fields]\n"
      ]
     },
     "execution_count": 81,
     "metadata": {},
     "output_type": "execute_result"
    }
   ],
   "source": [
    "val foo2 = foo.withColumn(\"status\", expr(\"\"\"case when delay<=10 then 'on-time'\n",
    "                                               else 'delayed'\n",
    "                                            end\"\"\"))\n",
    "\n",
    "foo2.show()"
   ]
  },
  {
   "cell_type": "markdown",
   "id": "cad3ff39-64a4-4f84-892a-7fb2dd6a2283",
   "metadata": {},
   "source": [
    "### Eliminar columna"
   ]
  },
  {
   "cell_type": "code",
   "execution_count": 82,
   "id": "44660cc3-e25e-41cf-9432-016ddc4c7250",
   "metadata": {},
   "outputs": [
    {
     "name": "stdout",
     "output_type": "stream",
     "text": [
      "+-------+--------+------+-----------+-------+\n",
      "|   date|distance|origin|destination| status|\n",
      "+-------+--------+------+-----------+-------+\n",
      "|1011100|     590|   SEA|        SFO|on-time|\n",
      "|1011125|     590|   SEA|        SFO|delayed|\n",
      "+-------+--------+------+-----------+-------+\n",
      "\n"
     ]
    },
    {
     "data": {
      "text/plain": [
       "foo3: org.apache.spark.sql.DataFrame = [date: int, distance: int ... 3 more fields]\n"
      ]
     },
     "execution_count": 82,
     "metadata": {},
     "output_type": "execute_result"
    }
   ],
   "source": [
    "val foo3 = foo2.drop(\"delay\")\n",
    "foo3.show()"
   ]
  },
  {
   "cell_type": "markdown",
   "id": "8c64f001-8df5-4d34-9c00-1e7954a13046",
   "metadata": {},
   "source": [
    "### Cambiar nombre a la columna"
   ]
  },
  {
   "cell_type": "code",
   "execution_count": 84,
   "id": "d613711d-0ceb-49db-b8fb-13c5f9f6385a",
   "metadata": {},
   "outputs": [
    {
     "name": "stdout",
     "output_type": "stream",
     "text": [
      "+-------+-------+--------+------+-----------+-------+\n",
      "|   date|retraso|distance|origin|destination| status|\n",
      "+-------+-------+--------+------+-----------+-------+\n",
      "|1011100|      2|     590|   SEA|        SFO|on-time|\n",
      "|1011125|     11|     590|   SEA|        SFO|delayed|\n",
      "+-------+-------+--------+------+-----------+-------+\n",
      "\n"
     ]
    },
    {
     "data": {
      "text/plain": [
       "foo4: org.apache.spark.sql.DataFrame = [date: int, retraso: int ... 4 more fields]\n"
      ]
     },
     "execution_count": 84,
     "metadata": {},
     "output_type": "execute_result"
    }
   ],
   "source": [
    "val foo4 = foo2.withColumnRenamed(\"delay\",\"retraso\")\n",
    "foo4.show()"
   ]
  },
  {
   "cell_type": "markdown",
   "id": "9079aaf2-ee13-448c-91bd-b8240420ce72",
   "metadata": {},
   "source": [
    "### Pivoting"
   ]
  },
  {
   "cell_type": "code",
   "execution_count": 86,
   "id": "7ad33bf4-96ca-48f3-aeae-4db2f37ef545",
   "metadata": {},
   "outputs": [
    {
     "name": "stdout",
     "output_type": "stream",
     "text": [
      "+-----------+-----+-----+\n",
      "|destination|month|delay|\n",
      "+-----------+-----+-----+\n",
      "|        ORD|   10|   92|\n",
      "|        JFK|   10|   -7|\n",
      "|        DFW|   10|   -5|\n",
      "|        MIA|   10|   -3|\n",
      "|        DFW|   10|   -3|\n",
      "|        DFW|   10|    1|\n",
      "|        ORD|   10|  -10|\n",
      "|        DFW|   10|   -6|\n",
      "|        DFW|   10|   -2|\n",
      "|        ORD|   10|   -3|\n",
      "|        ORD|   10|    0|\n",
      "|        DFW|   10|   23|\n",
      "|        DFW|   10|   36|\n",
      "|        ORD|   10|  298|\n",
      "|        JFK|   10|    4|\n",
      "|        DFW|   10|    0|\n",
      "|        MIA|   10|    2|\n",
      "|        DFW|   10|    0|\n",
      "|        DFW|   10|    0|\n",
      "|        ORD|   10|   83|\n",
      "+-----------+-----+-----+\n",
      "only showing top 20 rows\n",
      "\n"
     ]
    }
   ],
   "source": [
    "spark.sql(\"\"\"select destination, cast(substring(date,0,2) as int) as month, delay\n",
    "             from delays_na \n",
    "             where origin = 'SEA'\"\"\").show()"
   ]
  },
  {
   "cell_type": "code",
   "execution_count": 89,
   "id": "80fb2b4a-cb82-43b6-9476-63de98fb3d9f",
   "metadata": {},
   "outputs": [
    {
     "name": "stdout",
     "output_type": "stream",
     "text": [
      "+-----------+------------+------------+------------+------------+\n",
      "|destination|OCT_AvgDelay|OCT_MaxDelay|NOV_AvgDelay|NOV_MaxDelay|\n",
      "+-----------+------------+------------+------------+------------+\n",
      "|        ABQ|       12.00|          27|        8.25|          21|\n",
      "|        ANC|        9.81|         149|        3.58|         106|\n",
      "|        ATL|       18.74|         397|        7.89|         201|\n",
      "|        AUS|       11.44|          50|        1.10|          31|\n",
      "|        BOS|       16.19|         110|        7.81|         110|\n",
      "|        BUR|       -4.67|           4|       -1.90|          54|\n",
      "|        CLE|       16.00|          27|        null|        null|\n",
      "|        CLT|        4.59|          41|        2.47|          33|\n",
      "|        COS|       12.56|          82|        3.90|          42|\n",
      "|        CVG|       -0.50|           4|        null|        null|\n",
      "|        DCA|        0.50|          50|       -5.26|           2|\n",
      "|        DEN|       26.99|         425|        7.69|         120|\n",
      "|        DFW|       12.00|         116|        6.08|         132|\n",
      "|        DTW|       22.09|         107|        2.84|          28|\n",
      "|        EWR|       13.61|         236|        9.76|         138|\n",
      "|        FAI|        9.27|         160|       -0.54|          28|\n",
      "|        FAT|        5.29|         119|        2.40|          88|\n",
      "|        FLL|        7.22|          46|        1.00|          33|\n",
      "|        GEG|        1.37|          48|        1.80|          63|\n",
      "|        HDN|       -3.00|          -1|       -5.33|           5|\n",
      "+-----------+------------+------------+------------+------------+\n",
      "only showing top 20 rows\n",
      "\n"
     ]
    }
   ],
   "source": [
    "spark.sql(\"\"\"SELECT * \n",
    "             FROM ( SELECT destination, CAST(SUBSTRING(date, 0, 2) AS int) AS month, delay\n",
    "                    FROM delays_na\n",
    "                    WHERE origin = 'SEA'\n",
    "                   )\n",
    "             PIVOT (\n",
    "                    CAST(AVG(delay) AS DECIMAL(4, 2)) AS AvgDelay, MAX(delay) AS MaxDelay\n",
    "                         FOR month IN (10 OCT, 11 NOV)\n",
    "                    )\n",
    "            ORDER BY destination\"\"\").show()"
   ]
  },
  {
   "cell_type": "code",
   "execution_count": null,
   "id": "f2ec4abd-74bb-42d5-abc7-5bfa9ee8cc7f",
   "metadata": {},
   "outputs": [],
   "source": []
  }
 ],
 "metadata": {
  "kernelspec": {
   "display_name": "spylon-kernel",
   "language": "scala",
   "name": "spylon-kernel"
  },
  "language_info": {
   "codemirror_mode": "text/x-scala",
   "file_extension": ".scala",
   "help_links": [
    {
     "text": "MetaKernel Magics",
     "url": "https://metakernel.readthedocs.io/en/latest/source/README.html"
    }
   ],
   "mimetype": "text/x-scala",
   "name": "scala",
   "pygments_lexer": "scala",
   "version": "0.4.1"
  }
 },
 "nbformat": 4,
 "nbformat_minor": 5
}
