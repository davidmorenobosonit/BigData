{
 "cells": [
  {
   "cell_type": "markdown",
   "id": "af9703f9-d6fa-4e03-b832-166b9854d93f",
   "metadata": {},
   "source": [
    "# SPARK SQL UDFs \n",
    "Funciones definidas por el usuario"
   ]
  },
  {
   "cell_type": "code",
   "execution_count": 3,
   "id": "616c8386-7535-4410-a5ff-e880f9e32191",
   "metadata": {},
   "outputs": [
    {
     "data": {
      "text/plain": [
       "res0: org.apache.spark.sql.SparkSession = org.apache.spark.sql.SparkSession@2f4d5c65\n"
      ]
     },
     "execution_count": 3,
     "metadata": {},
     "output_type": "execute_result"
    }
   ],
   "source": [
    "spark"
   ]
  },
  {
   "cell_type": "code",
   "execution_count": 5,
   "id": "d07db97d-ce67-4a04-9647-61cc01f73a8b",
   "metadata": {},
   "outputs": [
    {
     "data": {
      "text/plain": [
       "cubed: Long => Long = $Lambda$1999/0x0000000840c1a040@73feaadc\n"
      ]
     },
     "execution_count": 5,
     "metadata": {},
     "output_type": "execute_result"
    }
   ],
   "source": [
    "val cubed = (s: Long) => {s*s*s}"
   ]
  },
  {
   "cell_type": "code",
   "execution_count": 6,
   "id": "7ba30876-0f71-4279-87ca-28b0ef26e21c",
   "metadata": {},
   "outputs": [
    {
     "data": {
      "text/plain": [
       "res1: org.apache.spark.sql.expressions.UserDefinedFunction = SparkUserDefinedFunction($Lambda$1999/0x0000000840c1a040@73feaadc,LongType,List(Some(class[value[0]: bigint])),Some(class[value[0]: bigint]),Some(cubed),false,true)\n"
      ]
     },
     "execution_count": 6,
     "metadata": {},
     "output_type": "execute_result"
    }
   ],
   "source": [
    "spark.udf.register(\"cubed\",cubed)"
   ]
  },
  {
   "cell_type": "code",
   "execution_count": 7,
   "id": "15626882-70a0-4bd1-b5b2-62472777cb0f",
   "metadata": {},
   "outputs": [],
   "source": [
    "spark.range(1,9).createOrReplaceTempView(\"udf_test\")"
   ]
  },
  {
   "cell_type": "code",
   "execution_count": 10,
   "id": "c14a3519-c1a3-453c-89c0-dd1976645051",
   "metadata": {},
   "outputs": [
    {
     "name": "stdout",
     "output_type": "stream",
     "text": [
      "+---------+---------+-----------+\n",
      "|namespace|tableName|isTemporary|\n",
      "+---------+---------+-----------+\n",
      "|         | udf_test|       true|\n",
      "+---------+---------+-----------+\n",
      "\n"
     ]
    }
   ],
   "source": [
    "spark.sql(\"show tables\").show()"
   ]
  },
  {
   "cell_type": "code",
   "execution_count": 12,
   "id": "6dcdd95a-be3d-43b4-98d6-44198860d7f6",
   "metadata": {},
   "outputs": [
    {
     "name": "stdout",
     "output_type": "stream",
     "text": [
      "+---+----+\n",
      "| id|cubo|\n",
      "+---+----+\n",
      "|  1|   1|\n",
      "|  2|   8|\n",
      "|  3|  27|\n",
      "|  4|  64|\n",
      "|  5| 125|\n",
      "|  6| 216|\n",
      "|  7| 343|\n",
      "|  8| 512|\n",
      "+---+----+\n",
      "\n"
     ]
    }
   ],
   "source": [
    "spark.sql(\"select id, cubed(id) as cubo from udf_test\").show()"
   ]
  },
  {
   "cell_type": "markdown",
   "id": "4c55965b-a7e4-4dd5-ba6b-dd97ed4ba694",
   "metadata": {},
   "source": [
    "### Evaluación del orden y chequeo de nulos en SPARL SQL"
   ]
  },
  {
   "cell_type": "code",
   "execution_count": 15,
   "id": "92c7496b-7b23-4aca-998a-a5ae3590e94e",
   "metadata": {},
   "outputs": [
    {
     "name": "stdout",
     "output_type": "stream",
     "text": [
      "+---+\n",
      "| id|\n",
      "+---+\n",
      "|  2|\n",
      "|  3|\n",
      "|  4|\n",
      "|  5|\n",
      "|  6|\n",
      "|  7|\n",
      "|  8|\n",
      "+---+\n",
      "\n"
     ]
    }
   ],
   "source": [
    "spark.sql(\"SELECT id FROM udf_test WHERE id IS NOT NULL AND id > 1\").show()"
   ]
  },
  {
   "cell_type": "code",
   "execution_count": null,
   "id": "c15465f0-7d4b-4619-84f9-3d354b1cd2eb",
   "metadata": {},
   "outputs": [],
   "source": []
  }
 ],
 "metadata": {
  "kernelspec": {
   "display_name": "spylon-kernel",
   "language": "scala",
   "name": "spylon-kernel"
  },
  "language_info": {
   "codemirror_mode": "text/x-scala",
   "file_extension": ".scala",
   "help_links": [
    {
     "text": "MetaKernel Magics",
     "url": "https://metakernel.readthedocs.io/en/latest/source/README.html"
    }
   ],
   "mimetype": "text/x-scala",
   "name": "scala",
   "pygments_lexer": "scala",
   "version": "0.4.1"
  }
 },
 "nbformat": 4,
 "nbformat_minor": 5
}
