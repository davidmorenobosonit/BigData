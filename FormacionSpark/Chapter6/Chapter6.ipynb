{
 "cells": [
  {
   "cell_type": "markdown",
   "id": "7ad586bc-f1f7-40de-b77a-a6b236952840",
   "metadata": {},
   "source": [
    "# Scala Case Classes"
   ]
  },
  {
   "cell_type": "code",
   "execution_count": 1,
   "id": "cf776f93-48e5-4ba7-961c-52be8b9f2de7",
   "metadata": {},
   "outputs": [
    {
     "data": {
      "text/plain": [
       "Intitializing Scala interpreter ..."
      ]
     },
     "metadata": {},
     "output_type": "display_data"
    },
    {
     "data": {
      "text/plain": [
       "Spark Web UI available at http://5fcc63a3e7cf:4040\n",
       "SparkContext available as 'sc' (version = 3.2.1, master = local[*], app id = local-1656425402968)\n",
       "SparkSession available as 'spark'\n"
      ]
     },
     "metadata": {},
     "output_type": "display_data"
    },
    {
     "data": {
      "text/plain": [
       "res0: org.apache.spark.sql.SparkSession = org.apache.spark.sql.SparkSession@74ddf6d8\n"
      ]
     },
     "execution_count": 1,
     "metadata": {},
     "output_type": "execute_result"
    }
   ],
   "source": [
    "spark"
   ]
  },
  {
   "cell_type": "code",
   "execution_count": 2,
   "id": "6080e513-7686-47cc-9f1d-dc258bcdc02c",
   "metadata": {},
   "outputs": [
    {
     "data": {
      "text/plain": [
       "import spark.implicits._\n"
      ]
     },
     "execution_count": 2,
     "metadata": {},
     "output_type": "execute_result"
    }
   ],
   "source": [
    "import spark.implicits._"
   ]
  },
  {
   "cell_type": "code",
   "execution_count": 17,
   "id": "26a25d78-6e9b-439c-b6f3-5cdbe0d0d1a4",
   "metadata": {},
   "outputs": [
    {
     "data": {
      "text/plain": [
       "defined class Bloggers\n"
      ]
     },
     "execution_count": 17,
     "metadata": {},
     "output_type": "execute_result"
    }
   ],
   "source": [
    "case class Bloggers(id:BigInt, first:String, last:String, url:String,\n",
    "                    published:String, hits:BigInt, campaigns:Array[String])"
   ]
  },
  {
   "cell_type": "code",
   "execution_count": 18,
   "id": "2da92cd4-a36d-48c6-accd-900796133cf7",
   "metadata": {},
   "outputs": [
    {
     "data": {
      "text/plain": [
       "ds: org.apache.spark.sql.Dataset[Bloggers] = [Campaigns: array<string>, First: string ... 5 more fields]\n"
      ]
     },
     "execution_count": 18,
     "metadata": {},
     "output_type": "execute_result"
    }
   ],
   "source": [
    "val ds = spark.read.format(\"json\").option(\"path\",\"blogs.json\").load().as[Bloggers]"
   ]
  },
  {
   "cell_type": "code",
   "execution_count": 19,
   "id": "d9c958c9-f3a9-44fb-84ef-c98231866182",
   "metadata": {},
   "outputs": [
    {
     "name": "stdout",
     "output_type": "stream",
     "text": [
      "+----------------------------+------+----+---+-----+---------+-----------------+\n",
      "|Campaigns                   |First |Hits|Id |Last |Published|Url              |\n",
      "+----------------------------+------+----+---+-----+---------+-----------------+\n",
      "|[twitter, LinkedIn]         |Jules |4535|1  |Damji|1/4/2016 |https://tinyurl.1|\n",
      "|[twitter, LinkedIn]         |Brooke|8908|2  |Wenig|5/5/2018 |https://tinyurl.2|\n",
      "|[web, twitter, FB, LinkedIn]|Denny |7659|3  |Lee  |6/7/2019 |https://tinyurl.3|\n",
      "+----------------------------+------+----+---+-----+---------+-----------------+\n",
      "only showing top 3 rows\n",
      "\n"
     ]
    }
   ],
   "source": [
    "ds.show(3,false)"
   ]
  },
  {
   "cell_type": "code",
   "execution_count": 20,
   "id": "880c5320-b48e-4c1b-a1d9-635f6cb6f8b6",
   "metadata": {},
   "outputs": [
    {
     "data": {
      "text/plain": [
       "res3: Long = 6\n"
      ]
     },
     "execution_count": 20,
     "metadata": {},
     "output_type": "execute_result"
    }
   ],
   "source": [
    "ds.count()"
   ]
  },
  {
   "cell_type": "code",
   "execution_count": 21,
   "id": "52861736-0953-4f2b-9d43-c4964fc41cad",
   "metadata": {},
   "outputs": [
    {
     "name": "stdout",
     "output_type": "stream",
     "text": [
      "+--------------------+---------+-----+---+-------+---------+-----------------+\n",
      "|           Campaigns|    First| Hits| Id|   Last|Published|              Url|\n",
      "+--------------------+---------+-----+---+-------+---------+-----------------+\n",
      "| [twitter, LinkedIn]|    Jules| 4535|  1|  Damji| 1/4/2016|https://tinyurl.1|\n",
      "| [twitter, LinkedIn]|   Brooke| 8908|  2|  Wenig| 5/5/2018|https://tinyurl.2|\n",
      "|[web, twitter, FB...|    Denny| 7659|  3|    Lee| 6/7/2019|https://tinyurl.3|\n",
      "|       [twitter, FB]|Tathagata|10568|  4|    Das|5/12/2018|https://tinyurl.4|\n",
      "|[web, twitter, FB...|    Matei|40578|  5|Zaharia|5/14/2014|https://tinyurl.5|\n",
      "| [twitter, LinkedIn]|  Reynold|25568|  6|    Xin| 3/2/2015|https://tinyurl.6|\n",
      "+--------------------+---------+-----+---+-------+---------+-----------------+\n",
      "\n"
     ]
    }
   ],
   "source": [
    "ds.show(10)"
   ]
  },
  {
   "cell_type": "markdown",
   "id": "46a09e8e-e98b-4941-ac18-5dd55758c82b",
   "metadata": {},
   "source": [
    "# Working with DataSets"
   ]
  },
  {
   "cell_type": "markdown",
   "id": "1fb8bfb2-e843-47a6-bc87-5307c02dc2dd",
   "metadata": {},
   "source": [
    "## Creating Sample Data"
   ]
  },
  {
   "cell_type": "code",
   "execution_count": 23,
   "id": "9a5c812e-10e6-46c0-b310-ca6a9bcb49c1",
   "metadata": {},
   "outputs": [
    {
     "data": {
      "text/plain": [
       "import scala.util.Random._\n"
      ]
     },
     "execution_count": 23,
     "metadata": {},
     "output_type": "execute_result"
    }
   ],
   "source": [
    "import scala.util.Random._"
   ]
  },
  {
   "cell_type": "code",
   "execution_count": 24,
   "id": "124b8153-1d45-4c4c-8fe1-141c2bf8c9b3",
   "metadata": {},
   "outputs": [
    {
     "data": {
      "text/plain": [
       "defined class Usage\n"
      ]
     },
     "execution_count": 24,
     "metadata": {},
     "output_type": "execute_result"
    }
   ],
   "source": [
    "case class Usage(uuid:Int, uname:String, usage:Int)"
   ]
  },
  {
   "cell_type": "code",
   "execution_count": 25,
   "id": "f4f4a994-2532-4fc5-9856-368e919c99dd",
   "metadata": {},
   "outputs": [
    {
     "data": {
      "text/plain": [
       "r: scala.util.Random = scala.util.Random@725cfe6f\n"
      ]
     },
     "execution_count": 25,
     "metadata": {},
     "output_type": "execute_result"
    }
   ],
   "source": [
    "val r = new scala.util.Random(42)"
   ]
  },
  {
   "cell_type": "code",
   "execution_count": 28,
   "id": "5de84d50-c123-48e9-922f-3532730f14d4",
   "metadata": {},
   "outputs": [
    {
     "data": {
      "text/plain": [
       "data: scala.collection.immutable.IndexedSeq[Usage] = Vector(Usage(0,user-Gpi2C,525), Usage(1,user-DgXDi,502), Usage(2,user-M66yO,170), Usage(3,user-xTOn6,913), Usage(4,user-3xGSz,246), Usage(5,user-2aWRN,727), Usage(6,user-EzZY1,65), Usage(7,user-ZlZMZ,935), Usage(8,user-VjxeG,756), Usage(9,user-iqf1P,3), Usage(10,user-91S1q,794), Usage(11,user-qHNj0,501), Usage(12,user-7hb94,460), Usage(13,user-bz0WF,142), Usage(14,user-71nwy,479), Usage(15,user-7GZz1,823), Usage(16,user-1CSk6,140), Usage(17,user-WPzlL,246), Usage(18,user-VaEit,451), Usage(19,user-PSaRq,679), Usage(20,user-0Kkzu,332), Usage(21,user-UN3MG,172), Usage(22,user-KwwER,442), Usage(23,user-ZnltJ,923), Usage(24,user-IRA17,741), Usage(25,user-yNHRT,299), Usage(26,user-CJY3C,996), Usage(27,user-Yq9WW,529), Usage(28,user-RFWw1,30...\n"
      ]
     },
     "execution_count": 28,
     "metadata": {},
     "output_type": "execute_result"
    }
   ],
   "source": [
    "// Vamos a crear mil observaciones\n",
    "val data = for (i <- 0 to 1000)\n",
    "    yield (Usage(i, \"user-\" + r.alphanumeric.take(5).mkString(\"\"),r.nextInt(1000)))"
   ]
  },
  {
   "cell_type": "code",
   "execution_count": 29,
   "id": "1c560407-a56d-4443-a57f-e639d6dca957",
   "metadata": {},
   "outputs": [
    {
     "name": "stdout",
     "output_type": "stream",
     "text": [
      "+----+----------+-----+\n",
      "|uuid|     uname|usage|\n",
      "+----+----------+-----+\n",
      "|   0|user-Gpi2C|  525|\n",
      "|   1|user-DgXDi|  502|\n",
      "|   2|user-M66yO|  170|\n",
      "|   3|user-xTOn6|  913|\n",
      "|   4|user-3xGSz|  246|\n",
      "|   5|user-2aWRN|  727|\n",
      "|   6|user-EzZY1|   65|\n",
      "|   7|user-ZlZMZ|  935|\n",
      "|   8|user-VjxeG|  756|\n",
      "|   9|user-iqf1P|    3|\n",
      "|  10|user-91S1q|  794|\n",
      "|  11|user-qHNj0|  501|\n",
      "|  12|user-7hb94|  460|\n",
      "|  13|user-bz0WF|  142|\n",
      "|  14|user-71nwy|  479|\n",
      "|  15|user-7GZz1|  823|\n",
      "|  16|user-1CSk6|  140|\n",
      "|  17|user-WPzlL|  246|\n",
      "|  18|user-VaEit|  451|\n",
      "|  19|user-PSaRq|  679|\n",
      "+----+----------+-----+\n",
      "only showing top 20 rows\n",
      "\n"
     ]
    },
    {
     "data": {
      "text/plain": [
       "dsUsage: org.apache.spark.sql.Dataset[Usage] = [uuid: int, uname: string ... 1 more field]\n"
      ]
     },
     "execution_count": 29,
     "metadata": {},
     "output_type": "execute_result"
    }
   ],
   "source": [
    "val dsUsage = spark.createDataset(data)\n",
    "dsUsage.show()"
   ]
  },
  {
   "cell_type": "markdown",
   "id": "aa388cee-678d-4897-bdc1-ee558db1e7eb",
   "metadata": {},
   "source": [
    "## Transforming Sample Data"
   ]
  },
  {
   "cell_type": "markdown",
   "id": "633a5cfb-b152-4bdc-ae52-359e46b65564",
   "metadata": {},
   "source": [
    "### Higher-order functions and functional programming"
   ]
  },
  {
   "cell_type": "code",
   "execution_count": 30,
   "id": "98be808f-3e8c-4007-9553-e11f05418f0d",
   "metadata": {},
   "outputs": [
    {
     "data": {
      "text/plain": [
       "import org.apache.spark.sql.functions._\n"
      ]
     },
     "execution_count": 30,
     "metadata": {},
     "output_type": "execute_result"
    }
   ],
   "source": [
    "import org.apache.spark.sql.functions._"
   ]
  },
  {
   "cell_type": "code",
   "execution_count": 34,
   "id": "6e19c16d-7baf-4a4c-bf38-99f7ef6931ff",
   "metadata": {},
   "outputs": [
    {
     "name": "stdout",
     "output_type": "stream",
     "text": [
      "+----+----------+-----+\n",
      "|uuid|uname     |usage|\n",
      "+----+----------+-----+\n",
      "|634 |user-L0wci|999  |\n",
      "|113 |user-nnAXr|999  |\n",
      "|605 |user-NL6c4|999  |\n",
      "|561 |user-5n2xY|999  |\n",
      "|345 |user-QKrVb|996  |\n",
      "+----+----------+-----+\n",
      "only showing top 5 rows\n",
      "\n"
     ]
    }
   ],
   "source": [
    "//dsUsage.filter(col(\"usage\")>500).show(3)\n",
    "dsUsage.filter(col(\"usage\")>900)\n",
    "       .orderBy(desc(\"usage\"))\n",
    "       .show(5,false)"
   ]
  },
  {
   "cell_type": "code",
   "execution_count": 36,
   "id": "b5e2fdda-7970-4e43-b5dc-b28bd2eca596",
   "metadata": {},
   "outputs": [],
   "source": [
    "// Mirar esta parte en INTELIJ"
   ]
  },
  {
   "cell_type": "markdown",
   "id": "fe3b2894-798e-462b-8f3e-8e1323cb5a57",
   "metadata": {},
   "source": [
    "### Converting DataFrames to Datasets"
   ]
  },
  {
   "cell_type": "code",
   "execution_count": 39,
   "id": "497f3464-dce5-4fd7-9d15-ac386c87b8ff",
   "metadata": {},
   "outputs": [],
   "source": [
    "// simplemente es df.as[NOMBRECLASE]"
   ]
  },
  {
   "cell_type": "markdown",
   "id": "9932ae03-ccec-4558-9161-b53f07e86ae2",
   "metadata": {},
   "source": [
    "# Gestion de la memoria para DataSets y DataFrames"
   ]
  },
  {
   "cell_type": "code",
   "execution_count": null,
   "id": "ab2b0cfe-13f0-4155-86eb-769d6a09f1f3",
   "metadata": {},
   "outputs": [],
   "source": []
  }
 ],
 "metadata": {
  "kernelspec": {
   "display_name": "spylon-kernel",
   "language": "scala",
   "name": "spylon-kernel"
  },
  "language_info": {
   "codemirror_mode": "text/x-scala",
   "file_extension": ".scala",
   "help_links": [
    {
     "text": "MetaKernel Magics",
     "url": "https://metakernel.readthedocs.io/en/latest/source/README.html"
    }
   ],
   "mimetype": "text/x-scala",
   "name": "scala",
   "pygments_lexer": "scala",
   "version": "0.4.1"
  }
 },
 "nbformat": 4,
 "nbformat_minor": 5
}
